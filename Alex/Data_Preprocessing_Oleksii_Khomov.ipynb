{
 "cells": [
  {
   "cell_type": "code",
   "execution_count": 2,
   "metadata": {},
   "outputs": [],
   "source": [
    "import numpy as np\n",
    "import pandas as pd\n",
    "from sklearn.linear_model import LinearRegression\n",
    "from matplotlib import pyplot as plt\n",
    "%matplotlib inline\n",
    "import seaborn as sns\n",
    "plt.style.use('ggplot')\n",
    "from sklearn.preprocessing import OneHotEncoder\n",
    "from sklearn.impute import SimpleImputer\n",
    "from sklearn.preprocessing import MinMaxScaler\n",
    "from sklearn.preprocessing import StandardScaler"
   ]
  },
  {
   "cell_type": "code",
   "execution_count": 3,
   "metadata": {},
   "outputs": [],
   "source": [
    "model_train = pd.read_csv('Model Train.csv', index_col= 0).set_index(['Id']).iloc[:,-23:-1]\n",
    "model_test = pd.read_csv('Model Test.csv', index_col = 0).set_index(['Id']).iloc[:,-23:-1]\n",
    "kaggle_test = pd.read_csv('Kaggle_test.csv', index_col = 0).iloc[:,-22:]"
   ]
  },
  {
   "cell_type": "markdown",
   "metadata": {},
   "source": [
    "### Categorical vs Continuous (Numerical)"
   ]
  },
  {
   "cell_type": "code",
   "execution_count": 4,
   "metadata": {},
   "outputs": [],
   "source": [
    "cat = ['GarageType','GarageFinish','PavedDrive', 'Fence','MiscFeature','MoSold','SaleType', 'SaleCondition']\n",
    "numeric = ['GarageAge', 'GarageCars', 'WoodDeckSF','TotalPorch','MiscVal','YrSold','GarageQual']\n",
    "# ordinal = 'GarageQual'\n",
    "\n",
    "\n"
   ]
  },
  {
   "cell_type": "markdown",
   "metadata": {},
   "source": [
    "### Imputations and Substitues"
   ]
  },
  {
   "cell_type": "markdown",
   "metadata": {},
   "source": [
    "#### GarageType"
   ]
  },
  {
   "cell_type": "code",
   "execution_count": 5,
   "metadata": {},
   "outputs": [],
   "source": [
    "model_train['GarageType'] = model_train['GarageType'].fillna('NoGarage')\n",
    "model_test['GarageType'] = model_test['GarageType'].fillna('NoGarage')\n",
    "kaggle_test['GarageType'] = kaggle_test['GarageType'].fillna('NoGarage')"
   ]
  },
  {
   "cell_type": "markdown",
   "metadata": {},
   "source": [
    "#### GarageFinish"
   ]
  },
  {
   "cell_type": "code",
   "execution_count": 6,
   "metadata": {},
   "outputs": [],
   "source": [
    "model_train['GarageFinish'] = model_train['GarageFinish'].fillna('NoFinish')\n",
    "model_test['GarageFinish'] = model_test['GarageFinish'].fillna('NoFinish')\n",
    "kaggle_test['GarageFinish'] = kaggle_test['GarageFinish'].fillna('NoFinish')"
   ]
  },
  {
   "cell_type": "markdown",
   "metadata": {},
   "source": [
    "#### Fence"
   ]
  },
  {
   "cell_type": "code",
   "execution_count": 7,
   "metadata": {},
   "outputs": [],
   "source": [
    "model_train['Fence'] = model_train['Fence'].fillna('NoFence')\n",
    "model_test['Fence'] = model_test['Fence'].fillna('NoFence')\n",
    "kaggle_test['Fence'] = kaggle_test['Fence'].fillna('NoFence')"
   ]
  },
  {
   "cell_type": "markdown",
   "metadata": {},
   "source": [
    "#### MiscFeatures"
   ]
  },
  {
   "cell_type": "code",
   "execution_count": 8,
   "metadata": {},
   "outputs": [],
   "source": [
    "model_train['MiscFeature'] = model_train['MiscFeature'].fillna('NoFeature')\n",
    "model_test['MiscFeature'] = model_test['MiscFeature'].fillna('NoFeature')\n",
    "kaggle_test['MiscFeature'] = kaggle_test['MiscFeature'].fillna('NoFeature')"
   ]
  },
  {
   "cell_type": "markdown",
   "metadata": {},
   "source": [
    "#### GarageYrBlt"
   ]
  },
  {
   "cell_type": "code",
   "execution_count": 9,
   "metadata": {},
   "outputs": [],
   "source": [
    "gar_yr_imp = SimpleImputer(strategy='mean')\n",
    "gar_yr_imp = gar_yr_imp.fit(model_train[['GarageYrBlt']])\n",
    "\n",
    "\n",
    "\n",
    "model_train[['GarageYrBlt']] = pd.DataFrame(gar_yr_imp.transform(model_train[['GarageYrBlt']]), columns=['GarageYrBlt'],index = model_train[['GarageYrBlt']].index)\n",
    "model_test[['GarageYrBlt']]  = pd.DataFrame(gar_yr_imp.transform(model_test[['GarageYrBlt']]), columns=['GarageYrBlt'],index = model_test[['GarageYrBlt']].index)\n",
    "kaggle_test[['GarageYrBlt']] = pd.DataFrame(gar_yr_imp.transform(kaggle_test[['GarageYrBlt']]), columns=['GarageYrBlt'],index = kaggle_test[['GarageYrBlt']].index)\n"
   ]
  },
  {
   "cell_type": "markdown",
   "metadata": {},
   "source": [
    "#### Garage Quality"
   ]
  },
  {
   "cell_type": "code",
   "execution_count": 10,
   "metadata": {},
   "outputs": [],
   "source": [
    "gar_qual_imp = SimpleImputer(strategy='most_frequent')\n",
    "gar_qual_imp = gar_qual_imp.fit(model_train[['GarageQual']])\n",
    "\n",
    "model_train[['GarageQual']] = pd.DataFrame(gar_qual_imp.transform(model_train[['GarageQual']]), columns=['GarageQual'], index = model_train[['GarageQual']].index)\n",
    "model_test[['GarageQual']] = pd.DataFrame(gar_qual_imp.transform(model_test[['GarageQual']]), columns=['GarageQual'], index = model_test[['GarageQual']].index)\n",
    "kaggle_test[['GarageQual']] = pd.DataFrame(gar_qual_imp.transform(kaggle_test[['GarageQual']]), columns=['GarageQual'], index = kaggle_test[['GarageQual']].index)\n"
   ]
  },
  {
   "cell_type": "code",
   "execution_count": 11,
   "metadata": {},
   "outputs": [],
   "source": [
    "model_train['GarageQual'] = model_train['GarageQual'].replace({'Po':1, 'Fa':2, 'TA': 3, 'Gd': 4, 'Ex':5})\n",
    "model_test['GarageQual'] = model_test['GarageQual'].replace('Po',1).replace('Fa',2).replace('TA',3).replace('Gd', 4).replace('Ex',5)\n",
    "kaggle_test['GarageQual'] = kaggle_test['GarageQual'].replace('Po',1).replace('Fa',2).replace('TA',3).replace('Gd', 4).replace('Ex',5)\n"
   ]
  },
  {
   "cell_type": "markdown",
   "metadata": {},
   "source": [
    "### Create New Columns"
   ]
  },
  {
   "cell_type": "markdown",
   "metadata": {},
   "source": [
    "#### GarageAge"
   ]
  },
  {
   "cell_type": "code",
   "execution_count": 12,
   "metadata": {},
   "outputs": [],
   "source": [
    "model_train['GarageAge'] = model_train['YrSold'] - model_train['GarageYrBlt']\n",
    "model_test['GarageAge'] = model_test['YrSold'] - model_test['GarageYrBlt']\n",
    "kaggle_test['GarageAge'] = np.abs(kaggle_test['YrSold'] - kaggle_test['GarageYrBlt'])"
   ]
  },
  {
   "cell_type": "markdown",
   "metadata": {},
   "source": [
    "#### TotalPorch"
   ]
  },
  {
   "cell_type": "code",
   "execution_count": 13,
   "metadata": {},
   "outputs": [],
   "source": [
    "model_train['TotalPorch'] = model_train['OpenPorchSF'] + model_train['EnclosedPorch'] + model_train['3SsnPorch'] + model_train['ScreenPorch']\n",
    "model_test['TotalPorch'] = model_test['OpenPorchSF'] + model_test['EnclosedPorch'] + model_test['3SsnPorch'] + model_test['ScreenPorch']\n",
    "kaggle_test['TotalPorch'] = kaggle_test['OpenPorchSF'] +  kaggle_test['EnclosedPorch'] + kaggle_test['3SsnPorch'] + kaggle_test['ScreenPorch']\n"
   ]
  },
  {
   "cell_type": "code",
   "execution_count": 14,
   "metadata": {},
   "outputs": [],
   "source": [
    "model_train = model_train.drop(['OpenPorchSF','EnclosedPorch','3SsnPorch','ScreenPorch'], axis = 1)\n",
    "model_test = model_test.drop(['OpenPorchSF','EnclosedPorch','3SsnPorch','ScreenPorch'], axis = 1)\n",
    "kaggle_test = kaggle_test.drop(['OpenPorchSF','EnclosedPorch','3SsnPorch','ScreenPorch'], axis = 1)\n"
   ]
  },
  {
   "cell_type": "markdown",
   "metadata": {},
   "source": [
    "### Variable Transformations (log,log^2, sqrt)"
   ]
  },
  {
   "cell_type": "code",
   "execution_count": 15,
   "metadata": {},
   "outputs": [],
   "source": [
    "model_train['GarageAge'] = np.log(model_train['GarageAge']+1)\n",
    "model_test['GarageAge'] = np.log(model_test['GarageAge']+1)\n",
    "kaggle_test['GarageAge'] = np.log(kaggle_test['GarageAge']+1)"
   ]
  },
  {
   "cell_type": "code",
   "execution_count": 16,
   "metadata": {},
   "outputs": [],
   "source": [
    "# model_train[['EnclosedPorch','MiscVal']] = np.sqrt(model_train[['EnclosedPorch','MiscVal']])\n",
    "# model_test[['EnclosedPorch','MiscVal']] = np.sqrt(model_test[['EnclosedPorch','MiscVal']])\n",
    "# kaggle_test[['EnclosedPorch','MiscVal']] = np.sqrt(kaggle_test[['EnclosedPorch','MiscVal']])"
   ]
  },
  {
   "cell_type": "code",
   "execution_count": 17,
   "metadata": {},
   "outputs": [],
   "source": [
    "model_train[['MiscVal']] = np.sqrt(model_train[['MiscVal']])\n",
    "model_test[['MiscVal']] = np.sqrt(model_test[['MiscVal']])\n",
    "kaggle_test[['MiscVal']] = np.sqrt(kaggle_test[['MiscVal']])"
   ]
  },
  {
   "cell_type": "code",
   "execution_count": 18,
   "metadata": {},
   "outputs": [],
   "source": [
    "model_train[['TotalPorch']] = np.log(model_train[['TotalPorch']]+1)\n",
    "model_test[['TotalPorch']] = np.log(model_test[['TotalPorch']]+1)\n",
    "kaggle_test[['TotalPorch']] = np.log(kaggle_test[['TotalPorch']]+1)"
   ]
  },
  {
   "cell_type": "code",
   "execution_count": 19,
   "metadata": {},
   "outputs": [],
   "source": [
    "model_train[['WoodDeckSF']] = np.log(model_train[['WoodDeckSF']]+1)**2\n",
    "model_test[['WoodDeckSF']] = np.log(model_test[['WoodDeckSF']]+1)**2\n",
    "kaggle_test[['WoodDeckSF']] = np.log(kaggle_test[['WoodDeckSF']]+1)**2"
   ]
  },
  {
   "cell_type": "markdown",
   "metadata": {},
   "source": [
    "### Handling NAs in Kaggle Dataset"
   ]
  },
  {
   "cell_type": "code",
   "execution_count": 20,
   "metadata": {},
   "outputs": [],
   "source": [
    "for i in kaggle_test.columns:\n",
    "    if i in cat:\n",
    "        kaggle_test[i] = kaggle_test[i].fillna(kaggle_test[i].value_counts().index[0])\n",
    "    elif i in numeric:\n",
    "        kaggle_test[i] = kaggle_test[i].fillna(kaggle_test[i].mean())\n",
    "    else:\n",
    "        continue"
   ]
  },
  {
   "cell_type": "code",
   "execution_count": null,
   "metadata": {},
   "outputs": [],
   "source": []
  },
  {
   "cell_type": "markdown",
   "metadata": {},
   "source": [
    "### One Hot Encoding"
   ]
  },
  {
   "cell_type": "code",
   "execution_count": 21,
   "metadata": {},
   "outputs": [],
   "source": [
    "full_train = pd.concat([model_train, model_test])\n",
    "\n",
    "drop_col = [full_train[i].value_counts().index[0] for i in cat]\n",
    "\n",
    "cat_ohe = OneHotEncoder(categories = 'auto', drop = drop_col, sparse = False )\n",
    "\n",
    "cat_ohe = cat_ohe.fit(full_train[cat])\n"
   ]
  },
  {
   "cell_type": "code",
   "execution_count": 22,
   "metadata": {},
   "outputs": [],
   "source": [
    "model_train = pd.concat([model_train, pd.DataFrame(cat_ohe.transform(model_train[cat]), columns = cat_ohe.get_feature_names(cat), index = model_train.index)], axis =1)\n",
    "model_test = pd.concat([model_test, pd.DataFrame(cat_ohe.transform(model_test[cat]), columns = cat_ohe.get_feature_names(cat), index = model_test.index)], axis = 1)\n",
    "kaggle_test = pd.concat([kaggle_test, pd.DataFrame(cat_ohe.transform(kaggle_test[cat]), columns = cat_ohe.get_feature_names(cat), index = kaggle_test.index)], axis =1)\n",
    "\n"
   ]
  },
  {
   "cell_type": "code",
   "execution_count": 23,
   "metadata": {},
   "outputs": [],
   "source": [
    "model_train = model_train.drop(cat, axis = 1 )\n",
    "model_test = model_test.drop(cat, axis = 1)\n",
    "kaggle_test = kaggle_test.drop(cat, axis =  1)"
   ]
  },
  {
   "cell_type": "markdown",
   "metadata": {},
   "source": [
    "### Scaling (Standartization)"
   ]
  },
  {
   "cell_type": "markdown",
   "metadata": {},
   "source": [
    "#### Ordinal (min-max scaler)"
   ]
  },
  {
   "cell_type": "code",
   "execution_count": 24,
   "metadata": {},
   "outputs": [],
   "source": [
    "# ord_scl = MinMaxScaler()\n",
    "# ord_scl = ord_scl.fit(model_train[['GarageQual']])\n",
    "\n",
    "# model_train[['GarageQual']] = pd.DataFrame(ord_scl.transform(model_train[['GarageQual']]), columns=['GarageQual'], index = model_train[['GarageQual']].index)\n",
    "# model_test[['GarageQual']] = pd.DataFrame(ord_scl.transform(model_test[['GarageQual']]), columns=['GarageQual'], index = model_test[['GarageQual']].index)\n",
    "# kaggle_test[['GarageQual']] = pd.DataFrame(ord_scl.transform(kaggle_test[['GarageQual']]), columns=['GarageQual'], index = kaggle_test[['GarageQual']].index)\n"
   ]
  },
  {
   "cell_type": "markdown",
   "metadata": {},
   "source": [
    "#### Numeric (standard scaler)"
   ]
  },
  {
   "cell_type": "code",
   "execution_count": 25,
   "metadata": {},
   "outputs": [],
   "source": [
    "numeric_scl = StandardScaler()\n",
    "numeric_scl = numeric_scl.fit(model_train[numeric])\n",
    "\n",
    "model_train[numeric] = pd.DataFrame(numeric_scl.transform(model_train[numeric]), columns=numeric, index = model_train[numeric].index)\n",
    "model_test[numeric] = pd.DataFrame(numeric_scl.transform(model_test[numeric]), columns=numeric, index = model_test[numeric].index)\n",
    "kaggle_test[numeric] = pd.DataFrame(numeric_scl.transform(kaggle_test[numeric]), columns=numeric, index = kaggle_test[numeric].index)\n",
    "\n"
   ]
  },
  {
   "cell_type": "code",
   "execution_count": 27,
   "metadata": {},
   "outputs": [
    {
     "data": {
      "text/plain": [
       "['GarageAge',\n",
       " 'GarageCars',\n",
       " 'WoodDeckSF',\n",
       " 'TotalPorch',\n",
       " 'MiscVal',\n",
       " 'YrSold',\n",
       " 'GarageQual']"
      ]
     },
     "execution_count": 27,
     "metadata": {},
     "output_type": "execute_result"
    }
   ],
   "source": [
    "numeric"
   ]
  },
  {
   "cell_type": "code",
   "execution_count": 26,
   "metadata": {},
   "outputs": [
    {
     "data": {
      "text/plain": [
       "array([ 1.24762129,  0.74586759, 13.96993207,  2.2122882 ,  6.63836321,\n",
       "        1.33154647,  0.24119991])"
      ]
     },
     "execution_count": 26,
     "metadata": {},
     "output_type": "execute_result"
    }
   ],
   "source": [
    "numeric_scl.scale_"
   ]
  },
  {
   "cell_type": "markdown",
   "metadata": {},
   "source": [
    "### Drop Unnecessary Columns"
   ]
  },
  {
   "cell_type": "code",
   "execution_count": 710,
   "metadata": {},
   "outputs": [],
   "source": [
    "model_train = model_train.drop(['PoolArea','PoolQC','GarageArea','GarageCond','GarageYrBlt'], axis = 1 )\n",
    "model_test = model_test.drop(['PoolArea','PoolQC','GarageArea','GarageCond','GarageYrBlt'], axis = 1)\n",
    "kaggle_test = kaggle_test.drop(['PoolArea','PoolQC','GarageArea','GarageCond','GarageYrBlt'], axis = 1)"
   ]
  },
  {
   "cell_type": "code",
   "execution_count": 712,
   "metadata": {},
   "outputs": [
    {
     "data": {
      "text/html": [
       "<div>\n",
       "<style scoped>\n",
       "    .dataframe tbody tr th:only-of-type {\n",
       "        vertical-align: middle;\n",
       "    }\n",
       "\n",
       "    .dataframe tbody tr th {\n",
       "        vertical-align: top;\n",
       "    }\n",
       "\n",
       "    .dataframe thead th {\n",
       "        text-align: right;\n",
       "    }\n",
       "</style>\n",
       "<table border=\"1\" class=\"dataframe\">\n",
       "  <thead>\n",
       "    <tr style=\"text-align: right;\">\n",
       "      <th></th>\n",
       "      <th>GarageCars</th>\n",
       "      <th>GarageQual</th>\n",
       "      <th>WoodDeckSF</th>\n",
       "      <th>MiscVal</th>\n",
       "      <th>YrSold</th>\n",
       "      <th>GarageAge</th>\n",
       "      <th>TotalPorch</th>\n",
       "      <th>GarageType_2Types</th>\n",
       "      <th>GarageType_Basment</th>\n",
       "      <th>GarageType_BuiltIn</th>\n",
       "      <th>...</th>\n",
       "      <th>SaleType_ConLD</th>\n",
       "      <th>SaleType_ConLI</th>\n",
       "      <th>SaleType_ConLw</th>\n",
       "      <th>SaleType_New</th>\n",
       "      <th>SaleType_Oth</th>\n",
       "      <th>SaleCondition_Abnorml</th>\n",
       "      <th>SaleCondition_AdjLand</th>\n",
       "      <th>SaleCondition_Alloca</th>\n",
       "      <th>SaleCondition_Family</th>\n",
       "      <th>SaleCondition_Partial</th>\n",
       "    </tr>\n",
       "    <tr>\n",
       "      <th>Id</th>\n",
       "      <th></th>\n",
       "      <th></th>\n",
       "      <th></th>\n",
       "      <th></th>\n",
       "      <th></th>\n",
       "      <th></th>\n",
       "      <th></th>\n",
       "      <th></th>\n",
       "      <th></th>\n",
       "      <th></th>\n",
       "      <th></th>\n",
       "      <th></th>\n",
       "      <th></th>\n",
       "      <th></th>\n",
       "      <th></th>\n",
       "      <th></th>\n",
       "      <th></th>\n",
       "      <th></th>\n",
       "      <th></th>\n",
       "      <th></th>\n",
       "      <th></th>\n",
       "    </tr>\n",
       "  </thead>\n",
       "  <tbody>\n",
       "    <tr>\n",
       "      <td>134</td>\n",
       "      <td>0.301892</td>\n",
       "      <td>0.124236</td>\n",
       "      <td>1.069027</td>\n",
       "      <td>-0.156629</td>\n",
       "      <td>0.896964</td>\n",
       "      <td>-0.550922</td>\n",
       "      <td>0.063557</td>\n",
       "      <td>0.0</td>\n",
       "      <td>0.0</td>\n",
       "      <td>0.0</td>\n",
       "      <td>...</td>\n",
       "      <td>0.0</td>\n",
       "      <td>0.0</td>\n",
       "      <td>0.0</td>\n",
       "      <td>0.0</td>\n",
       "      <td>0.0</td>\n",
       "      <td>0.0</td>\n",
       "      <td>0.0</td>\n",
       "      <td>0.0</td>\n",
       "      <td>0.0</td>\n",
       "      <td>0.0</td>\n",
       "    </tr>\n",
       "    <tr>\n",
       "      <td>291</td>\n",
       "      <td>0.301892</td>\n",
       "      <td>4.270175</td>\n",
       "      <td>-0.913510</td>\n",
       "      <td>-0.156629</td>\n",
       "      <td>-1.356055</td>\n",
       "      <td>-2.312053</td>\n",
       "      <td>0.376874</td>\n",
       "      <td>0.0</td>\n",
       "      <td>0.0</td>\n",
       "      <td>0.0</td>\n",
       "      <td>...</td>\n",
       "      <td>0.0</td>\n",
       "      <td>0.0</td>\n",
       "      <td>0.0</td>\n",
       "      <td>1.0</td>\n",
       "      <td>0.0</td>\n",
       "      <td>0.0</td>\n",
       "      <td>0.0</td>\n",
       "      <td>0.0</td>\n",
       "      <td>0.0</td>\n",
       "      <td>1.0</td>\n",
       "    </tr>\n",
       "    <tr>\n",
       "      <td>25</td>\n",
       "      <td>-1.038829</td>\n",
       "      <td>0.124236</td>\n",
       "      <td>1.671029</td>\n",
       "      <td>-0.156629</td>\n",
       "      <td>1.647971</td>\n",
       "      <td>0.702644</td>\n",
       "      <td>0.629832</td>\n",
       "      <td>0.0</td>\n",
       "      <td>0.0</td>\n",
       "      <td>0.0</td>\n",
       "      <td>...</td>\n",
       "      <td>0.0</td>\n",
       "      <td>0.0</td>\n",
       "      <td>0.0</td>\n",
       "      <td>0.0</td>\n",
       "      <td>0.0</td>\n",
       "      <td>0.0</td>\n",
       "      <td>0.0</td>\n",
       "      <td>0.0</td>\n",
       "      <td>0.0</td>\n",
       "      <td>0.0</td>\n",
       "    </tr>\n",
       "    <tr>\n",
       "      <td>1094</td>\n",
       "      <td>0.301892</td>\n",
       "      <td>0.124236</td>\n",
       "      <td>-0.913510</td>\n",
       "      <td>-0.156629</td>\n",
       "      <td>-1.356055</td>\n",
       "      <td>0.414093</td>\n",
       "      <td>0.477739</td>\n",
       "      <td>0.0</td>\n",
       "      <td>0.0</td>\n",
       "      <td>0.0</td>\n",
       "      <td>...</td>\n",
       "      <td>0.0</td>\n",
       "      <td>0.0</td>\n",
       "      <td>0.0</td>\n",
       "      <td>0.0</td>\n",
       "      <td>0.0</td>\n",
       "      <td>0.0</td>\n",
       "      <td>0.0</td>\n",
       "      <td>0.0</td>\n",
       "      <td>0.0</td>\n",
       "      <td>0.0</td>\n",
       "    </tr>\n",
       "    <tr>\n",
       "      <td>1289</td>\n",
       "      <td>0.301892</td>\n",
       "      <td>0.124236</td>\n",
       "      <td>1.144013</td>\n",
       "      <td>-0.156629</td>\n",
       "      <td>0.896964</td>\n",
       "      <td>-0.466473</td>\n",
       "      <td>0.441558</td>\n",
       "      <td>0.0</td>\n",
       "      <td>0.0</td>\n",
       "      <td>0.0</td>\n",
       "      <td>...</td>\n",
       "      <td>0.0</td>\n",
       "      <td>0.0</td>\n",
       "      <td>0.0</td>\n",
       "      <td>0.0</td>\n",
       "      <td>0.0</td>\n",
       "      <td>0.0</td>\n",
       "      <td>0.0</td>\n",
       "      <td>0.0</td>\n",
       "      <td>0.0</td>\n",
       "      <td>0.0</td>\n",
       "    </tr>\n",
       "  </tbody>\n",
       "</table>\n",
       "<p>5 rows × 50 columns</p>\n",
       "</div>"
      ],
      "text/plain": [
       "      GarageCars  GarageQual  WoodDeckSF   MiscVal    YrSold  GarageAge  \\\n",
       "Id                                                                        \n",
       "134     0.301892    0.124236    1.069027 -0.156629  0.896964  -0.550922   \n",
       "291     0.301892    4.270175   -0.913510 -0.156629 -1.356055  -2.312053   \n",
       "25     -1.038829    0.124236    1.671029 -0.156629  1.647971   0.702644   \n",
       "1094    0.301892    0.124236   -0.913510 -0.156629 -1.356055   0.414093   \n",
       "1289    0.301892    0.124236    1.144013 -0.156629  0.896964  -0.466473   \n",
       "\n",
       "      TotalPorch  GarageType_2Types  GarageType_Basment  GarageType_BuiltIn  \\\n",
       "Id                                                                            \n",
       "134     0.063557                0.0                 0.0                 0.0   \n",
       "291     0.376874                0.0                 0.0                 0.0   \n",
       "25      0.629832                0.0                 0.0                 0.0   \n",
       "1094    0.477739                0.0                 0.0                 0.0   \n",
       "1289    0.441558                0.0                 0.0                 0.0   \n",
       "\n",
       "      ...  SaleType_ConLD  SaleType_ConLI  SaleType_ConLw  SaleType_New  \\\n",
       "Id    ...                                                                 \n",
       "134   ...             0.0             0.0             0.0           0.0   \n",
       "291   ...             0.0             0.0             0.0           1.0   \n",
       "25    ...             0.0             0.0             0.0           0.0   \n",
       "1094  ...             0.0             0.0             0.0           0.0   \n",
       "1289  ...             0.0             0.0             0.0           0.0   \n",
       "\n",
       "      SaleType_Oth  SaleCondition_Abnorml  SaleCondition_AdjLand  \\\n",
       "Id                                                                 \n",
       "134            0.0                    0.0                    0.0   \n",
       "291            0.0                    0.0                    0.0   \n",
       "25             0.0                    0.0                    0.0   \n",
       "1094           0.0                    0.0                    0.0   \n",
       "1289           0.0                    0.0                    0.0   \n",
       "\n",
       "      SaleCondition_Alloca  SaleCondition_Family  SaleCondition_Partial  \n",
       "Id                                                                       \n",
       "134                    0.0                   0.0                    0.0  \n",
       "291                    0.0                   0.0                    1.0  \n",
       "25                     0.0                   0.0                    0.0  \n",
       "1094                   0.0                   0.0                    0.0  \n",
       "1289                   0.0                   0.0                    0.0  \n",
       "\n",
       "[5 rows x 50 columns]"
      ]
     },
     "execution_count": 712,
     "metadata": {},
     "output_type": "execute_result"
    }
   ],
   "source": [
    "model_train.head()"
   ]
  },
  {
   "cell_type": "code",
   "execution_count": 713,
   "metadata": {},
   "outputs": [
    {
     "data": {
      "text/html": [
       "<div>\n",
       "<style scoped>\n",
       "    .dataframe tbody tr th:only-of-type {\n",
       "        vertical-align: middle;\n",
       "    }\n",
       "\n",
       "    .dataframe tbody tr th {\n",
       "        vertical-align: top;\n",
       "    }\n",
       "\n",
       "    .dataframe thead th {\n",
       "        text-align: right;\n",
       "    }\n",
       "</style>\n",
       "<table border=\"1\" class=\"dataframe\">\n",
       "  <thead>\n",
       "    <tr style=\"text-align: right;\">\n",
       "      <th></th>\n",
       "      <th>GarageCars</th>\n",
       "      <th>GarageQual</th>\n",
       "      <th>WoodDeckSF</th>\n",
       "      <th>MiscVal</th>\n",
       "      <th>YrSold</th>\n",
       "      <th>GarageAge</th>\n",
       "      <th>TotalPorch</th>\n",
       "      <th>GarageType_2Types</th>\n",
       "      <th>GarageType_Basment</th>\n",
       "      <th>GarageType_BuiltIn</th>\n",
       "      <th>...</th>\n",
       "      <th>SaleType_ConLD</th>\n",
       "      <th>SaleType_ConLI</th>\n",
       "      <th>SaleType_ConLw</th>\n",
       "      <th>SaleType_New</th>\n",
       "      <th>SaleType_Oth</th>\n",
       "      <th>SaleCondition_Abnorml</th>\n",
       "      <th>SaleCondition_AdjLand</th>\n",
       "      <th>SaleCondition_Alloca</th>\n",
       "      <th>SaleCondition_Family</th>\n",
       "      <th>SaleCondition_Partial</th>\n",
       "    </tr>\n",
       "    <tr>\n",
       "      <th>Id</th>\n",
       "      <th></th>\n",
       "      <th></th>\n",
       "      <th></th>\n",
       "      <th></th>\n",
       "      <th></th>\n",
       "      <th></th>\n",
       "      <th></th>\n",
       "      <th></th>\n",
       "      <th></th>\n",
       "      <th></th>\n",
       "      <th></th>\n",
       "      <th></th>\n",
       "      <th></th>\n",
       "      <th></th>\n",
       "      <th></th>\n",
       "      <th></th>\n",
       "      <th></th>\n",
       "      <th></th>\n",
       "      <th></th>\n",
       "      <th></th>\n",
       "      <th></th>\n",
       "    </tr>\n",
       "  </thead>\n",
       "  <tbody>\n",
       "    <tr>\n",
       "      <td>1437</td>\n",
       "      <td>0.301892</td>\n",
       "      <td>0.124236</td>\n",
       "      <td>-0.913510</td>\n",
       "      <td>-0.156629</td>\n",
       "      <td>-0.605049</td>\n",
       "      <td>0.514414</td>\n",
       "      <td>-1.409170</td>\n",
       "      <td>0.0</td>\n",
       "      <td>0.0</td>\n",
       "      <td>0.0</td>\n",
       "      <td>...</td>\n",
       "      <td>0.0</td>\n",
       "      <td>0.0</td>\n",
       "      <td>0.0</td>\n",
       "      <td>0.0</td>\n",
       "      <td>0.0</td>\n",
       "      <td>0.0</td>\n",
       "      <td>0.0</td>\n",
       "      <td>0.0</td>\n",
       "      <td>0.0</td>\n",
       "      <td>0.0</td>\n",
       "    </tr>\n",
       "    <tr>\n",
       "      <td>58</td>\n",
       "      <td>0.301892</td>\n",
       "      <td>0.124236</td>\n",
       "      <td>-0.913510</td>\n",
       "      <td>-0.156629</td>\n",
       "      <td>-1.356055</td>\n",
       "      <td>-1.431488</td>\n",
       "      <td>0.517649</td>\n",
       "      <td>0.0</td>\n",
       "      <td>0.0</td>\n",
       "      <td>0.0</td>\n",
       "      <td>...</td>\n",
       "      <td>0.0</td>\n",
       "      <td>0.0</td>\n",
       "      <td>0.0</td>\n",
       "      <td>0.0</td>\n",
       "      <td>0.0</td>\n",
       "      <td>0.0</td>\n",
       "      <td>0.0</td>\n",
       "      <td>0.0</td>\n",
       "      <td>0.0</td>\n",
       "      <td>0.0</td>\n",
       "    </tr>\n",
       "    <tr>\n",
       "      <td>781</td>\n",
       "      <td>0.301892</td>\n",
       "      <td>0.124236</td>\n",
       "      <td>1.172410</td>\n",
       "      <td>-0.156629</td>\n",
       "      <td>-0.605049</td>\n",
       "      <td>-0.256181</td>\n",
       "      <td>-0.011955</td>\n",
       "      <td>0.0</td>\n",
       "      <td>0.0</td>\n",
       "      <td>0.0</td>\n",
       "      <td>...</td>\n",
       "      <td>0.0</td>\n",
       "      <td>0.0</td>\n",
       "      <td>0.0</td>\n",
       "      <td>0.0</td>\n",
       "      <td>0.0</td>\n",
       "      <td>0.0</td>\n",
       "      <td>0.0</td>\n",
       "      <td>0.0</td>\n",
       "      <td>0.0</td>\n",
       "      <td>0.0</td>\n",
       "    </tr>\n",
       "    <tr>\n",
       "      <td>383</td>\n",
       "      <td>0.301892</td>\n",
       "      <td>0.124236</td>\n",
       "      <td>0.859432</td>\n",
       "      <td>-0.156629</td>\n",
       "      <td>-0.605049</td>\n",
       "      <td>-1.756478</td>\n",
       "      <td>0.393933</td>\n",
       "      <td>0.0</td>\n",
       "      <td>0.0</td>\n",
       "      <td>0.0</td>\n",
       "      <td>...</td>\n",
       "      <td>0.0</td>\n",
       "      <td>0.0</td>\n",
       "      <td>0.0</td>\n",
       "      <td>0.0</td>\n",
       "      <td>0.0</td>\n",
       "      <td>0.0</td>\n",
       "      <td>0.0</td>\n",
       "      <td>0.0</td>\n",
       "      <td>0.0</td>\n",
       "      <td>0.0</td>\n",
       "    </tr>\n",
       "    <tr>\n",
       "      <td>1171</td>\n",
       "      <td>-1.038829</td>\n",
       "      <td>0.124236</td>\n",
       "      <td>1.111010</td>\n",
       "      <td>-0.156629</td>\n",
       "      <td>0.145958</td>\n",
       "      <td>0.465822</td>\n",
       "      <td>-1.409170</td>\n",
       "      <td>0.0</td>\n",
       "      <td>0.0</td>\n",
       "      <td>0.0</td>\n",
       "      <td>...</td>\n",
       "      <td>0.0</td>\n",
       "      <td>0.0</td>\n",
       "      <td>0.0</td>\n",
       "      <td>0.0</td>\n",
       "      <td>0.0</td>\n",
       "      <td>0.0</td>\n",
       "      <td>0.0</td>\n",
       "      <td>0.0</td>\n",
       "      <td>0.0</td>\n",
       "      <td>0.0</td>\n",
       "    </tr>\n",
       "  </tbody>\n",
       "</table>\n",
       "<p>5 rows × 50 columns</p>\n",
       "</div>"
      ],
      "text/plain": [
       "      GarageCars  GarageQual  WoodDeckSF   MiscVal    YrSold  GarageAge  \\\n",
       "Id                                                                        \n",
       "1437    0.301892    0.124236   -0.913510 -0.156629 -0.605049   0.514414   \n",
       "58      0.301892    0.124236   -0.913510 -0.156629 -1.356055  -1.431488   \n",
       "781     0.301892    0.124236    1.172410 -0.156629 -0.605049  -0.256181   \n",
       "383     0.301892    0.124236    0.859432 -0.156629 -0.605049  -1.756478   \n",
       "1171   -1.038829    0.124236    1.111010 -0.156629  0.145958   0.465822   \n",
       "\n",
       "      TotalPorch  GarageType_2Types  GarageType_Basment  GarageType_BuiltIn  \\\n",
       "Id                                                                            \n",
       "1437   -1.409170                0.0                 0.0                 0.0   \n",
       "58      0.517649                0.0                 0.0                 0.0   \n",
       "781    -0.011955                0.0                 0.0                 0.0   \n",
       "383     0.393933                0.0                 0.0                 0.0   \n",
       "1171   -1.409170                0.0                 0.0                 0.0   \n",
       "\n",
       "      ...  SaleType_ConLD  SaleType_ConLI  SaleType_ConLw  SaleType_New  \\\n",
       "Id    ...                                                                 \n",
       "1437  ...             0.0             0.0             0.0           0.0   \n",
       "58    ...             0.0             0.0             0.0           0.0   \n",
       "781   ...             0.0             0.0             0.0           0.0   \n",
       "383   ...             0.0             0.0             0.0           0.0   \n",
       "1171  ...             0.0             0.0             0.0           0.0   \n",
       "\n",
       "      SaleType_Oth  SaleCondition_Abnorml  SaleCondition_AdjLand  \\\n",
       "Id                                                                 \n",
       "1437           0.0                    0.0                    0.0   \n",
       "58             0.0                    0.0                    0.0   \n",
       "781            0.0                    0.0                    0.0   \n",
       "383            0.0                    0.0                    0.0   \n",
       "1171           0.0                    0.0                    0.0   \n",
       "\n",
       "      SaleCondition_Alloca  SaleCondition_Family  SaleCondition_Partial  \n",
       "Id                                                                       \n",
       "1437                   0.0                   0.0                    0.0  \n",
       "58                     0.0                   0.0                    0.0  \n",
       "781                    0.0                   0.0                    0.0  \n",
       "383                    0.0                   0.0                    0.0  \n",
       "1171                   0.0                   0.0                    0.0  \n",
       "\n",
       "[5 rows x 50 columns]"
      ]
     },
     "execution_count": 713,
     "metadata": {},
     "output_type": "execute_result"
    }
   ],
   "source": [
    "model_test.head()"
   ]
  },
  {
   "cell_type": "code",
   "execution_count": 715,
   "metadata": {},
   "outputs": [
    {
     "data": {
      "text/html": [
       "<div>\n",
       "<style scoped>\n",
       "    .dataframe tbody tr th:only-of-type {\n",
       "        vertical-align: middle;\n",
       "    }\n",
       "\n",
       "    .dataframe tbody tr th {\n",
       "        vertical-align: top;\n",
       "    }\n",
       "\n",
       "    .dataframe thead th {\n",
       "        text-align: right;\n",
       "    }\n",
       "</style>\n",
       "<table border=\"1\" class=\"dataframe\">\n",
       "  <thead>\n",
       "    <tr style=\"text-align: right;\">\n",
       "      <th></th>\n",
       "      <th>GarageCars</th>\n",
       "      <th>GarageQual</th>\n",
       "      <th>WoodDeckSF</th>\n",
       "      <th>MiscVal</th>\n",
       "      <th>YrSold</th>\n",
       "      <th>GarageAge</th>\n",
       "      <th>TotalPorch</th>\n",
       "      <th>GarageType_2Types</th>\n",
       "      <th>GarageType_Basment</th>\n",
       "      <th>GarageType_BuiltIn</th>\n",
       "      <th>...</th>\n",
       "      <th>SaleType_ConLD</th>\n",
       "      <th>SaleType_ConLI</th>\n",
       "      <th>SaleType_ConLw</th>\n",
       "      <th>SaleType_New</th>\n",
       "      <th>SaleType_Oth</th>\n",
       "      <th>SaleCondition_Abnorml</th>\n",
       "      <th>SaleCondition_AdjLand</th>\n",
       "      <th>SaleCondition_Alloca</th>\n",
       "      <th>SaleCondition_Family</th>\n",
       "      <th>SaleCondition_Partial</th>\n",
       "    </tr>\n",
       "    <tr>\n",
       "      <th>Id</th>\n",
       "      <th></th>\n",
       "      <th></th>\n",
       "      <th></th>\n",
       "      <th></th>\n",
       "      <th></th>\n",
       "      <th></th>\n",
       "      <th></th>\n",
       "      <th></th>\n",
       "      <th></th>\n",
       "      <th></th>\n",
       "      <th></th>\n",
       "      <th></th>\n",
       "      <th></th>\n",
       "      <th></th>\n",
       "      <th></th>\n",
       "      <th></th>\n",
       "      <th></th>\n",
       "      <th></th>\n",
       "      <th></th>\n",
       "      <th></th>\n",
       "      <th></th>\n",
       "    </tr>\n",
       "  </thead>\n",
       "  <tbody>\n",
       "    <tr>\n",
       "      <td>1461</td>\n",
       "      <td>-1.038829</td>\n",
       "      <td>0.124236</td>\n",
       "      <td>0.839557</td>\n",
       "      <td>-0.156629</td>\n",
       "      <td>1.647971</td>\n",
       "      <td>0.823532</td>\n",
       "      <td>0.758626</td>\n",
       "      <td>0.0</td>\n",
       "      <td>0.0</td>\n",
       "      <td>0.0</td>\n",
       "      <td>...</td>\n",
       "      <td>0.0</td>\n",
       "      <td>0.0</td>\n",
       "      <td>0.0</td>\n",
       "      <td>0.0</td>\n",
       "      <td>0.0</td>\n",
       "      <td>0.0</td>\n",
       "      <td>0.0</td>\n",
       "      <td>0.0</td>\n",
       "      <td>0.0</td>\n",
       "      <td>0.0</td>\n",
       "    </tr>\n",
       "    <tr>\n",
       "      <td>1462</td>\n",
       "      <td>-1.038829</td>\n",
       "      <td>0.124236</td>\n",
       "      <td>1.643179</td>\n",
       "      <td>16.685384</td>\n",
       "      <td>1.647971</td>\n",
       "      <td>0.870236</td>\n",
       "      <td>0.223040</td>\n",
       "      <td>0.0</td>\n",
       "      <td>0.0</td>\n",
       "      <td>0.0</td>\n",
       "      <td>...</td>\n",
       "      <td>0.0</td>\n",
       "      <td>0.0</td>\n",
       "      <td>0.0</td>\n",
       "      <td>0.0</td>\n",
       "      <td>0.0</td>\n",
       "      <td>0.0</td>\n",
       "      <td>0.0</td>\n",
       "      <td>0.0</td>\n",
       "      <td>0.0</td>\n",
       "      <td>0.0</td>\n",
       "    </tr>\n",
       "    <tr>\n",
       "      <td>1463</td>\n",
       "      <td>0.301892</td>\n",
       "      <td>0.124236</td>\n",
       "      <td>1.144013</td>\n",
       "      <td>-0.156629</td>\n",
       "      <td>1.647971</td>\n",
       "      <td>-0.196782</td>\n",
       "      <td>0.197921</td>\n",
       "      <td>0.0</td>\n",
       "      <td>0.0</td>\n",
       "      <td>0.0</td>\n",
       "      <td>...</td>\n",
       "      <td>0.0</td>\n",
       "      <td>0.0</td>\n",
       "      <td>0.0</td>\n",
       "      <td>0.0</td>\n",
       "      <td>0.0</td>\n",
       "      <td>0.0</td>\n",
       "      <td>0.0</td>\n",
       "      <td>0.0</td>\n",
       "      <td>0.0</td>\n",
       "      <td>0.0</td>\n",
       "    </tr>\n",
       "    <tr>\n",
       "      <td>1464</td>\n",
       "      <td>0.301892</td>\n",
       "      <td>0.124236</td>\n",
       "      <td>1.568885</td>\n",
       "      <td>-0.156629</td>\n",
       "      <td>1.647971</td>\n",
       "      <td>-0.256181</td>\n",
       "      <td>0.223040</td>\n",
       "      <td>0.0</td>\n",
       "      <td>0.0</td>\n",
       "      <td>0.0</td>\n",
       "      <td>...</td>\n",
       "      <td>0.0</td>\n",
       "      <td>0.0</td>\n",
       "      <td>0.0</td>\n",
       "      <td>0.0</td>\n",
       "      <td>0.0</td>\n",
       "      <td>0.0</td>\n",
       "      <td>0.0</td>\n",
       "      <td>0.0</td>\n",
       "      <td>0.0</td>\n",
       "      <td>0.0</td>\n",
       "    </tr>\n",
       "    <tr>\n",
       "      <td>1465</td>\n",
       "      <td>0.301892</td>\n",
       "      <td>0.124236</td>\n",
       "      <td>-0.913510</td>\n",
       "      <td>-0.156629</td>\n",
       "      <td>1.647971</td>\n",
       "      <td>0.047989</td>\n",
       "      <td>1.043020</td>\n",
       "      <td>0.0</td>\n",
       "      <td>0.0</td>\n",
       "      <td>0.0</td>\n",
       "      <td>...</td>\n",
       "      <td>0.0</td>\n",
       "      <td>0.0</td>\n",
       "      <td>0.0</td>\n",
       "      <td>0.0</td>\n",
       "      <td>0.0</td>\n",
       "      <td>0.0</td>\n",
       "      <td>0.0</td>\n",
       "      <td>0.0</td>\n",
       "      <td>0.0</td>\n",
       "      <td>0.0</td>\n",
       "    </tr>\n",
       "  </tbody>\n",
       "</table>\n",
       "<p>5 rows × 50 columns</p>\n",
       "</div>"
      ],
      "text/plain": [
       "      GarageCars  GarageQual  WoodDeckSF    MiscVal    YrSold  GarageAge  \\\n",
       "Id                                                                         \n",
       "1461   -1.038829    0.124236    0.839557  -0.156629  1.647971   0.823532   \n",
       "1462   -1.038829    0.124236    1.643179  16.685384  1.647971   0.870236   \n",
       "1463    0.301892    0.124236    1.144013  -0.156629  1.647971  -0.196782   \n",
       "1464    0.301892    0.124236    1.568885  -0.156629  1.647971  -0.256181   \n",
       "1465    0.301892    0.124236   -0.913510  -0.156629  1.647971   0.047989   \n",
       "\n",
       "      TotalPorch  GarageType_2Types  GarageType_Basment  GarageType_BuiltIn  \\\n",
       "Id                                                                            \n",
       "1461    0.758626                0.0                 0.0                 0.0   \n",
       "1462    0.223040                0.0                 0.0                 0.0   \n",
       "1463    0.197921                0.0                 0.0                 0.0   \n",
       "1464    0.223040                0.0                 0.0                 0.0   \n",
       "1465    1.043020                0.0                 0.0                 0.0   \n",
       "\n",
       "      ...  SaleType_ConLD  SaleType_ConLI  SaleType_ConLw  SaleType_New  \\\n",
       "Id    ...                                                                 \n",
       "1461  ...             0.0             0.0             0.0           0.0   \n",
       "1462  ...             0.0             0.0             0.0           0.0   \n",
       "1463  ...             0.0             0.0             0.0           0.0   \n",
       "1464  ...             0.0             0.0             0.0           0.0   \n",
       "1465  ...             0.0             0.0             0.0           0.0   \n",
       "\n",
       "      SaleType_Oth  SaleCondition_Abnorml  SaleCondition_AdjLand  \\\n",
       "Id                                                                 \n",
       "1461           0.0                    0.0                    0.0   \n",
       "1462           0.0                    0.0                    0.0   \n",
       "1463           0.0                    0.0                    0.0   \n",
       "1464           0.0                    0.0                    0.0   \n",
       "1465           0.0                    0.0                    0.0   \n",
       "\n",
       "      SaleCondition_Alloca  SaleCondition_Family  SaleCondition_Partial  \n",
       "Id                                                                       \n",
       "1461                   0.0                   0.0                    0.0  \n",
       "1462                   0.0                   0.0                    0.0  \n",
       "1463                   0.0                   0.0                    0.0  \n",
       "1464                   0.0                   0.0                    0.0  \n",
       "1465                   0.0                   0.0                    0.0  \n",
       "\n",
       "[5 rows x 50 columns]"
      ]
     },
     "execution_count": 715,
     "metadata": {},
     "output_type": "execute_result"
    }
   ],
   "source": [
    "kaggle_test.head()"
   ]
  },
  {
   "cell_type": "code",
   "execution_count": 720,
   "metadata": {},
   "outputs": [],
   "source": [
    "# model_train.to_csv('model_train_Alex2.csv') \n",
    "# model_test.to_csv('model_test_Alex2.csv')\n",
    "# kaggle_test.to_csv('kaggle_test_Alex2.csv')"
   ]
  },
  {
   "cell_type": "code",
   "execution_count": null,
   "metadata": {},
   "outputs": [],
   "source": []
  }
 ],
 "metadata": {
  "kernelspec": {
   "display_name": "Python 3",
   "language": "python",
   "name": "python3"
  },
  "language_info": {
   "codemirror_mode": {
    "name": "ipython",
    "version": 3
   },
   "file_extension": ".py",
   "mimetype": "text/x-python",
   "name": "python",
   "nbconvert_exporter": "python",
   "pygments_lexer": "ipython3",
   "version": "3.7.4"
  }
 },
 "nbformat": 4,
 "nbformat_minor": 2
}
