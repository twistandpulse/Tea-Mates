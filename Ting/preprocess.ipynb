{
 "cells": [
  {
   "cell_type": "markdown",
   "metadata": {},
   "source": [
    "### Libraries and Settings"
   ]
  },
  {
   "cell_type": "code",
   "execution_count": 75,
   "metadata": {},
   "outputs": [],
   "source": [
    "import numpy as np\n",
    "import pandas as pd\n",
    "import matplotlib.pyplot as plt\n",
    "%matplotlib inline\n",
    "import matplotlib.gridspec as gridspec\n",
    "\n",
    "from sklearn.preprocessing import OneHotEncoder\n",
    "from sklearn.impute import SimpleImputer\n",
    "from sklearn.preprocessing import MinMaxScaler\n",
    "from sklearn.preprocessing import StandardScaler\n",
    "from sklearn.impute import KNNImputer"
   ]
  },
  {
   "cell_type": "code",
   "execution_count": 2,
   "metadata": {},
   "outputs": [],
   "source": [
    "pd.set_option('display.max_columns', None)"
   ]
  },
  {
   "cell_type": "markdown",
   "metadata": {},
   "source": [
    "### Import Data"
   ]
  },
  {
   "cell_type": "code",
   "execution_count": 3,
   "metadata": {},
   "outputs": [],
   "source": [
    "train = pd.read_csv('../data/Model Train.csv').drop('Unnamed: 0', axis=1)"
   ]
  },
  {
   "cell_type": "code",
   "execution_count": 4,
   "metadata": {},
   "outputs": [],
   "source": [
    "test = pd.read_csv('../data/Model Test.csv').drop('Unnamed: 0', axis=1)"
   ]
  },
  {
   "cell_type": "code",
   "execution_count": 5,
   "metadata": {},
   "outputs": [],
   "source": [
    "Ktest = pd.read_csv('../data/Kaggle_test.csv')"
   ]
  },
  {
   "cell_type": "code",
   "execution_count": 6,
   "metadata": {
    "scrolled": true
   },
   "outputs": [
    {
     "data": {
      "text/html": [
       "<div>\n",
       "<style scoped>\n",
       "    .dataframe tbody tr th:only-of-type {\n",
       "        vertical-align: middle;\n",
       "    }\n",
       "\n",
       "    .dataframe tbody tr th {\n",
       "        vertical-align: top;\n",
       "    }\n",
       "\n",
       "    .dataframe thead th {\n",
       "        text-align: right;\n",
       "    }\n",
       "</style>\n",
       "<table border=\"1\" class=\"dataframe\">\n",
       "  <thead>\n",
       "    <tr style=\"text-align: right;\">\n",
       "      <th></th>\n",
       "      <th>train</th>\n",
       "      <th>test</th>\n",
       "      <th>Ktest</th>\n",
       "    </tr>\n",
       "  </thead>\n",
       "  <tbody>\n",
       "    <tr>\n",
       "      <th>Id</th>\n",
       "      <td>0</td>\n",
       "      <td>0</td>\n",
       "      <td>0</td>\n",
       "    </tr>\n",
       "    <tr>\n",
       "      <th>MSSubClass</th>\n",
       "      <td>0</td>\n",
       "      <td>0</td>\n",
       "      <td>0</td>\n",
       "    </tr>\n",
       "    <tr>\n",
       "      <th>MSZoning</th>\n",
       "      <td>0</td>\n",
       "      <td>0</td>\n",
       "      <td>4</td>\n",
       "    </tr>\n",
       "    <tr>\n",
       "      <th>LotFrontage</th>\n",
       "      <td>200</td>\n",
       "      <td>59</td>\n",
       "      <td>227</td>\n",
       "    </tr>\n",
       "    <tr>\n",
       "      <th>LotArea</th>\n",
       "      <td>0</td>\n",
       "      <td>0</td>\n",
       "      <td>0</td>\n",
       "    </tr>\n",
       "    <tr>\n",
       "      <th>Street</th>\n",
       "      <td>0</td>\n",
       "      <td>0</td>\n",
       "      <td>0</td>\n",
       "    </tr>\n",
       "    <tr>\n",
       "      <th>Alley</th>\n",
       "      <td>1095</td>\n",
       "      <td>274</td>\n",
       "      <td>1352</td>\n",
       "    </tr>\n",
       "    <tr>\n",
       "      <th>LotShape</th>\n",
       "      <td>0</td>\n",
       "      <td>0</td>\n",
       "      <td>0</td>\n",
       "    </tr>\n",
       "    <tr>\n",
       "      <th>LandContour</th>\n",
       "      <td>0</td>\n",
       "      <td>0</td>\n",
       "      <td>0</td>\n",
       "    </tr>\n",
       "    <tr>\n",
       "      <th>Utilities</th>\n",
       "      <td>0</td>\n",
       "      <td>0</td>\n",
       "      <td>2</td>\n",
       "    </tr>\n",
       "    <tr>\n",
       "      <th>LotConfig</th>\n",
       "      <td>0</td>\n",
       "      <td>0</td>\n",
       "      <td>0</td>\n",
       "    </tr>\n",
       "    <tr>\n",
       "      <th>LandSlope</th>\n",
       "      <td>0</td>\n",
       "      <td>0</td>\n",
       "      <td>0</td>\n",
       "    </tr>\n",
       "    <tr>\n",
       "      <th>Neighborhood</th>\n",
       "      <td>0</td>\n",
       "      <td>0</td>\n",
       "      <td>0</td>\n",
       "    </tr>\n",
       "    <tr>\n",
       "      <th>Condition1</th>\n",
       "      <td>0</td>\n",
       "      <td>0</td>\n",
       "      <td>0</td>\n",
       "    </tr>\n",
       "    <tr>\n",
       "      <th>Condition2</th>\n",
       "      <td>0</td>\n",
       "      <td>0</td>\n",
       "      <td>0</td>\n",
       "    </tr>\n",
       "    <tr>\n",
       "      <th>BldgType</th>\n",
       "      <td>0</td>\n",
       "      <td>0</td>\n",
       "      <td>0</td>\n",
       "    </tr>\n",
       "    <tr>\n",
       "      <th>HouseStyle</th>\n",
       "      <td>0</td>\n",
       "      <td>0</td>\n",
       "      <td>0</td>\n",
       "    </tr>\n",
       "    <tr>\n",
       "      <th>OverallQual</th>\n",
       "      <td>0</td>\n",
       "      <td>0</td>\n",
       "      <td>0</td>\n",
       "    </tr>\n",
       "    <tr>\n",
       "      <th>OverallCond</th>\n",
       "      <td>0</td>\n",
       "      <td>0</td>\n",
       "      <td>0</td>\n",
       "    </tr>\n",
       "    <tr>\n",
       "      <th>YearBuilt</th>\n",
       "      <td>0</td>\n",
       "      <td>0</td>\n",
       "      <td>0</td>\n",
       "    </tr>\n",
       "    <tr>\n",
       "      <th>YearRemodAdd</th>\n",
       "      <td>0</td>\n",
       "      <td>0</td>\n",
       "      <td>0</td>\n",
       "    </tr>\n",
       "    <tr>\n",
       "      <th>RoofStyle</th>\n",
       "      <td>0</td>\n",
       "      <td>0</td>\n",
       "      <td>0</td>\n",
       "    </tr>\n",
       "    <tr>\n",
       "      <th>RoofMatl</th>\n",
       "      <td>0</td>\n",
       "      <td>0</td>\n",
       "      <td>0</td>\n",
       "    </tr>\n",
       "    <tr>\n",
       "      <th>Exterior1st</th>\n",
       "      <td>0</td>\n",
       "      <td>0</td>\n",
       "      <td>1</td>\n",
       "    </tr>\n",
       "    <tr>\n",
       "      <th>Exterior2nd</th>\n",
       "      <td>0</td>\n",
       "      <td>0</td>\n",
       "      <td>1</td>\n",
       "    </tr>\n",
       "    <tr>\n",
       "      <th>MasVnrType</th>\n",
       "      <td>6</td>\n",
       "      <td>2</td>\n",
       "      <td>16</td>\n",
       "    </tr>\n",
       "    <tr>\n",
       "      <th>MasVnrArea</th>\n",
       "      <td>6</td>\n",
       "      <td>2</td>\n",
       "      <td>15</td>\n",
       "    </tr>\n",
       "    <tr>\n",
       "      <th>ExterQual</th>\n",
       "      <td>0</td>\n",
       "      <td>0</td>\n",
       "      <td>0</td>\n",
       "    </tr>\n",
       "    <tr>\n",
       "      <th>ExterCond</th>\n",
       "      <td>0</td>\n",
       "      <td>0</td>\n",
       "      <td>0</td>\n",
       "    </tr>\n",
       "    <tr>\n",
       "      <th>Foundation</th>\n",
       "      <td>0</td>\n",
       "      <td>0</td>\n",
       "      <td>0</td>\n",
       "    </tr>\n",
       "    <tr>\n",
       "      <th>BsmtQual</th>\n",
       "      <td>31</td>\n",
       "      <td>6</td>\n",
       "      <td>44</td>\n",
       "    </tr>\n",
       "    <tr>\n",
       "      <th>BsmtCond</th>\n",
       "      <td>31</td>\n",
       "      <td>6</td>\n",
       "      <td>45</td>\n",
       "    </tr>\n",
       "    <tr>\n",
       "      <th>BsmtExposure</th>\n",
       "      <td>32</td>\n",
       "      <td>6</td>\n",
       "      <td>44</td>\n",
       "    </tr>\n",
       "    <tr>\n",
       "      <th>BsmtFinType1</th>\n",
       "      <td>31</td>\n",
       "      <td>6</td>\n",
       "      <td>42</td>\n",
       "    </tr>\n",
       "    <tr>\n",
       "      <th>BsmtFinSF1</th>\n",
       "      <td>0</td>\n",
       "      <td>0</td>\n",
       "      <td>1</td>\n",
       "    </tr>\n",
       "    <tr>\n",
       "      <th>BsmtFinType2</th>\n",
       "      <td>32</td>\n",
       "      <td>6</td>\n",
       "      <td>42</td>\n",
       "    </tr>\n",
       "    <tr>\n",
       "      <th>BsmtFinSF2</th>\n",
       "      <td>0</td>\n",
       "      <td>0</td>\n",
       "      <td>1</td>\n",
       "    </tr>\n",
       "    <tr>\n",
       "      <th>BsmtUnfSF</th>\n",
       "      <td>0</td>\n",
       "      <td>0</td>\n",
       "      <td>1</td>\n",
       "    </tr>\n",
       "    <tr>\n",
       "      <th>TotalBsmtSF</th>\n",
       "      <td>0</td>\n",
       "      <td>0</td>\n",
       "      <td>1</td>\n",
       "    </tr>\n",
       "    <tr>\n",
       "      <th>Heating</th>\n",
       "      <td>0</td>\n",
       "      <td>0</td>\n",
       "      <td>0</td>\n",
       "    </tr>\n",
       "    <tr>\n",
       "      <th>HeatingQC</th>\n",
       "      <td>0</td>\n",
       "      <td>0</td>\n",
       "      <td>0</td>\n",
       "    </tr>\n",
       "    <tr>\n",
       "      <th>CentralAir</th>\n",
       "      <td>0</td>\n",
       "      <td>0</td>\n",
       "      <td>0</td>\n",
       "    </tr>\n",
       "    <tr>\n",
       "      <th>Electrical</th>\n",
       "      <td>1</td>\n",
       "      <td>0</td>\n",
       "      <td>0</td>\n",
       "    </tr>\n",
       "    <tr>\n",
       "      <th>1stFlrSF</th>\n",
       "      <td>0</td>\n",
       "      <td>0</td>\n",
       "      <td>0</td>\n",
       "    </tr>\n",
       "    <tr>\n",
       "      <th>2ndFlrSF</th>\n",
       "      <td>0</td>\n",
       "      <td>0</td>\n",
       "      <td>0</td>\n",
       "    </tr>\n",
       "    <tr>\n",
       "      <th>LowQualFinSF</th>\n",
       "      <td>0</td>\n",
       "      <td>0</td>\n",
       "      <td>0</td>\n",
       "    </tr>\n",
       "    <tr>\n",
       "      <th>GrLivArea</th>\n",
       "      <td>0</td>\n",
       "      <td>0</td>\n",
       "      <td>0</td>\n",
       "    </tr>\n",
       "    <tr>\n",
       "      <th>BsmtFullBath</th>\n",
       "      <td>0</td>\n",
       "      <td>0</td>\n",
       "      <td>2</td>\n",
       "    </tr>\n",
       "    <tr>\n",
       "      <th>BsmtHalfBath</th>\n",
       "      <td>0</td>\n",
       "      <td>0</td>\n",
       "      <td>2</td>\n",
       "    </tr>\n",
       "    <tr>\n",
       "      <th>FullBath</th>\n",
       "      <td>0</td>\n",
       "      <td>0</td>\n",
       "      <td>0</td>\n",
       "    </tr>\n",
       "    <tr>\n",
       "      <th>HalfBath</th>\n",
       "      <td>0</td>\n",
       "      <td>0</td>\n",
       "      <td>0</td>\n",
       "    </tr>\n",
       "    <tr>\n",
       "      <th>BedroomAbvGr</th>\n",
       "      <td>0</td>\n",
       "      <td>0</td>\n",
       "      <td>0</td>\n",
       "    </tr>\n",
       "    <tr>\n",
       "      <th>KitchenAbvGr</th>\n",
       "      <td>0</td>\n",
       "      <td>0</td>\n",
       "      <td>0</td>\n",
       "    </tr>\n",
       "    <tr>\n",
       "      <th>KitchenQual</th>\n",
       "      <td>0</td>\n",
       "      <td>0</td>\n",
       "      <td>1</td>\n",
       "    </tr>\n",
       "    <tr>\n",
       "      <th>TotRmsAbvGrd</th>\n",
       "      <td>0</td>\n",
       "      <td>0</td>\n",
       "      <td>0</td>\n",
       "    </tr>\n",
       "    <tr>\n",
       "      <th>Functional</th>\n",
       "      <td>0</td>\n",
       "      <td>0</td>\n",
       "      <td>2</td>\n",
       "    </tr>\n",
       "    <tr>\n",
       "      <th>Fireplaces</th>\n",
       "      <td>0</td>\n",
       "      <td>0</td>\n",
       "      <td>0</td>\n",
       "    </tr>\n",
       "    <tr>\n",
       "      <th>FireplaceQu</th>\n",
       "      <td>553</td>\n",
       "      <td>137</td>\n",
       "      <td>730</td>\n",
       "    </tr>\n",
       "    <tr>\n",
       "      <th>GarageType</th>\n",
       "      <td>65</td>\n",
       "      <td>16</td>\n",
       "      <td>76</td>\n",
       "    </tr>\n",
       "    <tr>\n",
       "      <th>GarageYrBlt</th>\n",
       "      <td>65</td>\n",
       "      <td>16</td>\n",
       "      <td>78</td>\n",
       "    </tr>\n",
       "    <tr>\n",
       "      <th>GarageFinish</th>\n",
       "      <td>65</td>\n",
       "      <td>16</td>\n",
       "      <td>78</td>\n",
       "    </tr>\n",
       "    <tr>\n",
       "      <th>GarageCars</th>\n",
       "      <td>0</td>\n",
       "      <td>0</td>\n",
       "      <td>1</td>\n",
       "    </tr>\n",
       "    <tr>\n",
       "      <th>GarageArea</th>\n",
       "      <td>0</td>\n",
       "      <td>0</td>\n",
       "      <td>1</td>\n",
       "    </tr>\n",
       "    <tr>\n",
       "      <th>GarageQual</th>\n",
       "      <td>65</td>\n",
       "      <td>16</td>\n",
       "      <td>78</td>\n",
       "    </tr>\n",
       "    <tr>\n",
       "      <th>GarageCond</th>\n",
       "      <td>65</td>\n",
       "      <td>16</td>\n",
       "      <td>78</td>\n",
       "    </tr>\n",
       "    <tr>\n",
       "      <th>PavedDrive</th>\n",
       "      <td>0</td>\n",
       "      <td>0</td>\n",
       "      <td>0</td>\n",
       "    </tr>\n",
       "    <tr>\n",
       "      <th>WoodDeckSF</th>\n",
       "      <td>0</td>\n",
       "      <td>0</td>\n",
       "      <td>0</td>\n",
       "    </tr>\n",
       "    <tr>\n",
       "      <th>OpenPorchSF</th>\n",
       "      <td>0</td>\n",
       "      <td>0</td>\n",
       "      <td>0</td>\n",
       "    </tr>\n",
       "    <tr>\n",
       "      <th>EnclosedPorch</th>\n",
       "      <td>0</td>\n",
       "      <td>0</td>\n",
       "      <td>0</td>\n",
       "    </tr>\n",
       "    <tr>\n",
       "      <th>3SsnPorch</th>\n",
       "      <td>0</td>\n",
       "      <td>0</td>\n",
       "      <td>0</td>\n",
       "    </tr>\n",
       "    <tr>\n",
       "      <th>ScreenPorch</th>\n",
       "      <td>0</td>\n",
       "      <td>0</td>\n",
       "      <td>0</td>\n",
       "    </tr>\n",
       "    <tr>\n",
       "      <th>PoolArea</th>\n",
       "      <td>0</td>\n",
       "      <td>0</td>\n",
       "      <td>0</td>\n",
       "    </tr>\n",
       "    <tr>\n",
       "      <th>PoolQC</th>\n",
       "      <td>1164</td>\n",
       "      <td>289</td>\n",
       "      <td>1456</td>\n",
       "    </tr>\n",
       "    <tr>\n",
       "      <th>Fence</th>\n",
       "      <td>950</td>\n",
       "      <td>229</td>\n",
       "      <td>1169</td>\n",
       "    </tr>\n",
       "    <tr>\n",
       "      <th>MiscFeature</th>\n",
       "      <td>1125</td>\n",
       "      <td>281</td>\n",
       "      <td>1408</td>\n",
       "    </tr>\n",
       "    <tr>\n",
       "      <th>MiscVal</th>\n",
       "      <td>0</td>\n",
       "      <td>0</td>\n",
       "      <td>0</td>\n",
       "    </tr>\n",
       "    <tr>\n",
       "      <th>MoSold</th>\n",
       "      <td>0</td>\n",
       "      <td>0</td>\n",
       "      <td>0</td>\n",
       "    </tr>\n",
       "    <tr>\n",
       "      <th>YrSold</th>\n",
       "      <td>0</td>\n",
       "      <td>0</td>\n",
       "      <td>0</td>\n",
       "    </tr>\n",
       "    <tr>\n",
       "      <th>SaleType</th>\n",
       "      <td>0</td>\n",
       "      <td>0</td>\n",
       "      <td>1</td>\n",
       "    </tr>\n",
       "    <tr>\n",
       "      <th>SaleCondition</th>\n",
       "      <td>0</td>\n",
       "      <td>0</td>\n",
       "      <td>0</td>\n",
       "    </tr>\n",
       "  </tbody>\n",
       "</table>\n",
       "</div>"
      ],
      "text/plain": [
       "               train  test  Ktest\n",
       "Id                 0     0      0\n",
       "MSSubClass         0     0      0\n",
       "MSZoning           0     0      4\n",
       "LotFrontage      200    59    227\n",
       "LotArea            0     0      0\n",
       "Street             0     0      0\n",
       "Alley           1095   274   1352\n",
       "LotShape           0     0      0\n",
       "LandContour        0     0      0\n",
       "Utilities          0     0      2\n",
       "LotConfig          0     0      0\n",
       "LandSlope          0     0      0\n",
       "Neighborhood       0     0      0\n",
       "Condition1         0     0      0\n",
       "Condition2         0     0      0\n",
       "BldgType           0     0      0\n",
       "HouseStyle         0     0      0\n",
       "OverallQual        0     0      0\n",
       "OverallCond        0     0      0\n",
       "YearBuilt          0     0      0\n",
       "YearRemodAdd       0     0      0\n",
       "RoofStyle          0     0      0\n",
       "RoofMatl           0     0      0\n",
       "Exterior1st        0     0      1\n",
       "Exterior2nd        0     0      1\n",
       "MasVnrType         6     2     16\n",
       "MasVnrArea         6     2     15\n",
       "ExterQual          0     0      0\n",
       "ExterCond          0     0      0\n",
       "Foundation         0     0      0\n",
       "BsmtQual          31     6     44\n",
       "BsmtCond          31     6     45\n",
       "BsmtExposure      32     6     44\n",
       "BsmtFinType1      31     6     42\n",
       "BsmtFinSF1         0     0      1\n",
       "BsmtFinType2      32     6     42\n",
       "BsmtFinSF2         0     0      1\n",
       "BsmtUnfSF          0     0      1\n",
       "TotalBsmtSF        0     0      1\n",
       "Heating            0     0      0\n",
       "HeatingQC          0     0      0\n",
       "CentralAir         0     0      0\n",
       "Electrical         1     0      0\n",
       "1stFlrSF           0     0      0\n",
       "2ndFlrSF           0     0      0\n",
       "LowQualFinSF       0     0      0\n",
       "GrLivArea          0     0      0\n",
       "BsmtFullBath       0     0      2\n",
       "BsmtHalfBath       0     0      2\n",
       "FullBath           0     0      0\n",
       "HalfBath           0     0      0\n",
       "BedroomAbvGr       0     0      0\n",
       "KitchenAbvGr       0     0      0\n",
       "KitchenQual        0     0      1\n",
       "TotRmsAbvGrd       0     0      0\n",
       "Functional         0     0      2\n",
       "Fireplaces         0     0      0\n",
       "FireplaceQu      553   137    730\n",
       "GarageType        65    16     76\n",
       "GarageYrBlt       65    16     78\n",
       "GarageFinish      65    16     78\n",
       "GarageCars         0     0      1\n",
       "GarageArea         0     0      1\n",
       "GarageQual        65    16     78\n",
       "GarageCond        65    16     78\n",
       "PavedDrive         0     0      0\n",
       "WoodDeckSF         0     0      0\n",
       "OpenPorchSF        0     0      0\n",
       "EnclosedPorch      0     0      0\n",
       "3SsnPorch          0     0      0\n",
       "ScreenPorch        0     0      0\n",
       "PoolArea           0     0      0\n",
       "PoolQC          1164   289   1456\n",
       "Fence            950   229   1169\n",
       "MiscFeature     1125   281   1408\n",
       "MiscVal            0     0      0\n",
       "MoSold             0     0      0\n",
       "YrSold             0     0      0\n",
       "SaleType           0     0      1\n",
       "SaleCondition      0     0      0"
      ]
     },
     "execution_count": 6,
     "metadata": {},
     "output_type": "execute_result"
    }
   ],
   "source": [
    "features = Ktest.isnull().sum().index\n",
    "\n",
    "missing = []\n",
    "missing.append(train.isnull().sum()[:-1])\n",
    "missing.append(test.isnull().sum()[:-1])\n",
    "missing.append(Ktest.isnull().sum())\n",
    "\n",
    "missingness = pd.DataFrame({'train':missing[0],'test':missing[1],'Ktest':missing[2]},\n",
    "                           index=features)\n",
    "\n",
    "pd.set_option('display.max_rows', None)\n",
    "missingness\n",
    "# pd.reset_option('display.max_rows')"
   ]
  },
  {
   "cell_type": "markdown",
   "metadata": {},
   "source": [
    "# Nominal Categorical Features"
   ]
  },
  {
   "cell_type": "code",
   "execution_count": 7,
   "metadata": {},
   "outputs": [],
   "source": [
    "cat_nom_cols = ['MSSubClass','MSZoning','Street','Alley','LotShape','LandContour',\n",
    "                'Utilities','LotConfig','LandSlope','Neighborhood','Condition1',\n",
    "                'Condition2','BldgType','HouseStyle']"
   ]
  },
  {
   "cell_type": "markdown",
   "metadata": {},
   "source": [
    "### MSSubClass"
   ]
  },
  {
   "cell_type": "markdown",
   "metadata": {},
   "source": [
    "Modify this column to 'PUD' if the house is a PUD, and 'NotPUD' if it's not a PUD. Other infomation in this column is redundent because it's repeated in other columns."
   ]
  },
  {
   "cell_type": "code",
   "execution_count": 8,
   "metadata": {},
   "outputs": [],
   "source": [
    "def pp_MSSubClass(sr):\n",
    "    sr_temp = sr.apply(lambda x: 'PUD' if x in [120,150,160,180] else 'NotPUD')\n",
    "    return(sr_temp)"
   ]
  },
  {
   "cell_type": "code",
   "execution_count": 9,
   "metadata": {},
   "outputs": [],
   "source": [
    "train['MSSubClass'] = pp_MSSubClass(train['MSSubClass'])\n",
    "test['MSSubClass'] = pp_MSSubClass(test['MSSubClass'])\n",
    "Ktest['MSSubClass'] = pp_MSSubClass(Ktest['MSSubClass'])"
   ]
  },
  {
   "cell_type": "code",
   "execution_count": null,
   "metadata": {},
   "outputs": [],
   "source": []
  },
  {
   "cell_type": "markdown",
   "metadata": {},
   "source": [
    "### Alley"
   ]
  },
  {
   "cell_type": "markdown",
   "metadata": {},
   "source": [
    "NA means no alley access. So impute with 'NoAlley'."
   ]
  },
  {
   "cell_type": "code",
   "execution_count": 10,
   "metadata": {},
   "outputs": [],
   "source": [
    "def pp_Alley(sr):\n",
    "    sr_temp = sr.fillna('NoAlley')\n",
    "    return(sr_temp)"
   ]
  },
  {
   "cell_type": "code",
   "execution_count": 11,
   "metadata": {},
   "outputs": [],
   "source": [
    "train['Alley'] = pp_Alley(train['Alley'])\n",
    "test['Alley'] = pp_Alley(test['Alley'])\n",
    "Ktest['Alley'] = pp_Alley(Ktest['Alley'])"
   ]
  },
  {
   "cell_type": "markdown",
   "metadata": {},
   "source": [
    "### Impute"
   ]
  },
  {
   "cell_type": "code",
   "execution_count": 12,
   "metadata": {},
   "outputs": [],
   "source": [
    "cat_nom_imp = SimpleImputer(strategy='most_frequent')\n",
    "cat_nom_imp = cat_nom_imp.fit(train[cat_nom_cols])"
   ]
  },
  {
   "cell_type": "code",
   "execution_count": 13,
   "metadata": {},
   "outputs": [],
   "source": [
    "cat_nom_imp_train = pd.DataFrame(cat_nom_imp.transform(train[cat_nom_cols]),\n",
    "                                columns = cat_nom_cols)\n",
    "cat_nom_imp_test = pd.DataFrame(cat_nom_imp.transform(test[cat_nom_cols]),\n",
    "                                columns = cat_nom_cols)\n",
    "cat_nom_imp_Ktest = pd.DataFrame(cat_nom_imp.transform(Ktest[cat_nom_cols]),\n",
    "                                columns = cat_nom_cols)"
   ]
  },
  {
   "cell_type": "markdown",
   "metadata": {},
   "source": [
    "### One Hot Encoding"
   ]
  },
  {
   "cell_type": "code",
   "execution_count": 14,
   "metadata": {},
   "outputs": [],
   "source": [
    "drop_col = train[cat_nom_cols].apply(lambda col: col.value_counts().index[0])\n",
    "\n",
    "cat_nom_ohe = OneHotEncoder(categories='auto', drop=drop_col, sparse = False)\n",
    "cat_nom_ohe = cat_nom_ohe.fit(cat_nom_imp_train)\n",
    "\n",
    "new_cols = cat_nom_ohe.get_feature_names(cat_nom_cols)"
   ]
  },
  {
   "cell_type": "code",
   "execution_count": 15,
   "metadata": {},
   "outputs": [],
   "source": [
    "cat_nom_clean_train = pd.DataFrame(cat_nom_ohe.transform(cat_nom_imp_train),\n",
    "                                   columns=new_cols )\n",
    "cat_nom_clean_test = pd.DataFrame(cat_nom_ohe.transform(cat_nom_imp_test),\n",
    "                                  columns=new_cols )\n",
    "cat_nom_clean_Ktest = pd.DataFrame(cat_nom_ohe.transform(cat_nom_imp_Ktest),\n",
    "                                   columns=new_cols )"
   ]
  },
  {
   "cell_type": "markdown",
   "metadata": {},
   "source": [
    "### Condition1 & Condition2"
   ]
  },
  {
   "cell_type": "markdown",
   "metadata": {},
   "source": [
    "Combine condition1 and condition2 together."
   ]
  },
  {
   "cell_type": "code",
   "execution_count": 16,
   "metadata": {},
   "outputs": [
    {
     "name": "stdout",
     "output_type": "stream",
     "text": [
      "['Condition1_Artery', 'Condition1_Feedr', 'Condition1_PosA', 'Condition1_PosN', 'Condition1_RRAe', 'Condition1_RRAn', 'Condition1_RRNe', 'Condition1_RRNn']\n",
      "['Condition2_Artery', 'Condition2_Feedr', 'Condition2_PosA', 'Condition2_PosN', 'Condition2_RRAe', 'Condition2_RRAn', 'Condition2_RRNn']\n"
     ]
    }
   ],
   "source": [
    "Condition1_cols = [col for col in new_cols if 'Condition1' in col]\n",
    "Condition2_cols = [col for col in new_cols if 'Condition2' in col]\n",
    "print(Condition1_cols)\n",
    "print(Condition2_cols)"
   ]
  },
  {
   "cell_type": "markdown",
   "metadata": {},
   "source": [
    "One feature, 'Condition1_RRNe', is not in Condition2_cols. Get rid of it from Condition1_cols."
   ]
  },
  {
   "cell_type": "code",
   "execution_count": 17,
   "metadata": {},
   "outputs": [],
   "source": [
    "Condition1_cols.remove('Condition1_RRNe')"
   ]
  },
  {
   "cell_type": "code",
   "execution_count": 18,
   "metadata": {},
   "outputs": [],
   "source": [
    "def combine_C1_C2(df):\n",
    "    df_temp = df.copy()\n",
    "    for i in range(len(Condition1_cols)):\n",
    "        mask = df_temp[Condition2_cols[i]] == 1\n",
    "        df_temp.loc[mask,Condition1_cols[i]] = 1\n",
    "    df_temp = df_temp.drop(Condition2_cols,axis=1)\n",
    "    return(df_temp)"
   ]
  },
  {
   "cell_type": "code",
   "execution_count": 19,
   "metadata": {},
   "outputs": [],
   "source": [
    "cat_nom_clean_train = combine_C1_C2(cat_nom_clean_train)\n",
    "cat_nom_clean_test = combine_C1_C2(cat_nom_clean_test)\n",
    "cat_nom_clean_Ktest = combine_C1_C2(cat_nom_clean_Ktest)"
   ]
  },
  {
   "cell_type": "markdown",
   "metadata": {},
   "source": [
    "# Ordinal Categorical Features"
   ]
  },
  {
   "cell_type": "code",
   "execution_count": 20,
   "metadata": {},
   "outputs": [],
   "source": [
    "cat_ord_cols = ['OverallQual', 'OverallCond','AgeBuilt','AgeRemodAdd']"
   ]
  },
  {
   "cell_type": "markdown",
   "metadata": {},
   "source": [
    "### YearBuilt"
   ]
  },
  {
   "cell_type": "markdown",
   "metadata": {},
   "source": [
    "Change this column to building age at sale."
   ]
  },
  {
   "cell_type": "code",
   "execution_count": 21,
   "metadata": {},
   "outputs": [],
   "source": [
    "train['AgeBuilt'] = train['YrSold'] - train['YearBuilt']\n",
    "test['AgeBuilt'] = test['YrSold'] - test['YearBuilt']\n",
    "Ktest['AgeBuilt'] = Ktest['YrSold'] - Ktest['YearBuilt']"
   ]
  },
  {
   "cell_type": "markdown",
   "metadata": {},
   "source": [
    "### YearRemodAdd"
   ]
  },
  {
   "cell_type": "markdown",
   "metadata": {},
   "source": [
    "Change this column to remodeling age at sale."
   ]
  },
  {
   "cell_type": "code",
   "execution_count": 22,
   "metadata": {},
   "outputs": [],
   "source": [
    "train['AgeRemodAdd'] = train['YrSold'] - train['YearRemodAdd']\n",
    "test['AgeRemodAdd'] = test['YrSold'] - test['YearRemodAdd']\n",
    "Ktest['AgeRemodAdd'] = Ktest['YrSold'] - Ktest['YearRemodAdd']"
   ]
  },
  {
   "cell_type": "markdown",
   "metadata": {},
   "source": [
    "### Impute"
   ]
  },
  {
   "cell_type": "code",
   "execution_count": 23,
   "metadata": {},
   "outputs": [],
   "source": [
    "cat_ord_imp = SimpleImputer(strategy='median')\n",
    "cat_ord_imp = cat_ord_imp.fit(train[cat_ord_cols])"
   ]
  },
  {
   "cell_type": "code",
   "execution_count": 24,
   "metadata": {},
   "outputs": [],
   "source": [
    "cat_ord_imp_train = pd.DataFrame(cat_ord_imp.transform(train[cat_ord_cols]),\n",
    "                                columns = cat_ord_cols)\n",
    "cat_ord_imp_test = pd.DataFrame(cat_ord_imp.transform(test[cat_ord_cols]),\n",
    "                                columns = cat_ord_cols)\n",
    "cat_ord_imp_Ktest = pd.DataFrame(cat_ord_imp.transform(Ktest[cat_ord_cols]),\n",
    "                                columns = cat_ord_cols)"
   ]
  },
  {
   "cell_type": "markdown",
   "metadata": {},
   "source": [
    "### MinMax Scale"
   ]
  },
  {
   "cell_type": "code",
   "execution_count": 25,
   "metadata": {},
   "outputs": [],
   "source": [
    "cat_ord_scl = MinMaxScaler()\n",
    "cat_ord_scl = cat_ord_scl.fit(cat_ord_imp_train)"
   ]
  },
  {
   "cell_type": "code",
   "execution_count": 26,
   "metadata": {},
   "outputs": [],
   "source": [
    "cat_ord_clean_train = pd.DataFrame(cat_ord_scl.transform(cat_ord_imp_train),\n",
    "                                columns = cat_ord_cols)\n",
    "cat_ord_clean_test = pd.DataFrame(cat_ord_scl.transform(cat_ord_imp_test),\n",
    "                                columns = cat_ord_cols)\n",
    "cat_ord_clean_Ktest = pd.DataFrame(cat_ord_scl.transform(cat_ord_imp_Ktest),\n",
    "                                columns = cat_ord_cols)"
   ]
  },
  {
   "cell_type": "markdown",
   "metadata": {},
   "source": [
    "# Numerical Features"
   ]
  },
  {
   "cell_type": "code",
   "execution_count": 27,
   "metadata": {},
   "outputs": [],
   "source": [
    "num_cols = ['LotFrontage','LotArea']"
   ]
  },
  {
   "cell_type": "markdown",
   "metadata": {},
   "source": [
    "For both columns, log transform first, then scale, then impute using knn on the whole dataset."
   ]
  },
  {
   "cell_type": "markdown",
   "metadata": {},
   "source": [
    "### LotArea"
   ]
  },
  {
   "cell_type": "code",
   "execution_count": 28,
   "metadata": {},
   "outputs": [],
   "source": [
    "train['LotArea'] = np.log(train['LotArea'])\n",
    "test['LotArea'] = np.log(test['LotArea'])\n",
    "Ktest['LotArea'] = np.log(Ktest['LotArea'])"
   ]
  },
  {
   "cell_type": "markdown",
   "metadata": {},
   "source": [
    "### LotFrontage"
   ]
  },
  {
   "cell_type": "code",
   "execution_count": 29,
   "metadata": {},
   "outputs": [],
   "source": [
    "train['LotFrontage'] = np.log(train['LotFrontage'])\n",
    "test['LotFrontage'] = np.log(test['LotFrontage'])\n",
    "Ktest['LotFrontage'] = np.log(Ktest['LotFrontage'])"
   ]
  },
  {
   "cell_type": "markdown",
   "metadata": {},
   "source": [
    "### Scale"
   ]
  },
  {
   "cell_type": "code",
   "execution_count": 30,
   "metadata": {},
   "outputs": [],
   "source": [
    "num_scl = StandardScaler()\n",
    "num_scl = num_scl.fit(train[num_cols])"
   ]
  },
  {
   "cell_type": "code",
   "execution_count": 59,
   "metadata": {},
   "outputs": [],
   "source": [
    "num_clean_train = pd.DataFrame(num_scl.transform(train[num_cols]),columns=num_cols)\n",
    "num_clean_test = pd.DataFrame(num_scl.transform(test[num_cols]),columns=num_cols)\n",
    "num_clean_Ktest = pd.DataFrame(num_scl.transform(Ktest[num_cols]),columns=num_cols)"
   ]
  },
  {
   "cell_type": "markdown",
   "metadata": {},
   "source": [
    "# Merge Together"
   ]
  },
  {
   "cell_type": "code",
   "execution_count": 60,
   "metadata": {},
   "outputs": [],
   "source": [
    "clean_train = pd.concat([cat_nom_clean_train,cat_ord_clean_train,num_clean_train],axis=1)\n",
    "clean_test = pd.concat([cat_nom_clean_test,cat_ord_clean_test,num_clean_test],axis=1)\n",
    "clean_Ktest = pd.concat([cat_nom_clean_Ktest,cat_ord_clean_Ktest,num_clean_Ktest],axis=1)"
   ]
  },
  {
   "cell_type": "markdown",
   "metadata": {},
   "source": [
    "### Impute LotFrontage Using KNN"
   ]
  },
  {
   "cell_type": "code",
   "execution_count": 61,
   "metadata": {},
   "outputs": [],
   "source": [
    "from math import sqrt\n",
    "n_neighbors = round(sqrt(train.shape[0]))\n",
    "num_imp = KNNImputer(n_neighbors=n_neighbors)\n",
    "num_imp = num_imp.fit(clean_train)"
   ]
  },
  {
   "cell_type": "code",
   "execution_count": 62,
   "metadata": {},
   "outputs": [],
   "source": [
    "cols = clean_train.columns\n",
    "clean_train = pd.DataFrame(num_imp.transform(clean_train),columns=cols)\n",
    "clean_test = pd.DataFrame(num_imp.transform(clean_test),columns=cols)\n",
    "clean_Ktest = pd.DataFrame(num_imp.transform(clean_Ktest),columns=cols)"
   ]
  },
  {
   "cell_type": "markdown",
   "metadata": {},
   "source": [
    "It may look like the whole data set is imputed with KNN. But since LotArea doesn't have missing values, and all the other features have been imputed before, this step actually only imputes LotFrontage."
   ]
  },
  {
   "cell_type": "markdown",
   "metadata": {},
   "source": [
    "### Output"
   ]
  },
  {
   "cell_type": "code",
   "execution_count": 35,
   "metadata": {},
   "outputs": [],
   "source": [
    "clean_train = pd.concat([train['Id'],clean_train],axis=1)\n",
    "clean_test = pd.concat([test['Id'],clean_test],axis=1)\n",
    "clean_Ktest = pd.concat([Ktest['Id'],clean_Ktest],axis=1)"
   ]
  },
  {
   "cell_type": "code",
   "execution_count": 36,
   "metadata": {},
   "outputs": [],
   "source": [
    "clean_train.to_csv('../data/clean_train_Ting')\n",
    "clean_test.to_csv('../data/clean_test_Ting')\n",
    "clean_Ktest.to_csv('../data/clean_Ktest_Ting')"
   ]
  },
  {
   "cell_type": "markdown",
   "metadata": {},
   "source": [
    "### Check Consistency"
   ]
  },
  {
   "cell_type": "code",
   "execution_count": 101,
   "metadata": {},
   "outputs": [
    {
     "name": "stdout",
     "output_type": "stream",
     "text": [
      "        MSSubClass\n",
      "NotPUD        1042\n",
      "PUD            126\n",
      "------------------------------------------------------------\n",
      "     MSSubClass_PUD\n",
      "0.0            1042\n",
      "1.0             126\n",
      "************************************************************\n",
      "         MSZoning\n",
      "RL            922\n",
      "RM            178\n",
      "FV             48\n",
      "RH             13\n",
      "C (all)         7\n",
      "------------------------------------------------------------\n",
      "     MSZoning_C (all)  MSZoning_FV  MSZoning_RH  MSZoning_RM\n",
      "0.0              1161         1120         1155          990\n",
      "1.0                 7           48           13          178\n",
      "************************************************************\n",
      "      Street\n",
      "Pave    1164\n",
      "Grvl       4\n",
      "------------------------------------------------------------\n",
      "     Street_Grvl\n",
      "0.0         1164\n",
      "1.0            4\n",
      "************************************************************\n",
      "         Alley\n",
      "NoAlley   1095\n",
      "Grvl        46\n",
      "Pave        27\n",
      "------------------------------------------------------------\n",
      "     Alley_Grvl  Alley_Pave\n",
      "0.0        1122        1141\n",
      "1.0          46          27\n",
      "************************************************************\n",
      "     LotShape\n",
      "Reg       742\n",
      "IR1       384\n",
      "IR2        33\n",
      "IR3         9\n",
      "------------------------------------------------------------\n",
      "     LotShape_IR1  LotShape_IR2  LotShape_IR3\n",
      "0.0           784          1135          1159\n",
      "1.0           384            33             9\n",
      "************************************************************\n",
      "     LandContour\n",
      "Lvl         1044\n",
      "Bnk           52\n",
      "HLS           43\n",
      "Low           29\n",
      "------------------------------------------------------------\n",
      "     LandContour_Bnk  LandContour_HLS  LandContour_Low\n",
      "0.0             1116             1125             1139\n",
      "1.0               52               43               29\n",
      "************************************************************\n",
      "        Utilities\n",
      "AllPub       1167\n",
      "NoSeWa          1\n",
      "------------------------------------------------------------\n",
      "     Utilities_NoSeWa\n",
      "0.0              1167\n",
      "1.0                 1\n",
      "************************************************************\n",
      "         LotConfig\n",
      "Inside         831\n",
      "Corner         222\n",
      "CulDSac         77\n",
      "FR2             34\n",
      "FR3              4\n",
      "------------------------------------------------------------\n",
      "     LotConfig_Corner  LotConfig_CulDSac  LotConfig_FR2  LotConfig_FR3\n",
      "0.0               946               1091           1134           1164\n",
      "1.0               222                 77             34              4\n",
      "************************************************************\n",
      "     LandSlope\n",
      "Gtl       1103\n",
      "Mod         54\n",
      "Sev         11\n",
      "------------------------------------------------------------\n",
      "     LandSlope_Mod  LandSlope_Sev\n",
      "0.0           1114           1157\n",
      "1.0             54             11\n",
      "************************************************************\n",
      "         Neighborhood\n",
      "NAmes             177\n",
      "CollgCr           113\n",
      "OldTown            96\n",
      "Edwards            86\n",
      "NridgHt            67\n",
      "Somerst            65\n",
      "Gilbert            61\n",
      "Sawyer             56\n",
      "NWAmes             56\n",
      "SawyerW            48\n",
      "Mitchel            44\n",
      "BrkSide            43\n",
      "Crawfor            41\n",
      "NoRidge            38\n",
      "IDOTRR             31\n",
      "Timber             29\n",
      "ClearCr            23\n",
      "SWISU              21\n",
      "StoneBr            17\n",
      "BrDale             13\n",
      "Blmngtn            13\n",
      "MeadowV            11\n",
      "Veenker            11\n",
      "NPkVill             6\n",
      "Blueste             2\n",
      "------------------------------------------------------------\n",
      "     Neighborhood_Blmngtn  Neighborhood_Blueste  Neighborhood_BrDale  \\\n",
      "0.0                  1155                  1166                 1155   \n",
      "1.0                    13                     2                   13   \n",
      "\n",
      "     Neighborhood_BrkSide  Neighborhood_ClearCr  Neighborhood_CollgCr  \\\n",
      "0.0                  1125                  1145                  1055   \n",
      "1.0                    43                    23                   113   \n",
      "\n",
      "     Neighborhood_Crawfor  Neighborhood_Edwards  Neighborhood_Gilbert  \\\n",
      "0.0                  1127                  1082                  1107   \n",
      "1.0                    41                    86                    61   \n",
      "\n",
      "     Neighborhood_IDOTRR  Neighborhood_MeadowV  Neighborhood_Mitchel  \\\n",
      "0.0                 1137                  1157                  1124   \n",
      "1.0                   31                    11                    44   \n",
      "\n",
      "     Neighborhood_NPkVill  Neighborhood_NWAmes  Neighborhood_NoRidge  \\\n",
      "0.0                  1162                 1112                  1130   \n",
      "1.0                     6                   56                    38   \n",
      "\n",
      "     Neighborhood_NridgHt  Neighborhood_OldTown  Neighborhood_SWISU  \\\n",
      "0.0                  1101                  1072                1147   \n",
      "1.0                    67                    96                  21   \n",
      "\n",
      "     Neighborhood_Sawyer  Neighborhood_SawyerW  Neighborhood_Somerst  \\\n",
      "0.0                 1112                  1120                  1103   \n",
      "1.0                   56                    48                    65   \n",
      "\n",
      "     Neighborhood_StoneBr  Neighborhood_Timber  Neighborhood_Veenker  \n",
      "0.0                  1151                 1139                  1157  \n",
      "1.0                    17                   29                    11  \n",
      "************************************************************\n",
      "        Condition1\n",
      "Norm          1004\n",
      "Feedr           62\n",
      "Artery          43\n",
      "RRAn            20\n",
      "PosN            16\n",
      "RRAe            11\n",
      "PosA             7\n",
      "RRNn             3\n",
      "RRNe             2\n",
      "------------------------------------------------------------\n",
      "     Condition1_Artery  Condition1_Feedr  Condition1_PosA  Condition1_PosN  \\\n",
      "0.0               1125              1101             1160             1152   \n",
      "1.0                 43                67                8               16   \n",
      "\n",
      "     Condition1_RRAe  Condition1_RRAn  Condition1_RRNe  Condition1_RRNn  \n",
      "0.0             1156             1147             1166             1164  \n",
      "1.0               12               21                2                4  \n",
      "************************************************************\n",
      "        Condition2\n",
      "Norm          1155\n",
      "Feedr            6\n",
      "Artery           2\n",
      "PosN             1\n",
      "RRAn             1\n",
      "RRNn             1\n",
      "RRAe             1\n",
      "PosA             1\n",
      "------------------------------------------------------------\n",
      "************************************************************\n",
      "        BldgType\n",
      "1Fam         972\n",
      "TwnhsE        87\n",
      "Duplex        44\n",
      "Twnhs         36\n",
      "2fmCon        29\n",
      "------------------------------------------------------------\n",
      "     BldgType_2fmCon  BldgType_Duplex  BldgType_Twnhs  BldgType_TwnhsE\n",
      "0.0             1139             1124            1132             1081\n",
      "1.0               29               44              36               87\n",
      "************************************************************\n",
      "        HouseStyle\n",
      "1Story         578\n",
      "2Story         351\n",
      "1.5Fin         128\n",
      "SLvl            54\n",
      "SFoyer          28\n",
      "1.5Unf          14\n",
      "2.5Unf           9\n",
      "2.5Fin           6\n",
      "------------------------------------------------------------\n",
      "     HouseStyle_1.5Fin  HouseStyle_1.5Unf  HouseStyle_2.5Fin  \\\n",
      "0.0               1040               1154               1162   \n",
      "1.0                128                 14                  6   \n",
      "\n",
      "     HouseStyle_2.5Unf  HouseStyle_2Story  HouseStyle_SFoyer  HouseStyle_SLvl  \n",
      "0.0               1159                817               1140             1114  \n",
      "1.0                  9                351                 28               54  \n",
      "************************************************************\n"
     ]
    }
   ],
   "source": [
    "for i in range(len(cat_nom_cols)):\n",
    "    print(train[[cat_nom_cols[i]]].apply(lambda col: col.value_counts(),axis=0))\n",
    "    print('-'*60)\n",
    "    features = [col for col in cat_nom_clean_train.columns if cat_nom_cols[i] in col]\n",
    "    if features:\n",
    "        print(cat_nom_clean_train[features].apply(lambda col: col.value_counts(),axis=0))\n",
    "    print('*'*60)"
   ]
  },
  {
   "cell_type": "code",
   "execution_count": 77,
   "metadata": {},
   "outputs": [
    {
     "data": {
      "image/png": "[encoded data removed]",
      "text/plain": [
       "<Figure size 1008x360 with 2 Axes>"
      ]
     },
     "metadata": {
      "needs_background": "light"
     },
     "output_type": "display_data"
    },
    {
     "data": {
      "image/png": "[encoded data removed]",
      "text/plain": [
       "<Figure size 1008x360 with 2 Axes>"
      ]
     },
     "metadata": {
      "needs_background": "light"
     },
     "output_type": "display_data"
    },
    {
     "data": {
      "image/png": "[encoded data removed]",
      "text/plain": [
       "<Figure size 1008x360 with 2 Axes>"
      ]
     },
     "metadata": {
      "needs_background": "light"
     },
     "output_type": "display_data"
    },
    {
     "data": {
      "image/png": "[encoded data removed]",
      "text/plain": [
       "<Figure size 1008x360 with 2 Axes>"
      ]
     },
     "metadata": {
      "needs_background": "light"
     },
     "output_type": "display_data"
    }
   ],
   "source": [
    "for i in range(len(cat_ord_cols)):\n",
    "    fig = plt.figure(figsize=(14, 5))\n",
    "    gs = gridspec.GridSpec(1, 2)\n",
    "    ax1 = plt.subplot(gs[0, 0])\n",
    "    ax2 = plt.subplot(gs[0, 1])\n",
    "\n",
    "    cat_ord_clean_train[cat_ord_cols[i]].value_counts().plot.bar(ax=ax1)\n",
    "    train[cat_ord_cols[i]].value_counts().plot.bar(ax=ax2)"
   ]
  },
  {
   "cell_type": "code",
   "execution_count": 102,
   "metadata": {},
   "outputs": [
    {
     "data": {
      "image/png": "[encoded data removed]",
      "text/plain": [
       "<Figure size 1008x360 with 2 Axes>"
      ]
     },
     "metadata": {
      "needs_background": "light"
     },
     "output_type": "display_data"
    },
    {
     "data": {
      "image/png": "[encoded data removed]",
      "text/plain": [
       "<Figure size 1008x360 with 2 Axes>"
      ]
     },
     "metadata": {
      "needs_background": "light"
     },
     "output_type": "display_data"
    }
   ],
   "source": [
    "for i in range(len(num_cols)):\n",
    "    fig = plt.figure(figsize=(14, 5))\n",
    "    gs = gridspec.GridSpec(1, 2)\n",
    "    ax1 = plt.subplot(gs[0, 0])\n",
    "    ax2 = plt.subplot(gs[0, 1])\n",
    "\n",
    "    num_clean_train[num_cols[i]].hist(ax=ax1)\n",
    "    train[num_cols[i]].hist(ax=ax2)"
   ]
  },
  {
   "cell_type": "code",
   "execution_count": null,
   "metadata": {},
   "outputs": [],
   "source": []
  }
 ],
 "metadata": {
  "kernelspec": {
   "display_name": "Python 3",
   "language": "python",
   "name": "python3"
  },
  "language_info": {
   "codemirror_mode": {
    "name": "ipython",
    "version": 3
   },
   "file_extension": ".py",
   "mimetype": "text/x-python",
   "name": "python",
   "nbconvert_exporter": "python",
   "pygments_lexer": "ipython3",
   "version": "3.7.6"
  }
 },
 "nbformat": 4,
 "nbformat_minor": 4
}
