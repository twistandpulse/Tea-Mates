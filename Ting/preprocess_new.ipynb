{
 "cells": [
  {
   "cell_type": "code",
   "execution_count": 355,
   "metadata": {},
   "outputs": [],
   "source": [
    "import numpy as np\n",
    "import pandas as pd\n",
    "import matplotlib.pyplot as plt\n",
    "%matplotlib inline\n",
    "import matplotlib.gridspec as gridspec\n",
    "\n",
    "from sklearn.impute import SimpleImputer\n",
    "from sklearn.preprocessing import OneHotEncoder\n",
    "from sklearn.preprocessing import OrdinalEncoder\n",
    "from sklearn.preprocessing import StandardScaler\n",
    "from sklearn.impute import KNNImputer"
   ]
  },
  {
   "cell_type": "code",
   "execution_count": 356,
   "metadata": {},
   "outputs": [],
   "source": [
    "pd.set_option('display.max_columns', None)"
   ]
  },
  {
   "cell_type": "markdown",
   "metadata": {},
   "source": [
    "### Import Data"
   ]
  },
  {
   "cell_type": "code",
   "execution_count": 357,
   "metadata": {},
   "outputs": [],
   "source": [
    "train = pd.read_csv('../data/Model Train.csv').drop(['Unnamed: 0','SalePrice'], axis=1\n",
    "                                                   ).set_index('Id')\n",
    "test = pd.read_csv('../data/Model Test.csv').drop(['Unnamed: 0','SalePrice'], axis=1\n",
    "                                                 ).set_index('Id')\n",
    "Ktest = pd.read_csv('../data/Kaggle_test.csv').set_index('Id')"
   ]
  },
  {
   "cell_type": "markdown",
   "metadata": {},
   "source": [
    "# Feature Engineering"
   ]
  },
  {
   "cell_type": "code",
   "execution_count": 358,
   "metadata": {},
   "outputs": [],
   "source": [
    "def pp(dataframe):\n",
    "    df = dataframe.copy()\n",
    "    \n",
    "    # Ting\n",
    "    df['MSSubClass'] = df['MSSubClass'].apply(lambda x: 'PUD' if x in [120,150,160,180] \n",
    "                                              else 'NotPUD')\n",
    "    df['Alley'] = df['Alley'].fillna('NoAlley')\n",
    "    df['AgeBuilt'] = df['YrSold'] - df['YearBuilt']\n",
    "    df = df.drop('YearBuilt',axis=1)\n",
    "    df['AgeRemodAdd'] = df['YrSold'] - df['YearRemodAdd']\n",
    "    df = df.drop('YearRemodAdd',axis=1)\n",
    "    df['LotArea'] = np.log(df['LotArea'])\n",
    "    df['LotFrontage'] = np.log(df['LotFrontage'])\n",
    "    \n",
    "    # Lanqing\n",
    "    df['MasVnrType'] = df['MasVnrType'].fillna('None')\n",
    "    df['MasVnrArea'] = np.log(df['MasVnrArea'].fillna(0) + 1)\n",
    "    df['ExterQual'] = df['ExterQual'].replace({'Ex':5,'Gd':4,'TA':3,'Fa':2,'Po':1})\n",
    "    df['ExterCond'] = df['ExterCond'].replace({'Ex':5,'Gd':4,'TA':3,'Fa':2,'Po':1})\n",
    "    df['BsmtQual'] = df['BsmtQual'].fillna('No').replace(\n",
    "                                    {'Ex':5,'Gd':4,'TA':3,'Fa':2,'Po':1,'No':0})\n",
    "    df['BsmtCond'] = df['BsmtCond'].fillna('No').replace(\n",
    "                                    {'Ex':5,'Gd':4,'TA':3,'Fa':2,'Po':1,'No':0})\n",
    "    df['BsmtExposure'] = df['BsmtExposure'].fillna('NoB').replace(\n",
    "                                    {'Gd':4,'Av':3,'Mn':2,'No':1,'NoB':0})\n",
    "    df['BsmtFinType1'] = df['BsmtFinType1'].fillna('No').replace(\n",
    "                                    {'GLQ':6,'ALQ':5,'BLQ':4,'Rec':3,'LwQ':2,'Unf':1,'No':0})\n",
    "    df['BsmtFinType2'] = df['BsmtFinType2'].fillna('No').replace(\n",
    "                                    {'GLQ':6,'ALQ':5,'BLQ':4,'Rec':3,'LwQ':2,'Unf':1,'No':0})\n",
    "    df['BsmtFinSF1'] = np.log(df['BsmtFinSF1']+1)\n",
    "    df['BsmtFinSF2'] = np.log(df['BsmtFinSF2']+1)\n",
    "    df['BsmtUnfSF'] = np.log(df['BsmtUnfSF']+1)    \n",
    "    df['BsmtUnfSF'] = np.log(df['BsmtUnfSF']+1)\n",
    "    \n",
    "    # Marina\n",
    "    df['HeatingQC'] = df['HeatingQC'].replace({'Ex':5,'Gd':4,'TA':3,'Fa':2,'Po':1})\n",
    "    df['1stFlrSF'] = np.log(df['1stFlrSF'])\n",
    "    df['2ndFlrSF'] = np.log(df['2ndFlrSF']+1)\n",
    "    df['LowQualFinSF'] = np.log(df['LowQualFinSF']+1)\n",
    "    df['GrLivArea'] = np.log(df['GrLivArea'])\n",
    "    df['BsmtBath'] = df['BsmtFullBath'] + df['BsmtHalfBath']*0.5\n",
    "    df = df.drop(['BsmtFullBath','BsmtHalfBath'],axis=1)   \n",
    "    df['Bath'] = df['FullBath'] + df['HalfBath']*0.5\n",
    "    df = df.drop(['FullBath','HalfBath'],axis=1)\n",
    "    df['KitchenQual'] = df['KitchenQual'].replace({'Ex':5,'Gd':4,'TA':3,'Fa':2,'Po':1})\n",
    "    df['Functional'] = df['Functional'].replace({'Typ':0,'Min1':1,'Min2':2,'Mod':3,\n",
    "                                                'Maj1':4,'Maj2':5,'Sev':6,'Sal':7})\n",
    "    df['FireplaceQu'] = df['FireplaceQu'].fillna('No').replace(\n",
    "                                    {'Ex':5,'Gd':4,'TA':3,'Fa':2,'Po':1,'No':0})\n",
    "        \n",
    "    # Alex\n",
    "    df['GarageType'] = df['GarageType'].fillna('NoGarage')\n",
    "    # df['GarageAge'] = df['YrSold'] - df['GarageYrBlt'].fillna('??') # hard to impute\n",
    "    df = df.drop('GarageYrBlt',axis=1)\n",
    "    df['GarageFinish'] = df['GarageFinish'].fillna('No').replace(\n",
    "                                           {'No':0,'Unf':1,'RFn':2,'Fin':3})\n",
    "    df['GarageArea'] = np.log(df['GarageArea']+1)\n",
    "    df['GarageQual'] = df['GarageQual'].fillna('No').replace(\n",
    "                                    {'Ex':5,'Gd':4,'TA':3,'Fa':2,'Po':1,'No':0})\n",
    "    df['GarageCond'] = df['GarageCond'].fillna('No').replace(\n",
    "                                    {'Ex':5,'Gd':4,'TA':3,'Fa':2,'Po':1,'No':0})\n",
    "    df['WoodDeckSF'] = np.log(df['WoodDeckSF']+1)\n",
    "    df['PorchSF'] = np.log(df['OpenPorchSF']+df['EnclosedPorch']+\n",
    "                           df['3SsnPorch']+df['ScreenPorch']+1)\n",
    "    df = df.drop(['OpenPorchSF','EnclosedPorch','3SsnPorch','ScreenPorch'],axis=1)\n",
    "    df['PoolArea'] = np.log(df['PoolArea']+1)\n",
    "    df['PoolQC'] = df['PoolQC'].fillna('No').replace(\n",
    "                                    {'Ex':5,'Gd':4,'TA':3,'Fa':2,'Po':1,'No':0})\n",
    "    df['Fence'] = df['Fence'].fillna('NoFence')\n",
    "    df['MiscFeature'] = df['MiscFeature'].fillna('None')\n",
    "    df['MiscVal'] = np.log(df['MiscVal']+1)\n",
    "    \n",
    "    return(df)"
   ]
  },
  {
   "cell_type": "code",
   "execution_count": 359,
   "metadata": {
    "scrolled": true
   },
   "outputs": [],
   "source": [
    "train= pp(train)\n",
    "test = pp(test)\n",
    "Ktest = pp(Ktest)"
   ]
  },
  {
   "cell_type": "markdown",
   "metadata": {},
   "source": [
    "# Features"
   ]
  },
  {
   "cell_type": "code",
   "execution_count": 360,
   "metadata": {},
   "outputs": [],
   "source": [
    "cat_nom_cols = ['MSSubClass','MSZoning','Street','Alley','LotShape','LandContour',\n",
    "                'Utilities','LotConfig','LandSlope','Neighborhood','Condition1',\n",
    "                'Condition2','BldgType','HouseStyle','RoofStyle','RoofMatl','Exterior1st',\n",
    "                'Exterior2nd','MasVnrType','Foundation','Heating','CentralAir',\n",
    "                'Electrical','GarageType','PavedDrive','Fence','MiscFeature','MoSold',\n",
    "                'YrSold','SaleType','SaleCondition']\n",
    "cat_ord_cols = ['OverallQual', 'OverallCond','AgeBuilt','AgeRemodAdd','ExterQual',\n",
    "                'ExterCond','BsmtQual','BsmtCond','BsmtExposure','BsmtFinType1',\n",
    "                'BsmtFinType2','HeatingQC','BsmtBath','Bath','BedroomAbvGr','KitchenAbvGr',\n",
    "                'KitchenQual','TotRmsAbvGrd','Functional','Fireplaces','FireplaceQu',\n",
    "                'GarageFinish','GarageCars','GarageQual','GarageCond','PoolQC']\n",
    "num_cols = ['LotArea','MasVnrArea','BsmtFinSF1','BsmtFinSF2','BsmtUnfSF',\n",
    "            'TotalBsmtSF','1stFlrSF','2ndFlrSF','LowQualFinSF','GrLivArea','GarageArea',\n",
    "            'WoodDeckSF','PorchSF','PoolArea','MiscVal']\n",
    "knn_col = ['LotFrontage']"
   ]
  },
  {
   "cell_type": "code",
   "execution_count": 361,
   "metadata": {},
   "outputs": [
    {
     "data": {
      "text/plain": [
       "0"
      ]
     },
     "execution_count": 361,
     "metadata": {},
     "output_type": "execute_result"
    }
   ],
   "source": [
    "train['PorchSF'].isna().sum()"
   ]
  },
  {
   "cell_type": "markdown",
   "metadata": {},
   "source": [
    "# Impute Missing Values"
   ]
  },
  {
   "cell_type": "code",
   "execution_count": 362,
   "metadata": {},
   "outputs": [],
   "source": [
    "cat_imp = SimpleImputer(strategy='most_frequent')\n",
    "cat_imp = cat_imp.fit(train[cat_nom_cols])\n",
    "\n",
    "train_cat_imp = cat_imp.transform(train[cat_nom_cols])\n",
    "test_cat_imp = cat_imp.transform(test[cat_nom_cols])\n",
    "Ktest_cat_imp = cat_imp.transform(Ktest[cat_nom_cols])"
   ]
  },
  {
   "cell_type": "code",
   "execution_count": 363,
   "metadata": {},
   "outputs": [],
   "source": [
    "num_imp = SimpleImputer(strategy='median')\n",
    "num_imp = num_imp.fit(train[cat_ord_cols+num_cols])\n",
    "\n",
    "train_num_imp = num_imp.transform(train[cat_ord_cols+num_cols])\n",
    "test_num_imp = num_imp.transform(test[cat_ord_cols+num_cols])\n",
    "Ktest_num_imp = num_imp.transform(Ktest[cat_ord_cols+num_cols])"
   ]
  },
  {
   "cell_type": "markdown",
   "metadata": {},
   "source": [
    "# One Hot Encoding & Lable Encoding"
   ]
  },
  {
   "cell_type": "code",
   "execution_count": 364,
   "metadata": {},
   "outputs": [],
   "source": [
    "all_cat = pd.DataFrame(np.concatenate((train_cat_imp,test_cat_imp,Ktest_cat_imp),\n",
    "                                      axis=0),columns=cat_nom_cols)\n",
    "drop_col = all_cat.apply(lambda col: col.value_counts().index[0])\n",
    "sub_cat = list(all_cat.apply(lambda col: list(col.unique())))"
   ]
  },
  {
   "cell_type": "code",
   "execution_count": 365,
   "metadata": {},
   "outputs": [],
   "source": [
    "cat_ohe = OneHotEncoder(categories=sub_cat, drop=drop_col, sparse = False)\n",
    "cat_ohe = cat_ohe.fit(train_cat_imp)\n",
    "\n",
    "new_cols = cat_ohe.get_feature_names(cat_nom_cols)"
   ]
  },
  {
   "cell_type": "code",
   "execution_count": 366,
   "metadata": {},
   "outputs": [],
   "source": [
    "train_cat_ohe = cat_ohe.transform(train_cat_imp)\n",
    "test_cat_ohe = cat_ohe.transform(test_cat_imp)\n",
    "Ktest_cat_ohe = cat_ohe.transform(Ktest_cat_imp)"
   ]
  },
  {
   "cell_type": "code",
   "execution_count": 367,
   "metadata": {},
   "outputs": [],
   "source": [
    "cat_label = OrdinalEncoder(categories=sub_cat)\n",
    "cat_label = cat_label.fit(train_cat_imp)"
   ]
  },
  {
   "cell_type": "code",
   "execution_count": 368,
   "metadata": {},
   "outputs": [],
   "source": [
    "train_cat_label = cat_label.transform(train_cat_imp)\n",
    "test_cat_label = cat_label.transform(test_cat_imp)\n",
    "Ktest_cat_label = cat_label.transform(Ktest_cat_imp)"
   ]
  },
  {
   "cell_type": "markdown",
   "metadata": {},
   "source": [
    "# Scale"
   ]
  },
  {
   "cell_type": "code",
   "execution_count": 369,
   "metadata": {},
   "outputs": [],
   "source": [
    "scl = StandardScaler()\n",
    "scl = scl.fit(train_num_imp)"
   ]
  },
  {
   "cell_type": "code",
   "execution_count": 370,
   "metadata": {},
   "outputs": [],
   "source": [
    "train_num_scl = scl.transform(train_num_imp)\n",
    "test_num_scl = scl.transform(test_num_imp)\n",
    "Ktest_num_scl = scl.transform(Ktest_num_imp)"
   ]
  },
  {
   "cell_type": "markdown",
   "metadata": {},
   "source": [
    "# Impute LotFrontage Using KNN"
   ]
  },
  {
   "cell_type": "code",
   "execution_count": 371,
   "metadata": {},
   "outputs": [],
   "source": [
    "lotFront_scl = StandardScaler()\n",
    "lotFront_scl = lotFront_scl.fit(train[knn_col])"
   ]
  },
  {
   "cell_type": "code",
   "execution_count": 372,
   "metadata": {},
   "outputs": [],
   "source": [
    "lotFront_scl_train = lotFront_scl.transform(train[knn_col])\n",
    "lotFront_scl_test = lotFront_scl.transform(test[knn_col])\n",
    "lotFront_scl_Ktest = lotFront_scl.transform(Ktest[knn_col])"
   ]
  },
  {
   "cell_type": "code",
   "execution_count": 373,
   "metadata": {},
   "outputs": [],
   "source": [
    "knn_train = np.concatenate((train_cat_ohe,train_num_scl,lotFront_scl_train),axis=1)\n",
    "knn_test = np.concatenate((test_cat_ohe,test_num_scl,lotFront_scl_test),axis=1)\n",
    "knn_Ktest = np.concatenate((Ktest_cat_ohe,Ktest_num_scl,lotFront_scl_Ktest),axis=1)"
   ]
  },
  {
   "cell_type": "code",
   "execution_count": 374,
   "metadata": {},
   "outputs": [],
   "source": [
    "from math import sqrt\n",
    "n_neighbors = round(sqrt(train.shape[0]))\n",
    "knn_imp = KNNImputer(n_neighbors=n_neighbors)\n",
    "knn_imp = knn_imp.fit(knn_train)"
   ]
  },
  {
   "cell_type": "code",
   "execution_count": 375,
   "metadata": {},
   "outputs": [],
   "source": [
    "lotFront_scl_train_imp = knn_imp.transform(knn_train)[:,-1]\n",
    "lotFront_scl_test_imp = knn_imp.transform(knn_test)[:,-1]\n",
    "lotFront_scl_Ktest_imp = knn_imp.transform(knn_Ktest)[:,-1]"
   ]
  },
  {
   "cell_type": "code",
   "execution_count": 376,
   "metadata": {},
   "outputs": [],
   "source": [
    "lotFront_train_imp = lotFront_scl.inverse_transform(lotFront_scl_train_imp)\n",
    "lotFront_test_imp = lotFront_scl.inverse_transform(lotFront_scl_test_imp)\n",
    "lotFront_Ktest_imp = lotFront_scl.inverse_transform(lotFront_scl_Ktest_imp)"
   ]
  },
  {
   "cell_type": "markdown",
   "metadata": {},
   "source": [
    "# Output Data for Tree Models: Label Encoding, No Scaling"
   ]
  },
  {
   "cell_type": "code",
   "execution_count": 377,
   "metadata": {},
   "outputs": [],
   "source": [
    "tree_cols = cat_ord_cols+num_cols+cat_nom_cols+knn_col\n",
    "train_tree = pd.DataFrame(np.concatenate((train_num_imp,train_cat_label,\n",
    "                                          lotFront_train_imp.reshape(-1,1)),axis=1),\n",
    "                          columns=tree_cols)\n",
    "test_tree = pd.DataFrame(np.concatenate((test_num_imp,test_cat_label,\n",
    "                                          lotFront_test_imp.reshape(-1,1)),axis=1),\n",
    "                          columns=tree_cols)\n",
    "Ktest_tree = pd.DataFrame(np.concatenate((Ktest_num_imp,Ktest_cat_label,\n",
    "                                          lotFront_Ktest_imp.reshape(-1,1)),axis=1),\n",
    "                          columns=tree_cols)"
   ]
  },
  {
   "cell_type": "code",
   "execution_count": 378,
   "metadata": {},
   "outputs": [],
   "source": [
    "train_tree = pd.concat([train.reset_index()['Id'],train_tree],axis=1)\n",
    "test_tree = pd.concat([test.reset_index()['Id'],test_tree],axis=1)\n",
    "Ktest_tree = pd.concat([Ktest.reset_index()['Id'],Ktest_tree],axis=1)"
   ]
  },
  {
   "cell_type": "code",
   "execution_count": 379,
   "metadata": {},
   "outputs": [],
   "source": [
    "train_tree.to_csv('../data/train_tree.csv',index=False)\n",
    "test_tree.to_csv('../data/test_tree.csv',index=False)\n",
    "Ktest_tree.to_csv('../data/Ktest_tree.csv',index=False)"
   ]
  },
  {
   "cell_type": "markdown",
   "metadata": {},
   "source": [
    "# Output Data for Other Models: One Hoe Encoding, Scaling"
   ]
  },
  {
   "cell_type": "code",
   "execution_count": 380,
   "metadata": {},
   "outputs": [],
   "source": [
    "other_cols = cat_ord_cols+num_cols+list(new_cols)+knn_col\n",
    "train_other = pd.DataFrame(np.concatenate((train_cat_ohe,train_num_scl,\n",
    "                                          lotFront_scl_train_imp.reshape(-1,1)),axis=1),\n",
    "                          columns=other_cols)\n",
    "test_other = pd.DataFrame(np.concatenate((test_cat_ohe,test_num_scl,\n",
    "                                          lotFront_scl_test_imp.reshape(-1,1)),axis=1),\n",
    "                          columns=other_cols)\n",
    "Ktest_other = pd.DataFrame(np.concatenate((Ktest_cat_ohe,Ktest_num_scl,\n",
    "                                          lotFront_scl_Ktest_imp.reshape(-1,1)),axis=1),\n",
    "                          columns=other_cols)"
   ]
  },
  {
   "cell_type": "code",
   "execution_count": 381,
   "metadata": {},
   "outputs": [],
   "source": [
    "train_other = pd.concat([train.reset_index()['Id'],train_other],axis=1)\n",
    "test_other = pd.concat([test.reset_index()['Id'],test_other],axis=1)\n",
    "Ktest_other = pd.concat([Ktest.reset_index()['Id'],Ktest_other],axis=1)"
   ]
  },
  {
   "cell_type": "code",
   "execution_count": 382,
   "metadata": {},
   "outputs": [],
   "source": [
    "train_other.to_csv('../data/train_other.csv',index=False)\n",
    "test_other.to_csv('../data/test_other.csv',index=False)\n",
    "Ktest_other.to_csv('../data/Ktest_other.csv',index=False)"
   ]
  },
  {
   "cell_type": "code",
   "execution_count": 383,
   "metadata": {},
   "outputs": [
    {
     "data": {
      "text/plain": [
       "MSSubClass        NotPUD\n",
       "MSZoning              RL\n",
       "Street              Pave\n",
       "Alley            NoAlley\n",
       "LotShape             Reg\n",
       "LandContour          Lvl\n",
       "Utilities         AllPub\n",
       "LotConfig         Inside\n",
       "LandSlope            Gtl\n",
       "Neighborhood       NAmes\n",
       "Condition1          Norm\n",
       "Condition2          Norm\n",
       "BldgType            1Fam\n",
       "HouseStyle        1Story\n",
       "RoofStyle          Gable\n",
       "RoofMatl         CompShg\n",
       "Exterior1st      VinylSd\n",
       "Exterior2nd      VinylSd\n",
       "MasVnrType          None\n",
       "Foundation         PConc\n",
       "Heating             GasA\n",
       "CentralAir             Y\n",
       "Electrical         SBrkr\n",
       "GarageType        Attchd\n",
       "PavedDrive             Y\n",
       "Fence            NoFence\n",
       "MiscFeature         None\n",
       "MoSold                 6\n",
       "YrSold              2007\n",
       "SaleType              WD\n",
       "SaleCondition     Normal\n",
       "dtype: object"
      ]
     },
     "execution_count": 383,
     "metadata": {},
     "output_type": "execute_result"
    }
   ],
   "source": [
    "drop_col"
   ]
  },
  {
   "cell_type": "code",
   "execution_count": null,
   "metadata": {},
   "outputs": [],
   "source": []
  }
 ],
 "metadata": {
  "kernelspec": {
   "display_name": "Python 3",
   "language": "python",
   "name": "python3"
  },
  "language_info": {
   "codemirror_mode": {
    "name": "ipython",
    "version": 3
   },
   "file_extension": ".py",
   "mimetype": "text/x-python",
   "name": "python",
   "nbconvert_exporter": "python",
   "pygments_lexer": "ipython3",
   "version": "3.7.6"
  }
 },
 "nbformat": 4,
 "nbformat_minor": 4
}
