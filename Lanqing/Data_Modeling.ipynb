{
 "cells": [
  {
   "cell_type": "code",
   "execution_count": 272,
   "metadata": {},
   "outputs": [],
   "source": [
    "import numpy as np\n",
    "import pandas as pd\n",
    "import matplotlib.pyplot as plt\n",
    "import stat\n",
    "%matplotlib inline\n",
    "import matplotlib.gridspec as gridspec\n",
    "import matplotlib as mpl"
   ]
  },
  {
   "cell_type": "code",
   "execution_count": 7,
   "metadata": {},
   "outputs": [],
   "source": [
    "x_train = pd.read_csv('data/train.csv',index_col='Id').drop(1299)\n",
    "x_test = pd.read_csv('data/test.csv',index_col='Id')\n",
    "x_Ktest = pd.read_csv('data/Ktest.csv',index_col='Id')"
   ]
  },
  {
   "cell_type": "code",
   "execution_count": 210,
   "metadata": {},
   "outputs": [],
   "source": [
    "t_train = pd.read_csv('data/train_tree.csv',index_col='Id').drop(1299)\n",
    "t_test = pd.read_csv('data/test_tree.csv',index_col='Id')\n",
    "t_Ktest = pd.read_csv('data/Ktest_tree.csv',index_col='Id')"
   ]
  },
  {
   "cell_type": "code",
   "execution_count": 8,
   "metadata": {},
   "outputs": [],
   "source": [
    "y_train = pd.read_csv('data/Model Train.csv',index_col='Id').drop(1299)['SalePrice']\n",
    "y_test = pd.read_csv('data/Model Test.csv',index_col='Id')['SalePrice']\n",
    "y_train = np.log(y_train)\n",
    "y_test = np.log(y_test)"
   ]
  },
  {
   "cell_type": "code",
   "execution_count": 9,
   "metadata": {},
   "outputs": [],
   "source": [
    "x = pd.concat([x_train, x_test])\n",
    "y = pd.concat([y_train, y_test])"
   ]
  },
  {
   "cell_type": "code",
   "execution_count": 318,
   "metadata": {},
   "outputs": [
    {
     "name": "stdout",
     "output_type": "stream",
     "text": [
      "Median 163000.0\n",
      "Mean 180935.53529814942\n"
     ]
    }
   ],
   "source": [
    "price = pd.concat([pd.read_csv('data/Model Train.csv',index_col='Id').drop(1299)['SalePrice'], pd.read_csv('data/Model Test.csv',index_col='Id')['SalePrice']])\n",
    "print('Median', price.median())\n",
    "print('Mean', price.mean())"
   ]
  },
  {
   "cell_type": "code",
   "execution_count": 273,
   "metadata": {
    "scrolled": false
   },
   "outputs": [
    {
     "name": "stdout",
     "output_type": "stream",
     "text": [
      "                            OLS Regression Results                            \n",
      "==============================================================================\n",
      "Dep. Variable:              SalePrice   R-squared:                       0.934\n",
      "Model:                            OLS   Adj. R-squared:                  0.928\n",
      "Method:                 Least Squares   F-statistic:                     156.7\n",
      "Date:                Sun, 01 Mar 2020   Prob (F-statistic):               0.00\n",
      "Time:                        16:27:35   Log-Likelihood:                 3913.0\n",
      "No. Observations:                1167   AIC:                            -7632.\n",
      "Df Residuals:                    1070   BIC:                            -7141.\n",
      "Df Model:                          96                                         \n",
      "Covariance Type:            nonrobust                                         \n",
      "=========================================================================================\n",
      "                            coef    std err          t      P>|t|      [0.025      0.975]\n",
      "-----------------------------------------------------------------------------------------\n",
      "const                     2.4902      0.001   2238.601      0.000       2.488       2.492\n",
      "MSSubClass_PUD           -0.0029      0.002     -1.922      0.055      -0.006    6.21e-05\n",
      "MSZoning_C (all)         -0.0349      0.004     -8.745      0.000      -0.043      -0.027\n",
      "MSZoning_FV               0.0039      0.003      1.395      0.163      -0.002       0.009\n",
      "MSZoning_RM              -0.0030      0.001     -2.645      0.008      -0.005      -0.001\n",
      "Alley_Grvl               -0.0008      0.002     -0.524      0.601      -0.004       0.002\n",
      "Alley_Pave                0.0030      0.002      1.437      0.151      -0.001       0.007\n",
      "LandContour_Bnk          -0.0040      0.001     -2.900      0.004      -0.007      -0.001\n",
      "LotConfig_Corner          0.0004      0.001      0.506      0.613      -0.001       0.002\n",
      "LotConfig_CulDSac         0.0025      0.001      2.135      0.033       0.000       0.005\n",
      "LotConfig_FR2            -0.0037      0.002     -2.251      0.025      -0.007      -0.000\n",
      "LandSlope_Mod             0.0008      0.001      0.596      0.551      -0.002       0.004\n",
      "Neighborhood_BrkSide      0.0040      0.002      2.457      0.014       0.001       0.007\n",
      "Neighborhood_ClearCr      0.0059      0.002      2.809      0.005       0.002       0.010\n",
      "Neighborhood_Crawfor      0.0105      0.002      6.389      0.000       0.007       0.014\n",
      "Neighborhood_Edwards     -0.0062      0.001     -5.348      0.000      -0.008      -0.004\n",
      "Neighborhood_Gilbert     -0.0040      0.001     -2.685      0.007      -0.007      -0.001\n",
      "Neighborhood_IDOTRR      -0.0030      0.002     -1.464      0.143      -0.007       0.001\n",
      "Neighborhood_Mitchel     -0.0025      0.002     -1.609      0.108      -0.005       0.001\n",
      "Neighborhood_NWAmes      -0.0034      0.001     -2.370      0.018      -0.006      -0.001\n",
      "Neighborhood_NoRidge      0.0066      0.002      3.740      0.000       0.003       0.010\n",
      "Neighborhood_NridgHt      0.0099      0.002      6.419      0.000       0.007       0.013\n",
      "Neighborhood_Sawyer      -0.0013      0.001     -0.932      0.351      -0.004       0.001\n",
      "Neighborhood_SawyerW     -0.0013      0.002     -0.860      0.390      -0.004       0.002\n",
      "Neighborhood_Somerst      0.0020      0.002      0.806      0.420      -0.003       0.007\n",
      "Neighborhood_StoneBr      0.0125      0.002      5.020      0.000       0.008       0.017\n",
      "Condition1_Artery        -0.0076      0.002     -4.910      0.000      -0.011      -0.005\n",
      "Condition1_Feedr         -0.0034      0.001     -2.796      0.005      -0.006      -0.001\n",
      "Condition1_PosN          -0.0071      0.002     -2.998      0.003      -0.012      -0.002\n",
      "Condition1_RRAe          -0.0088      0.003     -3.110      0.002      -0.014      -0.003\n",
      "BldgType_Twnhs           -0.0030      0.002     -1.475      0.140      -0.007       0.001\n",
      "HouseStyle_1.5Fin        -0.0029      0.001     -2.574      0.010      -0.005      -0.001\n",
      "HouseStyle_2Story        -0.0050      0.001     -5.093      0.000      -0.007      -0.003\n",
      "HouseStyle_SLvl          -0.0020      0.001     -1.381      0.168      -0.005       0.001\n",
      "OverallQual               0.0045      0.001      8.154      0.000       0.003       0.006\n",
      "OverallCond               0.0041      0.000     10.600      0.000       0.003       0.005\n",
      "AgeBuilt                 -0.0058      0.001     -7.396      0.000      -0.007      -0.004\n",
      "AgeRemodAdd              -0.0013      0.000     -2.829      0.005      -0.002      -0.000\n",
      "LotFrontage            6.164e-05      0.001      0.110      0.912      -0.001       0.001\n",
      "LotArea                   0.0032      0.001      6.441      0.000       0.002       0.004\n",
      "GrLivArea                 0.0134      0.001     17.817      0.000       0.012       0.015\n",
      "HeatingQC                 0.0010      0.000      2.771      0.006       0.000       0.002\n",
      "CentralAir                0.0010      0.000      2.818      0.005       0.000       0.002\n",
      "BathCombined_AbvGr        0.0009      0.001      1.692      0.091      -0.000       0.002\n",
      "BathCombined_Bsmt         0.0017      0.000      4.522      0.000       0.001       0.002\n",
      "BedroomAbvGr             -0.0006      0.000     -1.360      0.174      -0.001       0.000\n",
      "KitchenAbvGr             -0.0014      0.000     -4.068      0.000      -0.002      -0.001\n",
      "TotRmsAbvGrd              0.0007      0.001      1.204      0.229      -0.000       0.002\n",
      "Fireplaces                0.0006      0.001      0.991      0.322      -0.001       0.002\n",
      "FireplaceQu               0.0010      0.001      1.648      0.100      -0.000       0.002\n",
      "Electrical_Other          0.0013      0.001      1.219      0.223      -0.001       0.004\n",
      "Functional_Other         -0.0075      0.001     -6.278      0.000      -0.010      -0.005\n",
      "GarageCars                0.0025      0.000      5.950      0.000       0.002       0.003\n",
      "GarageQual                0.0007      0.000      2.412      0.016       0.000       0.001\n",
      "WoodDeckSF                0.0007      0.000      2.413      0.016       0.000       0.001\n",
      "MiscVal               -5.908e-05      0.000     -0.216      0.829      -0.001       0.000\n",
      "GarageAge             -3.272e-05      0.001     -0.046      0.963      -0.001       0.001\n",
      "TotalPorch                0.0008      0.000      2.470      0.014       0.000       0.001\n",
      "GarageType_BuiltIn       -0.0028      0.001     -2.220      0.027      -0.005      -0.000\n",
      "GarageType_Detchd         0.0006      0.001      0.717      0.474      -0.001       0.002\n",
      "GarageFinish_Fin          0.0013      0.001      1.355      0.176      -0.001       0.003\n",
      "GarageFinish_RFn         -0.0006      0.001     -0.689      0.491      -0.002       0.001\n",
      "Fence_GdWo               -0.0016      0.002     -1.014      0.311      -0.005       0.001\n",
      "Fence_MnPrv               0.0008      0.001      0.848      0.397      -0.001       0.003\n",
      "MoSold_3                 -0.0014      0.001     -1.284      0.199      -0.003       0.001\n",
      "MoSold_5                  0.0018      0.001      2.220      0.027       0.000       0.003\n",
      "MoSold_7                  0.0007      0.001      0.960      0.337      -0.001       0.002\n",
      "MoSold_10                -0.0023      0.001     -2.008      0.045      -0.005   -5.27e-05\n",
      "SaleType_ConLD            0.0151      0.004      3.600      0.000       0.007       0.023\n",
      "SaleType_New              0.0015      0.001      2.313      0.021       0.000       0.003\n",
      "SaleCondition_Abnorml    -0.0040      0.001     -3.662      0.000      -0.006      -0.002\n",
      "SaleCondition_Family     -0.0046      0.002     -2.038      0.042      -0.009      -0.000\n",
      "SaleCondition_Partial     0.0015      0.001      2.313      0.021       0.000       0.003\n",
      "BsmtFinSF1                0.0012      0.001      1.750      0.080      -0.000       0.002\n",
      "BsmtFinSF2               -0.0002      0.001     -0.353      0.724      -0.001       0.001\n",
      "BsmtUnfSF                -0.0007      0.000     -1.550      0.121      -0.002       0.000\n",
      "TotalBsmtSF               0.0017      0.001      2.378      0.018       0.000       0.003\n",
      "ExterQual                 0.0006      0.000      1.201      0.230      -0.000       0.001\n",
      "ExterCond                -0.0002      0.000     -0.606      0.545      -0.001       0.000\n",
      "BsmtQual                  0.0007      0.001      1.056      0.291      -0.001       0.002\n",
      "BsmtCond                 -0.0003      0.001     -0.568      0.570      -0.001       0.001\n",
      "BsmtExposure              0.0012      0.000      3.475      0.001       0.001       0.002\n",
      "BsmtFinType1              0.0007      0.001      1.067      0.286      -0.001       0.002\n",
      "BsmtFinType2          -5.193e-05      0.001     -0.088      0.930      -0.001       0.001\n",
      "RoofStyle_Hip             0.0011      0.001      1.394      0.163      -0.000       0.003\n",
      "RoofMatl_WdShngl          0.0102      0.004      2.435      0.015       0.002       0.019\n",
      "Exterior1st_BrkFace       0.0065      0.002      3.749      0.000       0.003       0.010\n",
      "Exterior1st_HdBoard    5.883e-05      0.002      0.035      0.972      -0.003       0.003\n",
      "Exterior1st_Wd Sdng      -0.0014      0.001     -1.448      0.148      -0.003       0.000\n",
      "Exterior2nd_HdBoard      -0.0009      0.002     -0.509      0.611      -0.004       0.003\n",
      "Exterior2nd_MetalSd       0.0008      0.001      0.904      0.366      -0.001       0.003\n",
      "Exterior2nd_Plywood      -0.0015      0.001     -1.285      0.199      -0.004       0.001\n",
      "Exterior2nd_Wd Shng      -0.0022      0.002     -1.313      0.190      -0.006       0.001\n",
      "MasVnrType_BrkCmn        -0.0062      0.003     -2.304      0.021      -0.012      -0.001\n",
      "MasVnrType_BrkFace     3.774e-05      0.001      0.052      0.959      -0.001       0.001\n",
      "MasVnrType_Stone          0.0012      0.001      0.966      0.334      -0.001       0.004\n",
      "Foundation_BrkTil        -0.0033      0.001     -2.427      0.015      -0.006      -0.001\n",
      "Foundation_CBlock        -0.0014      0.001     -1.548      0.122      -0.003       0.000\n",
      "==============================================================================\n",
      "Omnibus:                      427.222   Durbin-Watson:                   1.987\n",
      "Prob(Omnibus):                  0.000   Jarque-Bera (JB):             4715.172\n",
      "Skew:                          -1.365   Prob(JB):                         0.00\n",
      "Kurtosis:                      12.461   Cond. No.                     2.25e+15\n",
      "==============================================================================\n",
      "\n",
      "Warnings:\n",
      "[1] Standard Errors assume that the covariance matrix of the errors is correctly specified.\n",
      "[2] The smallest eigenvalue is 1.8e-27. This might indicate that there are\n",
      "strong multicollinearity problems or that the design matrix is singular.\n"
     ]
    }
   ],
   "source": [
    "import statsmodels.api as sm \n",
    "X_add_const = sm.add_constant(x_train2)\n",
    "ols = sm.OLS(np.log(y_train), X_add_const)\n",
    "ans = ols.fit()\n",
    "print(ans.summary())"
   ]
  },
  {
   "cell_type": "code",
   "execution_count": 325,
   "metadata": {},
   "outputs": [
    {
     "data": {
      "text/html": [
       "<div>\n",
       "<style scoped>\n",
       "    .dataframe tbody tr th:only-of-type {\n",
       "        vertical-align: middle;\n",
       "    }\n",
       "\n",
       "    .dataframe tbody tr th {\n",
       "        vertical-align: top;\n",
       "    }\n",
       "\n",
       "    .dataframe thead th {\n",
       "        text-align: right;\n",
       "    }\n",
       "</style>\n",
       "<table border=\"1\" class=\"dataframe\">\n",
       "  <thead>\n",
       "    <tr style=\"text-align: right;\">\n",
       "      <th></th>\n",
       "      <th>name</th>\n",
       "      <th>coef</th>\n",
       "      <th>std err</th>\n",
       "      <th>t value</th>\n",
       "      <th>p value</th>\n",
       "      <th>2.5% confidence</th>\n",
       "      <th>97.5% confidence</th>\n",
       "    </tr>\n",
       "  </thead>\n",
       "  <tbody>\n",
       "    <tr>\n",
       "      <td>0</td>\n",
       "      <td>const</td>\n",
       "      <td>12.0689</td>\n",
       "      <td>0.013</td>\n",
       "      <td>903.344</td>\n",
       "      <td>0.000</td>\n",
       "      <td>12.043</td>\n",
       "      <td>12.095</td>\n",
       "    </tr>\n",
       "    <tr>\n",
       "      <td>68</td>\n",
       "      <td>SaleType_ConLD</td>\n",
       "      <td>0.1692</td>\n",
       "      <td>0.051</td>\n",
       "      <td>3.347</td>\n",
       "      <td>0.001</td>\n",
       "      <td>0.070</td>\n",
       "      <td>0.268</td>\n",
       "    </tr>\n",
       "    <tr>\n",
       "      <td>40</td>\n",
       "      <td>GrLivArea</td>\n",
       "      <td>0.1586</td>\n",
       "      <td>0.009</td>\n",
       "      <td>17.570</td>\n",
       "      <td>0.000</td>\n",
       "      <td>0.141</td>\n",
       "      <td>0.176</td>\n",
       "    </tr>\n",
       "    <tr>\n",
       "      <td>25</td>\n",
       "      <td>Neighborhood_StoneBr</td>\n",
       "      <td>0.1584</td>\n",
       "      <td>0.030</td>\n",
       "      <td>5.318</td>\n",
       "      <td>0.000</td>\n",
       "      <td>0.100</td>\n",
       "      <td>0.217</td>\n",
       "    </tr>\n",
       "    <tr>\n",
       "      <td>85</td>\n",
       "      <td>RoofMatl_WdShngl</td>\n",
       "      <td>0.1400</td>\n",
       "      <td>0.051</td>\n",
       "      <td>2.770</td>\n",
       "      <td>0.006</td>\n",
       "      <td>0.041</td>\n",
       "      <td>0.239</td>\n",
       "    </tr>\n",
       "    <tr>\n",
       "      <td>21</td>\n",
       "      <td>Neighborhood_NridgHt</td>\n",
       "      <td>0.1292</td>\n",
       "      <td>0.019</td>\n",
       "      <td>6.976</td>\n",
       "      <td>0.000</td>\n",
       "      <td>0.093</td>\n",
       "      <td>0.166</td>\n",
       "    </tr>\n",
       "    <tr>\n",
       "      <td>14</td>\n",
       "      <td>Neighborhood_Crawfor</td>\n",
       "      <td>0.1266</td>\n",
       "      <td>0.020</td>\n",
       "      <td>6.395</td>\n",
       "      <td>0.000</td>\n",
       "      <td>0.088</td>\n",
       "      <td>0.165</td>\n",
       "    </tr>\n",
       "    <tr>\n",
       "      <td>20</td>\n",
       "      <td>Neighborhood_NoRidge</td>\n",
       "      <td>0.0947</td>\n",
       "      <td>0.021</td>\n",
       "      <td>4.478</td>\n",
       "      <td>0.000</td>\n",
       "      <td>0.053</td>\n",
       "      <td>0.136</td>\n",
       "    </tr>\n",
       "    <tr>\n",
       "      <td>86</td>\n",
       "      <td>Exterior1st_BrkFace</td>\n",
       "      <td>0.0783</td>\n",
       "      <td>0.021</td>\n",
       "      <td>3.774</td>\n",
       "      <td>0.000</td>\n",
       "      <td>0.038</td>\n",
       "      <td>0.119</td>\n",
       "    </tr>\n",
       "    <tr>\n",
       "      <td>13</td>\n",
       "      <td>Neighborhood_ClearCr</td>\n",
       "      <td>0.0684</td>\n",
       "      <td>0.025</td>\n",
       "      <td>2.694</td>\n",
       "      <td>0.007</td>\n",
       "      <td>0.019</td>\n",
       "      <td>0.118</td>\n",
       "    </tr>\n",
       "    <tr>\n",
       "      <td>34</td>\n",
       "      <td>OverallQual</td>\n",
       "      <td>0.0550</td>\n",
       "      <td>0.007</td>\n",
       "      <td>8.302</td>\n",
       "      <td>0.000</td>\n",
       "      <td>0.042</td>\n",
       "      <td>0.068</td>\n",
       "    </tr>\n",
       "    <tr>\n",
       "      <td>12</td>\n",
       "      <td>Neighborhood_BrkSide</td>\n",
       "      <td>0.0492</td>\n",
       "      <td>0.019</td>\n",
       "      <td>2.521</td>\n",
       "      <td>0.012</td>\n",
       "      <td>0.011</td>\n",
       "      <td>0.087</td>\n",
       "    </tr>\n",
       "    <tr>\n",
       "      <td>35</td>\n",
       "      <td>OverallCond</td>\n",
       "      <td>0.0480</td>\n",
       "      <td>0.005</td>\n",
       "      <td>10.292</td>\n",
       "      <td>0.000</td>\n",
       "      <td>0.039</td>\n",
       "      <td>0.057</td>\n",
       "    </tr>\n",
       "    <tr>\n",
       "      <td>39</td>\n",
       "      <td>LotArea</td>\n",
       "      <td>0.0387</td>\n",
       "      <td>0.006</td>\n",
       "      <td>6.427</td>\n",
       "      <td>0.000</td>\n",
       "      <td>0.027</td>\n",
       "      <td>0.051</td>\n",
       "    </tr>\n",
       "    <tr>\n",
       "      <td>9</td>\n",
       "      <td>LotConfig_CulDSac</td>\n",
       "      <td>0.0318</td>\n",
       "      <td>0.014</td>\n",
       "      <td>2.219</td>\n",
       "      <td>0.027</td>\n",
       "      <td>0.004</td>\n",
       "      <td>0.060</td>\n",
       "    </tr>\n",
       "    <tr>\n",
       "      <td>52</td>\n",
       "      <td>GarageCars</td>\n",
       "      <td>0.0293</td>\n",
       "      <td>0.005</td>\n",
       "      <td>5.821</td>\n",
       "      <td>0.000</td>\n",
       "      <td>0.019</td>\n",
       "      <td>0.039</td>\n",
       "    </tr>\n",
       "    <tr>\n",
       "      <td>65</td>\n",
       "      <td>MoSold_5</td>\n",
       "      <td>0.0220</td>\n",
       "      <td>0.010</td>\n",
       "      <td>2.214</td>\n",
       "      <td>0.027</td>\n",
       "      <td>0.003</td>\n",
       "      <td>0.042</td>\n",
       "    </tr>\n",
       "    <tr>\n",
       "      <td>69</td>\n",
       "      <td>SaleType_New</td>\n",
       "      <td>0.0205</td>\n",
       "      <td>0.008</td>\n",
       "      <td>2.545</td>\n",
       "      <td>0.011</td>\n",
       "      <td>0.005</td>\n",
       "      <td>0.036</td>\n",
       "    </tr>\n",
       "    <tr>\n",
       "      <td>72</td>\n",
       "      <td>SaleCondition_Partial</td>\n",
       "      <td>0.0205</td>\n",
       "      <td>0.008</td>\n",
       "      <td>2.545</td>\n",
       "      <td>0.011</td>\n",
       "      <td>0.005</td>\n",
       "      <td>0.036</td>\n",
       "    </tr>\n",
       "    <tr>\n",
       "      <td>44</td>\n",
       "      <td>BathCombined_Bsmt</td>\n",
       "      <td>0.0201</td>\n",
       "      <td>0.004</td>\n",
       "      <td>4.539</td>\n",
       "      <td>0.000</td>\n",
       "      <td>0.011</td>\n",
       "      <td>0.029</td>\n",
       "    </tr>\n",
       "    <tr>\n",
       "      <td>76</td>\n",
       "      <td>TotalBsmtSF</td>\n",
       "      <td>0.0193</td>\n",
       "      <td>0.009</td>\n",
       "      <td>2.217</td>\n",
       "      <td>0.027</td>\n",
       "      <td>0.002</td>\n",
       "      <td>0.036</td>\n",
       "    </tr>\n",
       "    <tr>\n",
       "      <td>81</td>\n",
       "      <td>BsmtExposure</td>\n",
       "      <td>0.0165</td>\n",
       "      <td>0.004</td>\n",
       "      <td>3.885</td>\n",
       "      <td>0.000</td>\n",
       "      <td>0.008</td>\n",
       "      <td>0.025</td>\n",
       "    </tr>\n",
       "    <tr>\n",
       "      <td>41</td>\n",
       "      <td>HeatingQC</td>\n",
       "      <td>0.0119</td>\n",
       "      <td>0.004</td>\n",
       "      <td>2.691</td>\n",
       "      <td>0.007</td>\n",
       "      <td>0.003</td>\n",
       "      <td>0.021</td>\n",
       "    </tr>\n",
       "    <tr>\n",
       "      <td>42</td>\n",
       "      <td>CentralAir</td>\n",
       "      <td>0.0101</td>\n",
       "      <td>0.004</td>\n",
       "      <td>2.480</td>\n",
       "      <td>0.013</td>\n",
       "      <td>0.002</td>\n",
       "      <td>0.018</td>\n",
       "    </tr>\n",
       "    <tr>\n",
       "      <td>54</td>\n",
       "      <td>WoodDeckSF</td>\n",
       "      <td>0.0087</td>\n",
       "      <td>0.004</td>\n",
       "      <td>2.341</td>\n",
       "      <td>0.019</td>\n",
       "      <td>0.001</td>\n",
       "      <td>0.016</td>\n",
       "    </tr>\n",
       "    <tr>\n",
       "      <td>53</td>\n",
       "      <td>GarageQual</td>\n",
       "      <td>0.0086</td>\n",
       "      <td>0.004</td>\n",
       "      <td>2.407</td>\n",
       "      <td>0.016</td>\n",
       "      <td>0.002</td>\n",
       "      <td>0.016</td>\n",
       "    </tr>\n",
       "    <tr>\n",
       "      <td>57</td>\n",
       "      <td>TotalPorch</td>\n",
       "      <td>0.0084</td>\n",
       "      <td>0.004</td>\n",
       "      <td>2.282</td>\n",
       "      <td>0.023</td>\n",
       "      <td>0.001</td>\n",
       "      <td>0.016</td>\n",
       "    </tr>\n",
       "    <tr>\n",
       "      <td>37</td>\n",
       "      <td>AgeRemodAdd</td>\n",
       "      <td>-0.0147</td>\n",
       "      <td>0.005</td>\n",
       "      <td>-2.726</td>\n",
       "      <td>0.007</td>\n",
       "      <td>-0.025</td>\n",
       "      <td>-0.004</td>\n",
       "    </tr>\n",
       "    <tr>\n",
       "      <td>46</td>\n",
       "      <td>KitchenAbvGr</td>\n",
       "      <td>-0.0175</td>\n",
       "      <td>0.004</td>\n",
       "      <td>-4.314</td>\n",
       "      <td>0.000</td>\n",
       "      <td>-0.025</td>\n",
       "      <td>-0.010</td>\n",
       "    </tr>\n",
       "    <tr>\n",
       "      <td>67</td>\n",
       "      <td>MoSold_10</td>\n",
       "      <td>-0.0280</td>\n",
       "      <td>0.014</td>\n",
       "      <td>-2.047</td>\n",
       "      <td>0.041</td>\n",
       "      <td>-0.055</td>\n",
       "      <td>-0.001</td>\n",
       "    </tr>\n",
       "    <tr>\n",
       "      <td>58</td>\n",
       "      <td>GarageType_BuiltIn</td>\n",
       "      <td>-0.0319</td>\n",
       "      <td>0.015</td>\n",
       "      <td>-2.117</td>\n",
       "      <td>0.035</td>\n",
       "      <td>-0.061</td>\n",
       "      <td>-0.002</td>\n",
       "    </tr>\n",
       "    <tr>\n",
       "      <td>4</td>\n",
       "      <td>MSZoning_RM</td>\n",
       "      <td>-0.0322</td>\n",
       "      <td>0.013</td>\n",
       "      <td>-2.396</td>\n",
       "      <td>0.017</td>\n",
       "      <td>-0.058</td>\n",
       "      <td>-0.006</td>\n",
       "    </tr>\n",
       "    <tr>\n",
       "      <td>31</td>\n",
       "      <td>HouseStyle_1.5Fin</td>\n",
       "      <td>-0.0373</td>\n",
       "      <td>0.014</td>\n",
       "      <td>-2.723</td>\n",
       "      <td>0.007</td>\n",
       "      <td>-0.064</td>\n",
       "      <td>-0.010</td>\n",
       "    </tr>\n",
       "    <tr>\n",
       "      <td>96</td>\n",
       "      <td>Foundation_BrkTil</td>\n",
       "      <td>-0.0392</td>\n",
       "      <td>0.016</td>\n",
       "      <td>-2.418</td>\n",
       "      <td>0.016</td>\n",
       "      <td>-0.071</td>\n",
       "      <td>-0.007</td>\n",
       "    </tr>\n",
       "    <tr>\n",
       "      <td>19</td>\n",
       "      <td>Neighborhood_NWAmes</td>\n",
       "      <td>-0.0402</td>\n",
       "      <td>0.017</td>\n",
       "      <td>-2.301</td>\n",
       "      <td>0.022</td>\n",
       "      <td>-0.074</td>\n",
       "      <td>-0.006</td>\n",
       "    </tr>\n",
       "    <tr>\n",
       "      <td>1</td>\n",
       "      <td>MSSubClass_PUD</td>\n",
       "      <td>-0.0405</td>\n",
       "      <td>0.018</td>\n",
       "      <td>-2.206</td>\n",
       "      <td>0.028</td>\n",
       "      <td>-0.077</td>\n",
       "      <td>-0.004</td>\n",
       "    </tr>\n",
       "    <tr>\n",
       "      <td>27</td>\n",
       "      <td>Condition1_Feedr</td>\n",
       "      <td>-0.0411</td>\n",
       "      <td>0.015</td>\n",
       "      <td>-2.802</td>\n",
       "      <td>0.005</td>\n",
       "      <td>-0.070</td>\n",
       "      <td>-0.012</td>\n",
       "    </tr>\n",
       "    <tr>\n",
       "      <td>70</td>\n",
       "      <td>SaleCondition_Abnorml</td>\n",
       "      <td>-0.0435</td>\n",
       "      <td>0.013</td>\n",
       "      <td>-3.355</td>\n",
       "      <td>0.001</td>\n",
       "      <td>-0.069</td>\n",
       "      <td>-0.018</td>\n",
       "    </tr>\n",
       "    <tr>\n",
       "      <td>10</td>\n",
       "      <td>LotConfig_FR2</td>\n",
       "      <td>-0.0462</td>\n",
       "      <td>0.020</td>\n",
       "      <td>-2.354</td>\n",
       "      <td>0.019</td>\n",
       "      <td>-0.085</td>\n",
       "      <td>-0.008</td>\n",
       "    </tr>\n",
       "    <tr>\n",
       "      <td>7</td>\n",
       "      <td>LandContour_Bnk</td>\n",
       "      <td>-0.0491</td>\n",
       "      <td>0.017</td>\n",
       "      <td>-2.934</td>\n",
       "      <td>0.003</td>\n",
       "      <td>-0.082</td>\n",
       "      <td>-0.016</td>\n",
       "    </tr>\n",
       "    <tr>\n",
       "      <td>16</td>\n",
       "      <td>Neighborhood_Gilbert</td>\n",
       "      <td>-0.0494</td>\n",
       "      <td>0.018</td>\n",
       "      <td>-2.794</td>\n",
       "      <td>0.005</td>\n",
       "      <td>-0.084</td>\n",
       "      <td>-0.015</td>\n",
       "    </tr>\n",
       "    <tr>\n",
       "      <td>71</td>\n",
       "      <td>SaleCondition_Family</td>\n",
       "      <td>-0.0549</td>\n",
       "      <td>0.027</td>\n",
       "      <td>-2.026</td>\n",
       "      <td>0.043</td>\n",
       "      <td>-0.108</td>\n",
       "      <td>-0.002</td>\n",
       "    </tr>\n",
       "    <tr>\n",
       "      <td>32</td>\n",
       "      <td>HouseStyle_2Story</td>\n",
       "      <td>-0.0603</td>\n",
       "      <td>0.012</td>\n",
       "      <td>-5.158</td>\n",
       "      <td>0.000</td>\n",
       "      <td>-0.083</td>\n",
       "      <td>-0.037</td>\n",
       "    </tr>\n",
       "    <tr>\n",
       "      <td>36</td>\n",
       "      <td>AgeBuilt</td>\n",
       "      <td>-0.0667</td>\n",
       "      <td>0.009</td>\n",
       "      <td>-7.146</td>\n",
       "      <td>0.000</td>\n",
       "      <td>-0.085</td>\n",
       "      <td>-0.048</td>\n",
       "    </tr>\n",
       "    <tr>\n",
       "      <td>15</td>\n",
       "      <td>Neighborhood_Edwards</td>\n",
       "      <td>-0.0713</td>\n",
       "      <td>0.014</td>\n",
       "      <td>-5.145</td>\n",
       "      <td>0.000</td>\n",
       "      <td>-0.098</td>\n",
       "      <td>-0.044</td>\n",
       "    </tr>\n",
       "    <tr>\n",
       "      <td>93</td>\n",
       "      <td>MasVnrType_BrkCmn</td>\n",
       "      <td>-0.0764</td>\n",
       "      <td>0.033</td>\n",
       "      <td>-2.347</td>\n",
       "      <td>0.019</td>\n",
       "      <td>-0.140</td>\n",
       "      <td>-0.013</td>\n",
       "    </tr>\n",
       "    <tr>\n",
       "      <td>28</td>\n",
       "      <td>Condition1_PosN</td>\n",
       "      <td>-0.0862</td>\n",
       "      <td>0.028</td>\n",
       "      <td>-3.035</td>\n",
       "      <td>0.002</td>\n",
       "      <td>-0.142</td>\n",
       "      <td>-0.030</td>\n",
       "    </tr>\n",
       "    <tr>\n",
       "      <td>26</td>\n",
       "      <td>Condition1_Artery</td>\n",
       "      <td>-0.0887</td>\n",
       "      <td>0.019</td>\n",
       "      <td>-4.790</td>\n",
       "      <td>0.000</td>\n",
       "      <td>-0.125</td>\n",
       "      <td>-0.052</td>\n",
       "    </tr>\n",
       "    <tr>\n",
       "      <td>51</td>\n",
       "      <td>Functional_Other</td>\n",
       "      <td>-0.0906</td>\n",
       "      <td>0.014</td>\n",
       "      <td>-6.317</td>\n",
       "      <td>0.000</td>\n",
       "      <td>-0.119</td>\n",
       "      <td>-0.062</td>\n",
       "    </tr>\n",
       "    <tr>\n",
       "      <td>29</td>\n",
       "      <td>Condition1_RRAe</td>\n",
       "      <td>-0.1081</td>\n",
       "      <td>0.034</td>\n",
       "      <td>-3.177</td>\n",
       "      <td>0.002</td>\n",
       "      <td>-0.175</td>\n",
       "      <td>-0.041</td>\n",
       "    </tr>\n",
       "    <tr>\n",
       "      <td>2</td>\n",
       "      <td>MSZoning_C (all)</td>\n",
       "      <td>-0.3855</td>\n",
       "      <td>0.048</td>\n",
       "      <td>-8.054</td>\n",
       "      <td>0.000</td>\n",
       "      <td>-0.479</td>\n",
       "      <td>-0.292</td>\n",
       "    </tr>\n",
       "  </tbody>\n",
       "</table>\n",
       "</div>"
      ],
      "text/plain": [
       "                     name     coef  std err  t value  p value  \\\n",
       "0                   const  12.0689    0.013  903.344    0.000   \n",
       "68         SaleType_ConLD   0.1692    0.051    3.347    0.001   \n",
       "40              GrLivArea   0.1586    0.009   17.570    0.000   \n",
       "25   Neighborhood_StoneBr   0.1584    0.030    5.318    0.000   \n",
       "85       RoofMatl_WdShngl   0.1400    0.051    2.770    0.006   \n",
       "21   Neighborhood_NridgHt   0.1292    0.019    6.976    0.000   \n",
       "14   Neighborhood_Crawfor   0.1266    0.020    6.395    0.000   \n",
       "20   Neighborhood_NoRidge   0.0947    0.021    4.478    0.000   \n",
       "86    Exterior1st_BrkFace   0.0783    0.021    3.774    0.000   \n",
       "13   Neighborhood_ClearCr   0.0684    0.025    2.694    0.007   \n",
       "34            OverallQual   0.0550    0.007    8.302    0.000   \n",
       "12   Neighborhood_BrkSide   0.0492    0.019    2.521    0.012   \n",
       "35            OverallCond   0.0480    0.005   10.292    0.000   \n",
       "39                LotArea   0.0387    0.006    6.427    0.000   \n",
       "9       LotConfig_CulDSac   0.0318    0.014    2.219    0.027   \n",
       "52             GarageCars   0.0293    0.005    5.821    0.000   \n",
       "65               MoSold_5   0.0220    0.010    2.214    0.027   \n",
       "69           SaleType_New   0.0205    0.008    2.545    0.011   \n",
       "72  SaleCondition_Partial   0.0205    0.008    2.545    0.011   \n",
       "44      BathCombined_Bsmt   0.0201    0.004    4.539    0.000   \n",
       "76            TotalBsmtSF   0.0193    0.009    2.217    0.027   \n",
       "81           BsmtExposure   0.0165    0.004    3.885    0.000   \n",
       "41              HeatingQC   0.0119    0.004    2.691    0.007   \n",
       "42             CentralAir   0.0101    0.004    2.480    0.013   \n",
       "54             WoodDeckSF   0.0087    0.004    2.341    0.019   \n",
       "53             GarageQual   0.0086    0.004    2.407    0.016   \n",
       "57             TotalPorch   0.0084    0.004    2.282    0.023   \n",
       "37            AgeRemodAdd  -0.0147    0.005   -2.726    0.007   \n",
       "46           KitchenAbvGr  -0.0175    0.004   -4.314    0.000   \n",
       "67              MoSold_10  -0.0280    0.014   -2.047    0.041   \n",
       "58     GarageType_BuiltIn  -0.0319    0.015   -2.117    0.035   \n",
       "4             MSZoning_RM  -0.0322    0.013   -2.396    0.017   \n",
       "31      HouseStyle_1.5Fin  -0.0373    0.014   -2.723    0.007   \n",
       "96      Foundation_BrkTil  -0.0392    0.016   -2.418    0.016   \n",
       "19    Neighborhood_NWAmes  -0.0402    0.017   -2.301    0.022   \n",
       "1          MSSubClass_PUD  -0.0405    0.018   -2.206    0.028   \n",
       "27       Condition1_Feedr  -0.0411    0.015   -2.802    0.005   \n",
       "70  SaleCondition_Abnorml  -0.0435    0.013   -3.355    0.001   \n",
       "10          LotConfig_FR2  -0.0462    0.020   -2.354    0.019   \n",
       "7         LandContour_Bnk  -0.0491    0.017   -2.934    0.003   \n",
       "16   Neighborhood_Gilbert  -0.0494    0.018   -2.794    0.005   \n",
       "71   SaleCondition_Family  -0.0549    0.027   -2.026    0.043   \n",
       "32      HouseStyle_2Story  -0.0603    0.012   -5.158    0.000   \n",
       "36               AgeBuilt  -0.0667    0.009   -7.146    0.000   \n",
       "15   Neighborhood_Edwards  -0.0713    0.014   -5.145    0.000   \n",
       "93      MasVnrType_BrkCmn  -0.0764    0.033   -2.347    0.019   \n",
       "28        Condition1_PosN  -0.0862    0.028   -3.035    0.002   \n",
       "26      Condition1_Artery  -0.0887    0.019   -4.790    0.000   \n",
       "51       Functional_Other  -0.0906    0.014   -6.317    0.000   \n",
       "29        Condition1_RRAe  -0.1081    0.034   -3.177    0.002   \n",
       "2        MSZoning_C (all)  -0.3855    0.048   -8.054    0.000   \n",
       "\n",
       "    2.5% confidence  97.5% confidence  \n",
       "0            12.043            12.095  \n",
       "68            0.070             0.268  \n",
       "40            0.141             0.176  \n",
       "25            0.100             0.217  \n",
       "85            0.041             0.239  \n",
       "21            0.093             0.166  \n",
       "14            0.088             0.165  \n",
       "20            0.053             0.136  \n",
       "86            0.038             0.119  \n",
       "13            0.019             0.118  \n",
       "34            0.042             0.068  \n",
       "12            0.011             0.087  \n",
       "35            0.039             0.057  \n",
       "39            0.027             0.051  \n",
       "9             0.004             0.060  \n",
       "52            0.019             0.039  \n",
       "65            0.003             0.042  \n",
       "69            0.005             0.036  \n",
       "72            0.005             0.036  \n",
       "44            0.011             0.029  \n",
       "76            0.002             0.036  \n",
       "81            0.008             0.025  \n",
       "41            0.003             0.021  \n",
       "42            0.002             0.018  \n",
       "54            0.001             0.016  \n",
       "53            0.002             0.016  \n",
       "57            0.001             0.016  \n",
       "37           -0.025            -0.004  \n",
       "46           -0.025            -0.010  \n",
       "67           -0.055            -0.001  \n",
       "58           -0.061            -0.002  \n",
       "4            -0.058            -0.006  \n",
       "31           -0.064            -0.010  \n",
       "96           -0.071            -0.007  \n",
       "19           -0.074            -0.006  \n",
       "1            -0.077            -0.004  \n",
       "27           -0.070            -0.012  \n",
       "70           -0.069            -0.018  \n",
       "10           -0.085            -0.008  \n",
       "7            -0.082            -0.016  \n",
       "16           -0.084            -0.015  \n",
       "71           -0.108            -0.002  \n",
       "32           -0.083            -0.037  \n",
       "36           -0.085            -0.048  \n",
       "15           -0.098            -0.044  \n",
       "93           -0.140            -0.013  \n",
       "28           -0.142            -0.030  \n",
       "26           -0.125            -0.052  \n",
       "51           -0.119            -0.062  \n",
       "29           -0.175            -0.041  \n",
       "2            -0.479            -0.292  "
      ]
     },
     "execution_count": 325,
     "metadata": {},
     "output_type": "execute_result"
    }
   ],
   "source": [
    "ols = sm.OLS(y_train, X_add_const)\n",
    "ans = ols.fit()\n",
    "table = pd.DataFrame(ans.summary().tables[1].data[1:])\n",
    "table.columns = ['name','coef','std err','t value','p value','2.5% confidence','97.5% confidence']\n",
    "table = table.astype({'name':str,'coef':float,'std err':float, 't value':float, 'p value':float,'2.5% confidence':float, '97.5% confidence':float})\n",
    "coef_df = table[table['p value']<0.05].sort_values('coef', ascending = False)\n",
    "coef_df\n",
    "#[table['p value']<0.05]"
   ]
  },
  {
   "cell_type": "code",
   "execution_count": 322,
   "metadata": {
    "scrolled": false
   },
   "outputs": [
    {
     "data": {
      "text/html": [
       "<div>\n",
       "<style scoped>\n",
       "    .dataframe tbody tr th:only-of-type {\n",
       "        vertical-align: middle;\n",
       "    }\n",
       "\n",
       "    .dataframe tbody tr th {\n",
       "        vertical-align: top;\n",
       "    }\n",
       "\n",
       "    .dataframe thead th {\n",
       "        text-align: right;\n",
       "    }\n",
       "</style>\n",
       "<table border=\"1\" class=\"dataframe\">\n",
       "  <thead>\n",
       "    <tr style=\"text-align: right;\">\n",
       "      <th></th>\n",
       "      <th>name</th>\n",
       "      <th>coef</th>\n",
       "      <th>std err</th>\n",
       "      <th>t value</th>\n",
       "      <th>p value</th>\n",
       "      <th>2.5% confidence</th>\n",
       "      <th>97.5% confidence</th>\n",
       "    </tr>\n",
       "  </thead>\n",
       "  <tbody>\n",
       "    <tr>\n",
       "      <td>0</td>\n",
       "      <td>const</td>\n",
       "      <td>12.0689</td>\n",
       "      <td>0.013</td>\n",
       "      <td>903.344</td>\n",
       "      <td>0.000</td>\n",
       "      <td>12.043</td>\n",
       "      <td>12.095</td>\n",
       "    </tr>\n",
       "    <tr>\n",
       "      <td>68</td>\n",
       "      <td>SaleType_ConLD</td>\n",
       "      <td>0.1692</td>\n",
       "      <td>0.051</td>\n",
       "      <td>3.347</td>\n",
       "      <td>0.001</td>\n",
       "      <td>0.070</td>\n",
       "      <td>0.268</td>\n",
       "    </tr>\n",
       "    <tr>\n",
       "      <td>40</td>\n",
       "      <td>GrLivArea</td>\n",
       "      <td>0.1586</td>\n",
       "      <td>0.009</td>\n",
       "      <td>17.570</td>\n",
       "      <td>0.000</td>\n",
       "      <td>0.141</td>\n",
       "      <td>0.176</td>\n",
       "    </tr>\n",
       "    <tr>\n",
       "      <td>25</td>\n",
       "      <td>Neighborhood_StoneBr</td>\n",
       "      <td>0.1584</td>\n",
       "      <td>0.030</td>\n",
       "      <td>5.318</td>\n",
       "      <td>0.000</td>\n",
       "      <td>0.100</td>\n",
       "      <td>0.217</td>\n",
       "    </tr>\n",
       "    <tr>\n",
       "      <td>85</td>\n",
       "      <td>RoofMatl_WdShngl</td>\n",
       "      <td>0.1400</td>\n",
       "      <td>0.051</td>\n",
       "      <td>2.770</td>\n",
       "      <td>0.006</td>\n",
       "      <td>0.041</td>\n",
       "      <td>0.239</td>\n",
       "    </tr>\n",
       "    <tr>\n",
       "      <td>...</td>\n",
       "      <td>...</td>\n",
       "      <td>...</td>\n",
       "      <td>...</td>\n",
       "      <td>...</td>\n",
       "      <td>...</td>\n",
       "      <td>...</td>\n",
       "      <td>...</td>\n",
       "    </tr>\n",
       "    <tr>\n",
       "      <td>28</td>\n",
       "      <td>Condition1_PosN</td>\n",
       "      <td>-0.0862</td>\n",
       "      <td>0.028</td>\n",
       "      <td>-3.035</td>\n",
       "      <td>0.002</td>\n",
       "      <td>-0.142</td>\n",
       "      <td>-0.030</td>\n",
       "    </tr>\n",
       "    <tr>\n",
       "      <td>26</td>\n",
       "      <td>Condition1_Artery</td>\n",
       "      <td>-0.0887</td>\n",
       "      <td>0.019</td>\n",
       "      <td>-4.790</td>\n",
       "      <td>0.000</td>\n",
       "      <td>-0.125</td>\n",
       "      <td>-0.052</td>\n",
       "    </tr>\n",
       "    <tr>\n",
       "      <td>51</td>\n",
       "      <td>Functional_Other</td>\n",
       "      <td>-0.0906</td>\n",
       "      <td>0.014</td>\n",
       "      <td>-6.317</td>\n",
       "      <td>0.000</td>\n",
       "      <td>-0.119</td>\n",
       "      <td>-0.062</td>\n",
       "    </tr>\n",
       "    <tr>\n",
       "      <td>29</td>\n",
       "      <td>Condition1_RRAe</td>\n",
       "      <td>-0.1081</td>\n",
       "      <td>0.034</td>\n",
       "      <td>-3.177</td>\n",
       "      <td>0.002</td>\n",
       "      <td>-0.175</td>\n",
       "      <td>-0.041</td>\n",
       "    </tr>\n",
       "    <tr>\n",
       "      <td>2</td>\n",
       "      <td>MSZoning_C (all)</td>\n",
       "      <td>-0.3855</td>\n",
       "      <td>0.048</td>\n",
       "      <td>-8.054</td>\n",
       "      <td>0.000</td>\n",
       "      <td>-0.479</td>\n",
       "      <td>-0.292</td>\n",
       "    </tr>\n",
       "  </tbody>\n",
       "</table>\n",
       "<p>98 rows × 7 columns</p>\n",
       "</div>"
      ],
      "text/plain": [
       "                    name     coef  std err  t value  p value  2.5% confidence  \\\n",
       "0                  const  12.0689    0.013  903.344    0.000           12.043   \n",
       "68        SaleType_ConLD   0.1692    0.051    3.347    0.001            0.070   \n",
       "40             GrLivArea   0.1586    0.009   17.570    0.000            0.141   \n",
       "25  Neighborhood_StoneBr   0.1584    0.030    5.318    0.000            0.100   \n",
       "85      RoofMatl_WdShngl   0.1400    0.051    2.770    0.006            0.041   \n",
       "..                   ...      ...      ...      ...      ...              ...   \n",
       "28       Condition1_PosN  -0.0862    0.028   -3.035    0.002           -0.142   \n",
       "26     Condition1_Artery  -0.0887    0.019   -4.790    0.000           -0.125   \n",
       "51      Functional_Other  -0.0906    0.014   -6.317    0.000           -0.119   \n",
       "29       Condition1_RRAe  -0.1081    0.034   -3.177    0.002           -0.175   \n",
       "2       MSZoning_C (all)  -0.3855    0.048   -8.054    0.000           -0.479   \n",
       "\n",
       "    97.5% confidence  \n",
       "0             12.095  \n",
       "68             0.268  \n",
       "40             0.176  \n",
       "25             0.217  \n",
       "85             0.239  \n",
       "..               ...  \n",
       "28            -0.030  \n",
       "26            -0.052  \n",
       "51            -0.062  \n",
       "29            -0.041  \n",
       "2             -0.292  \n",
       "\n",
       "[98 rows x 7 columns]"
      ]
     },
     "execution_count": 322,
     "metadata": {},
     "output_type": "execute_result"
    }
   ],
   "source": [
    "ols = sm.OLS(y_train, X_add_const)\n",
    "ans = ols.fit()\n",
    "table = pd.DataFrame(ans.summary().tables[1].data[1:])\n",
    "table.columns = ['name','coef','std err','t value','p value','2.5% confidence','97.5% confidence']\n",
    "table = table.astype({'name':str,'coef':float,'std err':float, 't value':float, 'p value':float,'2.5% confidence':float, '97.5% confidence':float})\n",
    "coef_df = table.sort_values('coef', ascending = False)\n",
    "coef_df"
   ]
  },
  {
   "cell_type": "markdown",
   "metadata": {},
   "source": [
    "### Categorical Variable"
   ]
  },
  {
   "cell_type": "markdown",
   "metadata": {},
   "source": [
    "#### Neighborhood"
   ]
  },
  {
   "cell_type": "code",
   "execution_count": 337,
   "metadata": {},
   "outputs": [
    {
     "data": {
      "text/html": [
       "<div>\n",
       "<style scoped>\n",
       "    .dataframe tbody tr th:only-of-type {\n",
       "        vertical-align: middle;\n",
       "    }\n",
       "\n",
       "    .dataframe tbody tr th {\n",
       "        vertical-align: top;\n",
       "    }\n",
       "\n",
       "    .dataframe thead th {\n",
       "        text-align: right;\n",
       "    }\n",
       "</style>\n",
       "<table border=\"1\" class=\"dataframe\">\n",
       "  <thead>\n",
       "    <tr style=\"text-align: right;\">\n",
       "      <th></th>\n",
       "      <th>name</th>\n",
       "      <th>coef</th>\n",
       "      <th>std err</th>\n",
       "      <th>t value</th>\n",
       "      <th>p value</th>\n",
       "      <th>2.5% confidence</th>\n",
       "      <th>97.5% confidence</th>\n",
       "      <th>Price Change Ratio</th>\n",
       "    </tr>\n",
       "  </thead>\n",
       "  <tbody>\n",
       "    <tr>\n",
       "      <td>15</td>\n",
       "      <td>Neighborhood_Edwards</td>\n",
       "      <td>-0.0713</td>\n",
       "      <td>0.014</td>\n",
       "      <td>-5.145</td>\n",
       "      <td>0.000</td>\n",
       "      <td>-0.098</td>\n",
       "      <td>-0.044</td>\n",
       "      <td>0.931182</td>\n",
       "    </tr>\n",
       "    <tr>\n",
       "      <td>16</td>\n",
       "      <td>Neighborhood_Gilbert</td>\n",
       "      <td>-0.0494</td>\n",
       "      <td>0.018</td>\n",
       "      <td>-2.794</td>\n",
       "      <td>0.005</td>\n",
       "      <td>-0.084</td>\n",
       "      <td>-0.015</td>\n",
       "      <td>0.951800</td>\n",
       "    </tr>\n",
       "    <tr>\n",
       "      <td>19</td>\n",
       "      <td>Neighborhood_NWAmes</td>\n",
       "      <td>-0.0402</td>\n",
       "      <td>0.017</td>\n",
       "      <td>-2.301</td>\n",
       "      <td>0.022</td>\n",
       "      <td>-0.074</td>\n",
       "      <td>-0.006</td>\n",
       "      <td>0.960597</td>\n",
       "    </tr>\n",
       "    <tr>\n",
       "      <td>12</td>\n",
       "      <td>Neighborhood_BrkSide</td>\n",
       "      <td>0.0492</td>\n",
       "      <td>0.019</td>\n",
       "      <td>2.521</td>\n",
       "      <td>0.012</td>\n",
       "      <td>0.011</td>\n",
       "      <td>0.087</td>\n",
       "      <td>1.050430</td>\n",
       "    </tr>\n",
       "    <tr>\n",
       "      <td>13</td>\n",
       "      <td>Neighborhood_ClearCr</td>\n",
       "      <td>0.0684</td>\n",
       "      <td>0.025</td>\n",
       "      <td>2.694</td>\n",
       "      <td>0.007</td>\n",
       "      <td>0.019</td>\n",
       "      <td>0.118</td>\n",
       "      <td>1.070794</td>\n",
       "    </tr>\n",
       "    <tr>\n",
       "      <td>20</td>\n",
       "      <td>Neighborhood_NoRidge</td>\n",
       "      <td>0.0947</td>\n",
       "      <td>0.021</td>\n",
       "      <td>4.478</td>\n",
       "      <td>0.000</td>\n",
       "      <td>0.053</td>\n",
       "      <td>0.136</td>\n",
       "      <td>1.099329</td>\n",
       "    </tr>\n",
       "    <tr>\n",
       "      <td>14</td>\n",
       "      <td>Neighborhood_Crawfor</td>\n",
       "      <td>0.1266</td>\n",
       "      <td>0.020</td>\n",
       "      <td>6.395</td>\n",
       "      <td>0.000</td>\n",
       "      <td>0.088</td>\n",
       "      <td>0.165</td>\n",
       "      <td>1.134963</td>\n",
       "    </tr>\n",
       "    <tr>\n",
       "      <td>21</td>\n",
       "      <td>Neighborhood_NridgHt</td>\n",
       "      <td>0.1292</td>\n",
       "      <td>0.019</td>\n",
       "      <td>6.976</td>\n",
       "      <td>0.000</td>\n",
       "      <td>0.093</td>\n",
       "      <td>0.166</td>\n",
       "      <td>1.137918</td>\n",
       "    </tr>\n",
       "    <tr>\n",
       "      <td>25</td>\n",
       "      <td>Neighborhood_StoneBr</td>\n",
       "      <td>0.1584</td>\n",
       "      <td>0.030</td>\n",
       "      <td>5.318</td>\n",
       "      <td>0.000</td>\n",
       "      <td>0.100</td>\n",
       "      <td>0.217</td>\n",
       "      <td>1.171635</td>\n",
       "    </tr>\n",
       "  </tbody>\n",
       "</table>\n",
       "</div>"
      ],
      "text/plain": [
       "                    name    coef  std err  t value  p value  2.5% confidence  \\\n",
       "15  Neighborhood_Edwards -0.0713    0.014   -5.145    0.000           -0.098   \n",
       "16  Neighborhood_Gilbert -0.0494    0.018   -2.794    0.005           -0.084   \n",
       "19   Neighborhood_NWAmes -0.0402    0.017   -2.301    0.022           -0.074   \n",
       "12  Neighborhood_BrkSide  0.0492    0.019    2.521    0.012            0.011   \n",
       "13  Neighborhood_ClearCr  0.0684    0.025    2.694    0.007            0.019   \n",
       "20  Neighborhood_NoRidge  0.0947    0.021    4.478    0.000            0.053   \n",
       "14  Neighborhood_Crawfor  0.1266    0.020    6.395    0.000            0.088   \n",
       "21  Neighborhood_NridgHt  0.1292    0.019    6.976    0.000            0.093   \n",
       "25  Neighborhood_StoneBr  0.1584    0.030    5.318    0.000            0.100   \n",
       "\n",
       "    97.5% confidence  Price Change Ratio  \n",
       "15            -0.044            0.931182  \n",
       "16            -0.015            0.951800  \n",
       "19            -0.006            0.960597  \n",
       "12             0.087            1.050430  \n",
       "13             0.118            1.070794  \n",
       "20             0.136            1.099329  \n",
       "14             0.165            1.134963  \n",
       "21             0.166            1.137918  \n",
       "25             0.217            1.171635  "
      ]
     },
     "execution_count": 337,
     "metadata": {},
     "output_type": "execute_result"
    }
   ],
   "source": [
    "import re\n",
    "nb = coef_df[coef_df['name'].str.match('Neighborhood')]\n",
    "nb['Price Change Ratio'] = np.exp(nb['coef'])\n",
    "nb.sort_values('Price Change Ratio')\n",
    "\n",
    "#Base Neighborhood North Ames"
   ]
  },
  {
   "cell_type": "markdown",
   "metadata": {},
   "source": [
    "#### roof"
   ]
  },
  {
   "cell_type": "code",
   "execution_count": 324,
   "metadata": {},
   "outputs": [
    {
     "data": {
      "text/html": [
       "<div>\n",
       "<style scoped>\n",
       "    .dataframe tbody tr th:only-of-type {\n",
       "        vertical-align: middle;\n",
       "    }\n",
       "\n",
       "    .dataframe tbody tr th {\n",
       "        vertical-align: top;\n",
       "    }\n",
       "\n",
       "    .dataframe thead th {\n",
       "        text-align: right;\n",
       "    }\n",
       "</style>\n",
       "<table border=\"1\" class=\"dataframe\">\n",
       "  <thead>\n",
       "    <tr style=\"text-align: right;\">\n",
       "      <th></th>\n",
       "      <th>name</th>\n",
       "      <th>coef</th>\n",
       "      <th>std err</th>\n",
       "      <th>t value</th>\n",
       "      <th>p value</th>\n",
       "      <th>2.5% confidence</th>\n",
       "      <th>97.5% confidence</th>\n",
       "      <th>Price Change</th>\n",
       "    </tr>\n",
       "  </thead>\n",
       "  <tbody>\n",
       "    <tr>\n",
       "      <td>85</td>\n",
       "      <td>RoofMatl_WdShngl</td>\n",
       "      <td>0.14</td>\n",
       "      <td>0.051</td>\n",
       "      <td>2.77</td>\n",
       "      <td>0.006</td>\n",
       "      <td>0.041</td>\n",
       "      <td>0.239</td>\n",
       "      <td>24494.629214</td>\n",
       "    </tr>\n",
       "  </tbody>\n",
       "</table>\n",
       "</div>"
      ],
      "text/plain": [
       "                name  coef  std err  t value  p value  2.5% confidence  \\\n",
       "85  RoofMatl_WdShngl  0.14    0.051     2.77    0.006            0.041   \n",
       "\n",
       "    97.5% confidence  Price Change  \n",
       "85             0.239  24494.629214  "
      ]
     },
     "execution_count": 324,
     "metadata": {},
     "output_type": "execute_result"
    }
   ],
   "source": [
    "roof = coef_df[coef_df['name'].str.match('RoofMatl')]\n",
    "roof['Price Change'] = np.exp(roof['coef'])*price.median()-price.median()\n",
    "roof\n",
    "# baseline for roof is CompShg"
   ]
  },
  {
   "cell_type": "code",
   "execution_count": 326,
   "metadata": {},
   "outputs": [
    {
     "data": {
      "text/html": [
       "<div>\n",
       "<style scoped>\n",
       "    .dataframe tbody tr th:only-of-type {\n",
       "        vertical-align: middle;\n",
       "    }\n",
       "\n",
       "    .dataframe tbody tr th {\n",
       "        vertical-align: top;\n",
       "    }\n",
       "\n",
       "    .dataframe thead th {\n",
       "        text-align: right;\n",
       "    }\n",
       "</style>\n",
       "<table border=\"1\" class=\"dataframe\">\n",
       "  <thead>\n",
       "    <tr style=\"text-align: right;\">\n",
       "      <th></th>\n",
       "      <th>name</th>\n",
       "      <th>coef</th>\n",
       "      <th>std err</th>\n",
       "      <th>t value</th>\n",
       "      <th>p value</th>\n",
       "      <th>2.5% confidence</th>\n",
       "      <th>97.5% confidence</th>\n",
       "      <th>Price Change</th>\n",
       "    </tr>\n",
       "  </thead>\n",
       "  <tbody>\n",
       "    <tr>\n",
       "      <td>85</td>\n",
       "      <td>RoofMatl_WdShngl</td>\n",
       "      <td>0.14</td>\n",
       "      <td>0.051</td>\n",
       "      <td>2.77</td>\n",
       "      <td>0.006</td>\n",
       "      <td>0.041</td>\n",
       "      <td>0.239</td>\n",
       "      <td>6821.893204</td>\n",
       "    </tr>\n",
       "  </tbody>\n",
       "</table>\n",
       "</div>"
      ],
      "text/plain": [
       "                name  coef  std err  t value  p value  2.5% confidence  \\\n",
       "85  RoofMatl_WdShngl  0.14    0.051     2.77    0.006            0.041   \n",
       "\n",
       "    97.5% confidence  Price Change  \n",
       "85             0.239   6821.893204  "
      ]
     },
     "execution_count": 326,
     "metadata": {},
     "output_type": "execute_result"
    }
   ],
   "source": [
    "# lower bound\n",
    "roof = coef_df[coef_df['name'].str.match('RoofMatl')]\n",
    "roof['Price Change'] = np.exp(roof['2.5% confidence'])*price.median()-price.median()\n",
    "roof"
   ]
  },
  {
   "cell_type": "code",
   "execution_count": 327,
   "metadata": {
    "scrolled": true
   },
   "outputs": [
    {
     "data": {
      "text/html": [
       "<div>\n",
       "<style scoped>\n",
       "    .dataframe tbody tr th:only-of-type {\n",
       "        vertical-align: middle;\n",
       "    }\n",
       "\n",
       "    .dataframe tbody tr th {\n",
       "        vertical-align: top;\n",
       "    }\n",
       "\n",
       "    .dataframe thead th {\n",
       "        text-align: right;\n",
       "    }\n",
       "</style>\n",
       "<table border=\"1\" class=\"dataframe\">\n",
       "  <thead>\n",
       "    <tr style=\"text-align: right;\">\n",
       "      <th></th>\n",
       "      <th>name</th>\n",
       "      <th>coef</th>\n",
       "      <th>std err</th>\n",
       "      <th>t value</th>\n",
       "      <th>p value</th>\n",
       "      <th>2.5% confidence</th>\n",
       "      <th>97.5% confidence</th>\n",
       "      <th>Price Change</th>\n",
       "    </tr>\n",
       "  </thead>\n",
       "  <tbody>\n",
       "    <tr>\n",
       "      <td>85</td>\n",
       "      <td>RoofMatl_WdShngl</td>\n",
       "      <td>0.14</td>\n",
       "      <td>0.051</td>\n",
       "      <td>2.77</td>\n",
       "      <td>0.006</td>\n",
       "      <td>0.041</td>\n",
       "      <td>0.239</td>\n",
       "      <td>44006.501463</td>\n",
       "    </tr>\n",
       "  </tbody>\n",
       "</table>\n",
       "</div>"
      ],
      "text/plain": [
       "                name  coef  std err  t value  p value  2.5% confidence  \\\n",
       "85  RoofMatl_WdShngl  0.14    0.051     2.77    0.006            0.041   \n",
       "\n",
       "    97.5% confidence  Price Change  \n",
       "85             0.239  44006.501463  "
      ]
     },
     "execution_count": 327,
     "metadata": {},
     "output_type": "execute_result"
    }
   ],
   "source": [
    "# upper bound\n",
    "roof = coef_df[coef_df['name'].str.match('RoofMatl')]\n",
    "roof['Price Change'] = np.exp(roof['97.5% confidence'])*price.median()-price.median()\n",
    "roof"
   ]
  },
  {
   "cell_type": "markdown",
   "metadata": {},
   "source": [
    "#### Month"
   ]
  },
  {
   "cell_type": "code",
   "execution_count": 304,
   "metadata": {
    "scrolled": true
   },
   "outputs": [
    {
     "data": {
      "text/html": [
       "<div>\n",
       "<style scoped>\n",
       "    .dataframe tbody tr th:only-of-type {\n",
       "        vertical-align: middle;\n",
       "    }\n",
       "\n",
       "    .dataframe tbody tr th {\n",
       "        vertical-align: top;\n",
       "    }\n",
       "\n",
       "    .dataframe thead th {\n",
       "        text-align: right;\n",
       "    }\n",
       "</style>\n",
       "<table border=\"1\" class=\"dataframe\">\n",
       "  <thead>\n",
       "    <tr style=\"text-align: right;\">\n",
       "      <th></th>\n",
       "      <th>name</th>\n",
       "      <th>coef</th>\n",
       "      <th>std err</th>\n",
       "      <th>t value</th>\n",
       "      <th>p value</th>\n",
       "      <th>2.5% confidence</th>\n",
       "      <th>97.5% confidence</th>\n",
       "      <th>Price Change Ratio</th>\n",
       "    </tr>\n",
       "  </thead>\n",
       "  <tbody>\n",
       "    <tr>\n",
       "      <td>65</td>\n",
       "      <td>MoSold_5</td>\n",
       "      <td>0.0220</td>\n",
       "      <td>0.010</td>\n",
       "      <td>2.214</td>\n",
       "      <td>0.027</td>\n",
       "      <td>0.003</td>\n",
       "      <td>0.042</td>\n",
       "      <td>1.022244</td>\n",
       "    </tr>\n",
       "    <tr>\n",
       "      <td>66</td>\n",
       "      <td>MoSold_7</td>\n",
       "      <td>0.0097</td>\n",
       "      <td>0.009</td>\n",
       "      <td>1.055</td>\n",
       "      <td>0.292</td>\n",
       "      <td>-0.008</td>\n",
       "      <td>0.028</td>\n",
       "      <td>1.009747</td>\n",
       "    </tr>\n",
       "    <tr>\n",
       "      <td>64</td>\n",
       "      <td>MoSold_3</td>\n",
       "      <td>-0.0151</td>\n",
       "      <td>0.013</td>\n",
       "      <td>-1.170</td>\n",
       "      <td>0.242</td>\n",
       "      <td>-0.040</td>\n",
       "      <td>0.010</td>\n",
       "      <td>0.985013</td>\n",
       "    </tr>\n",
       "    <tr>\n",
       "      <td>67</td>\n",
       "      <td>MoSold_10</td>\n",
       "      <td>-0.0280</td>\n",
       "      <td>0.014</td>\n",
       "      <td>-2.047</td>\n",
       "      <td>0.041</td>\n",
       "      <td>-0.055</td>\n",
       "      <td>-0.001</td>\n",
       "      <td>0.972388</td>\n",
       "    </tr>\n",
       "  </tbody>\n",
       "</table>\n",
       "</div>"
      ],
      "text/plain": [
       "         name    coef  std err  t value  p value  2.5% confidence  \\\n",
       "65   MoSold_5  0.0220    0.010    2.214    0.027            0.003   \n",
       "66   MoSold_7  0.0097    0.009    1.055    0.292           -0.008   \n",
       "64   MoSold_3 -0.0151    0.013   -1.170    0.242           -0.040   \n",
       "67  MoSold_10 -0.0280    0.014   -2.047    0.041           -0.055   \n",
       "\n",
       "    97.5% confidence  Price Change Ratio  \n",
       "65             0.042            1.022244  \n",
       "66             0.028            1.009747  \n",
       "64             0.010            0.985013  \n",
       "67            -0.001            0.972388  "
      ]
     },
     "execution_count": 304,
     "metadata": {},
     "output_type": "execute_result"
    }
   ],
   "source": [
    "mon = coef_df[coef_df['name'].str.match('MoSold')]\n",
    "mon['Price Change Ratio'] = np.exp(mon['coef'])\n",
    "mon\n",
    "\n",
    "#Baseline June"
   ]
  },
  {
   "cell_type": "markdown",
   "metadata": {},
   "source": [
    "### Numerical Variables"
   ]
  },
  {
   "cell_type": "code",
   "execution_count": null,
   "metadata": {},
   "outputs": [],
   "source": []
  },
  {
   "cell_type": "markdown",
   "metadata": {},
   "source": [
    "### Models "
   ]
  },
  {
   "cell_type": "code",
   "execution_count": 10,
   "metadata": {},
   "outputs": [],
   "source": [
    "import warnings\n",
    "warnings.filterwarnings('ignore')"
   ]
  },
  {
   "cell_type": "code",
   "execution_count": 110,
   "metadata": {},
   "outputs": [],
   "source": [
    "from sklearn.linear_model import Ridge, Lasso, LassoCV, ElasticNet, LinearRegression\n",
    "from sklearn.metrics import mean_squared_error\n",
    "from sklearn.model_selection import GridSearchCV\n",
    "from sklearn.ensemble import GradientBoostingRegressor\n",
    "from sklearn.model_selection import KFold, cross_val_score\n",
    "from sklearn import svm\n",
    "import math\n",
    "\n",
    "ridge = Ridge()\n",
    "lasso = Lasso()\n",
    "lassoCV = LassoCV()\n",
    "net   = ElasticNet()\n",
    "lm    = LinearRegression()\n",
    "gb    = GradientBoostingRegressor()"
   ]
  },
  {
   "cell_type": "markdown",
   "metadata": {},
   "source": [
    "### K_Fold"
   ]
  },
  {
   "cell_type": "code",
   "execution_count": 12,
   "metadata": {},
   "outputs": [],
   "source": [
    "kf = KFold(n_splits = 5, shuffle = True, random_state = 42)"
   ]
  },
  {
   "cell_type": "markdown",
   "metadata": {},
   "source": [
    "### Multi linear "
   ]
  },
  {
   "cell_type": "code",
   "execution_count": 74,
   "metadata": {},
   "outputs": [
    {
     "data": {
      "text/plain": [
       "LinearRegression(copy_X=True, fit_intercept=True, n_jobs=None, normalize=False)"
      ]
     },
     "execution_count": 74,
     "metadata": {},
     "output_type": "execute_result"
    }
   ],
   "source": [
    "lm.fit(x_train, y_train)"
   ]
  },
  {
   "cell_type": "code",
   "execution_count": 75,
   "metadata": {},
   "outputs": [
    {
     "name": "stdout",
     "output_type": "stream",
     "text": [
      "R^2 for training data: 0.09798398791901823\n",
      "R^2 for testing data: 2034596362.63445\n"
     ]
    }
   ],
   "source": [
    "# R^2\n",
    "rss = np.sum((y_train-lm.predict(x_train))**2)\n",
    "print('R^2 for training data:', math.sqrt(rss/x_train.shape[0]))\n",
    "\n",
    "rss = np.sum((y_test-lm.predict(x_test))**2)\n",
    "print('R^2 for testing data:', math.sqrt(rss/x_test.shape[0]))\n",
    "\n",
    "# need to select features"
   ]
  },
  {
   "cell_type": "code",
   "execution_count": 260,
   "metadata": {},
   "outputs": [
    {
     "data": {
      "text/plain": [
       "LinearRegression(copy_X=True, fit_intercept=True, n_jobs=None, normalize=False)"
      ]
     },
     "execution_count": 260,
     "metadata": {},
     "output_type": "execute_result"
    }
   ],
   "source": [
    "lm.fit(x_train2, y_train)"
   ]
  },
  {
   "cell_type": "code",
   "execution_count": 261,
   "metadata": {},
   "outputs": [
    {
     "name": "stdout",
     "output_type": "stream",
     "text": [
      "R^2 for training data: 0.1016469004469691\n",
      "R^2 for testing data: 13575100940.192455\n"
     ]
    }
   ],
   "source": [
    "rss = np.sum((y_train-lm.predict(x_train2))**2)\n",
    "print('R^2 for training data:', math.sqrt(rss/x_train.shape[0]))\n",
    "\n",
    "rss = np.sum((y_test-lm.predict(x_test2))**2)\n",
    "print('R^2 for testing data:', math.sqrt(rss/x_test.shape[0]))"
   ]
  },
  {
   "cell_type": "code",
   "execution_count": 270,
   "metadata": {},
   "outputs": [
    {
     "data": {
      "text/plain": [
       "LinearRegression(copy_X=True, fit_intercept=True, n_jobs=None, normalize=False)"
      ]
     },
     "execution_count": 270,
     "metadata": {},
     "output_type": "execute_result"
    }
   ],
   "source": [
    "lm.fit(x, y)"
   ]
  },
  {
   "cell_type": "code",
   "execution_count": 262,
   "metadata": {},
   "outputs": [],
   "source": [
    "# feature selection \n",
    "import statsmodels.api as sm\n",
    "from sklearn.feature_selection import RFE"
   ]
  },
  {
   "cell_type": "markdown",
   "metadata": {},
   "source": [
    "### Lasso & Feature Selection"
   ]
  },
  {
   "cell_type": "code",
   "execution_count": 15,
   "metadata": {},
   "outputs": [
    {
     "data": {
      "text/plain": [
       "Lasso(alpha=1.0, copy_X=True, fit_intercept=True, max_iter=1000,\n",
       "      normalize=False, positive=False, precompute=False, random_state=40,\n",
       "      selection='cyclic', tol=0.0001, warm_start=False)"
      ]
     },
     "execution_count": 15,
     "metadata": {},
     "output_type": "execute_result"
    }
   ],
   "source": [
    "lasso = lasso.set_params(random_state=40)\n",
    "lasso.fit(x_train, y_train)"
   ]
  },
  {
   "cell_type": "code",
   "execution_count": 19,
   "metadata": {},
   "outputs": [
    {
     "name": "stdout",
     "output_type": "stream",
     "text": [
      "Mean Absolute Error (MAE): $ 55528.4\n",
      "Root Mean Square Error (RMSE): 0.4149359020256681\n"
     ]
    }
   ],
   "source": [
    "lasso_pred = lasso.predict(x_test)\n",
    "\n",
    "# MAE, MSE, RMSE\n",
    "errors = abs(np.expm1(lasso_pred) - np.expm1(y_test))\n",
    "print('Mean Absolute Error (MAE): $', round(np.mean(errors), 2))\n",
    "errors = abs(np.expm1(lasso_pred) - np.expm1(y_test))\n",
    "print('Root Mean Square Error (RMSE):', np.sqrt(mean_squared_error(y_test, lasso_pred)))"
   ]
  },
  {
   "cell_type": "markdown",
   "metadata": {},
   "source": [
    "### Tune Hyperparameter"
   ]
  },
  {
   "cell_type": "code",
   "execution_count": 20,
   "metadata": {
    "scrolled": true
   },
   "outputs": [
    {
     "data": {
      "text/plain": [
       "GridSearchCV(cv=KFold(n_splits=5, random_state=42, shuffle=True),\n",
       "             error_score='raise-deprecating',\n",
       "             estimator=Lasso(alpha=1.0, copy_X=True, fit_intercept=True,\n",
       "                             max_iter=1000, normalize=False, positive=False,\n",
       "                             precompute=False, random_state=40,\n",
       "                             selection='cyclic', tol=0.0001, warm_start=False),\n",
       "             iid='warn', n_jobs=None,\n",
       "             param_grid={'alpha': array([1.00000000e-09, 1.14975...\n",
       "       7.05480231e-05, 8.11130831e-05, 9.32603347e-05, 1.07226722e-04,\n",
       "       1.23284674e-04, 1.41747416e-04, 1.62975083e-04, 1.87381742e-04,\n",
       "       2.15443469e-04, 2.47707636e-04, 2.84803587e-04, 3.27454916e-04,\n",
       "       3.76493581e-04, 4.32876128e-04, 4.97702356e-04, 5.72236766e-04,\n",
       "       6.57933225e-04, 7.56463328e-04, 8.69749003e-04, 1.00000000e-03])},\n",
       "             pre_dispatch='2*n_jobs', refit=True, return_train_score=False,\n",
       "             scoring='neg_mean_squared_error', verbose=0)"
      ]
     },
     "execution_count": 20,
     "metadata": {},
     "output_type": "execute_result"
    }
   ],
   "source": [
    "alphas = np.logspace(1, 0, 1000)\n",
    "params = {'alpha': alphas}\n",
    "\n",
    "grid_search_lasso = GridSearchCV( estimator=lasso, param_grid=params, scoring= 'neg_mean_squared_error', \n",
    "                                    cv= kf )\n",
    "grid_search_lasso.fit(x_train,y_train)"
   ]
  },
  {
   "cell_type": "code",
   "execution_count": 21,
   "metadata": {},
   "outputs": [
    {
     "name": "stdout",
     "output_type": "stream",
     "text": [
      "The parameters combination that would give best accuracy is :  {'alpha': 0.0004977023564332114}\n"
     ]
    }
   ],
   "source": [
    "print('The parameters combination that would give best accuracy is : ', grid_search_lasso.best_params_)"
   ]
  },
  {
   "cell_type": "code",
   "execution_count": 22,
   "metadata": {},
   "outputs": [],
   "source": [
    "# Prediction using the tuned parameters\n",
    "grid_lasso = grid_search_lasso.best_estimator_"
   ]
  },
  {
   "cell_type": "code",
   "execution_count": 23,
   "metadata": {},
   "outputs": [
    {
     "name": "stdout",
     "output_type": "stream",
     "text": [
      "The train set R^2 is: 0.93009\n",
      "The test set R^2 is is: 0.91165\n"
     ]
    }
   ],
   "source": [
    "print(\"The train set R^2 is: %.5f\" % grid_lasso.score(x_train, y_train))\n",
    "print(\"The test set R^2 is is: %.5f\" % grid_lasso.score(x_test, y_test))"
   ]
  },
  {
   "cell_type": "code",
   "execution_count": 24,
   "metadata": {},
   "outputs": [
    {
     "name": "stdout",
     "output_type": "stream",
     "text": [
      "Mean Absolute Error (MAE): $ 14828.01\n",
      "Root Mean Square Error (RMSE): 0.12333049076402075\n"
     ]
    }
   ],
   "source": [
    "lasso_pred = grid_lasso.predict(x_test)\n",
    "\n",
    "# MAE, MSE, RMSE\n",
    "errors = abs(np.expm1(lasso_pred) - np.expm1(y_test))\n",
    "print('Mean Absolute Error (MAE): $', round(np.mean(errors), 2))\n",
    "errors = abs(np.expm1(lasso_pred) - np.expm1(y_test))\n",
    "print('Root Mean Square Error (RMSE):', np.sqrt(mean_squared_error(y_test, lasso_pred)))"
   ]
  },
  {
   "cell_type": "code",
   "execution_count": 26,
   "metadata": {},
   "outputs": [
    {
     "data": {
      "text/plain": [
       "<Figure size 1152x648 with 0 Axes>"
      ]
     },
     "metadata": {},
     "output_type": "display_data"
    },
    {
     "data": {
      "image/png": "[encoded data removed]",
      "text/plain": [
       "<Figure size 432x288 with 1 Axes>"
      ]
     },
     "metadata": {
      "needs_background": "light"
     },
     "output_type": "display_data"
    }
   ],
   "source": [
    "# plot the coef vs alpha\n",
    "plt.figure(figsize= (16,9))\n",
    "alphas = np.logspace(-6, 2, 100)\n",
    "coef_lasso = []\n",
    "for alpha in alphas:\n",
    "    lasso.set_params(alpha=alpha).fit(x_train, y_train)\n",
    "    coef_lasso.append(lasso.coef_)\n",
    "df_coef = pd.DataFrame(coef_lasso, index=alphas, columns = x_train.columns)\n",
    "df_coef.plot(logx=True, legend = False)\n",
    "plt.xlabel('Lambda')\n",
    "plt.ylabel('Coeff')\n",
    "#plt.savefig('lasso_fea.png', dpi = 500)\n",
    "plt.show()"
   ]
  },
  {
   "cell_type": "code",
   "execution_count": 42,
   "metadata": {},
   "outputs": [
    {
     "name": "stdout",
     "output_type": "stream",
     "text": [
      "Lasso picked 97 variables and eliminated the other 96 variables\n"
     ]
    },
    {
     "data": {
      "text/html": [
       "<div>\n",
       "<style scoped>\n",
       "    .dataframe tbody tr th:only-of-type {\n",
       "        vertical-align: middle;\n",
       "    }\n",
       "\n",
       "    .dataframe tbody tr th {\n",
       "        vertical-align: top;\n",
       "    }\n",
       "\n",
       "    .dataframe thead th {\n",
       "        text-align: right;\n",
       "    }\n",
       "</style>\n",
       "<table border=\"1\" class=\"dataframe\">\n",
       "  <thead>\n",
       "    <tr style=\"text-align: right;\">\n",
       "      <th></th>\n",
       "      <th>feature</th>\n",
       "      <th>coeff</th>\n",
       "    </tr>\n",
       "  </thead>\n",
       "  <tbody>\n",
       "    <tr>\n",
       "      <td>70</td>\n",
       "      <td>GrLivArea</td>\n",
       "      <td>0.160453</td>\n",
       "    </tr>\n",
       "    <tr>\n",
       "      <td>27</td>\n",
       "      <td>Neighborhood_Crawfor</td>\n",
       "      <td>0.110340</td>\n",
       "    </tr>\n",
       "    <tr>\n",
       "      <td>42</td>\n",
       "      <td>Neighborhood_StoneBr</td>\n",
       "      <td>0.103812</td>\n",
       "    </tr>\n",
       "    <tr>\n",
       "      <td>36</td>\n",
       "      <td>Neighborhood_NridgHt</td>\n",
       "      <td>0.101237</td>\n",
       "    </tr>\n",
       "    <tr>\n",
       "      <td>35</td>\n",
       "      <td>Neighborhood_NoRidge</td>\n",
       "      <td>0.076168</td>\n",
       "    </tr>\n",
       "    <tr>\n",
       "      <td>159</td>\n",
       "      <td>Exterior1st_BrkFace</td>\n",
       "      <td>0.072344</td>\n",
       "    </tr>\n",
       "    <tr>\n",
       "      <td>64</td>\n",
       "      <td>OverallQual</td>\n",
       "      <td>0.063173</td>\n",
       "    </tr>\n",
       "    <tr>\n",
       "      <td>65</td>\n",
       "      <td>OverallCond</td>\n",
       "      <td>0.047527</td>\n",
       "    </tr>\n",
       "    <tr>\n",
       "      <td>69</td>\n",
       "      <td>LotArea</td>\n",
       "      <td>0.042599</td>\n",
       "    </tr>\n",
       "    <tr>\n",
       "      <td>25</td>\n",
       "      <td>Neighborhood_ClearCr</td>\n",
       "      <td>0.041679</td>\n",
       "    </tr>\n",
       "    <tr>\n",
       "      <td>125</td>\n",
       "      <td>SaleType_New</td>\n",
       "      <td>0.037566</td>\n",
       "    </tr>\n",
       "    <tr>\n",
       "      <td>24</td>\n",
       "      <td>Neighborhood_BrkSide</td>\n",
       "      <td>0.034351</td>\n",
       "    </tr>\n",
       "    <tr>\n",
       "      <td>41</td>\n",
       "      <td>Neighborhood_Somerst</td>\n",
       "      <td>0.030830</td>\n",
       "    </tr>\n",
       "    <tr>\n",
       "      <td>82</td>\n",
       "      <td>GarageCars</td>\n",
       "      <td>0.030262</td>\n",
       "    </tr>\n",
       "    <tr>\n",
       "      <td>2</td>\n",
       "      <td>MSZoning_FV</td>\n",
       "      <td>0.026938</td>\n",
       "    </tr>\n",
       "  </tbody>\n",
       "</table>\n",
       "</div>"
      ],
      "text/plain": [
       "                  feature     coeff\n",
       "70              GrLivArea  0.160453\n",
       "27   Neighborhood_Crawfor  0.110340\n",
       "42   Neighborhood_StoneBr  0.103812\n",
       "36   Neighborhood_NridgHt  0.101237\n",
       "35   Neighborhood_NoRidge  0.076168\n",
       "159   Exterior1st_BrkFace  0.072344\n",
       "64            OverallQual  0.063173\n",
       "65            OverallCond  0.047527\n",
       "69                LotArea  0.042599\n",
       "25   Neighborhood_ClearCr  0.041679\n",
       "125          SaleType_New  0.037566\n",
       "24   Neighborhood_BrkSide  0.034351\n",
       "41   Neighborhood_Somerst  0.030830\n",
       "82             GarageCars  0.030262\n",
       "2             MSZoning_FV  0.026938"
      ]
     },
     "execution_count": 42,
     "metadata": {},
     "output_type": "execute_result"
    }
   ],
   "source": [
    "# feature importance\n",
    "coeff = pd.DataFrame({\"feature\":x_train.columns,\"coeff\":grid_lasso.coef_})\n",
    "coeff = coeff.sort_values(by = 'coeff', ascending = False)\n",
    "\n",
    "print(\"Lasso picked \" + str(sum(coeff.coeff != 0)) + \" variables and eliminated the other \" +  \n",
    "      str(sum(coeff.coeff == 0)) + \" variables\")\n",
    "\n",
    "coeff[coeff.coeff!=0].head(15)"
   ]
  },
  {
   "cell_type": "code",
   "execution_count": 56,
   "metadata": {},
   "outputs": [],
   "source": [
    "zero_coeff = coeff[coeff.coeff==0].feature.to_list()"
   ]
  },
  {
   "cell_type": "code",
   "execution_count": 57,
   "metadata": {},
   "outputs": [],
   "source": [
    "x_train2 = x_train.copy()\n",
    "x_train2 = x_train2.drop(zero_coeff, axis=1)"
   ]
  },
  {
   "cell_type": "code",
   "execution_count": 58,
   "metadata": {},
   "outputs": [],
   "source": [
    "x_test2 = x_test.copy()\n",
    "x_test2 = x_test2.drop(zero_coeff, axis=1)"
   ]
  },
  {
   "cell_type": "code",
   "execution_count": 177,
   "metadata": {},
   "outputs": [],
   "source": [
    "x_Ktest2 = x_Ktest.copy()\n",
    "x_Ktest2 = x_Ktest2.drop(zero_coeff, axis=1)"
   ]
  },
  {
   "cell_type": "code",
   "execution_count": 178,
   "metadata": {},
   "outputs": [
    {
     "data": {
      "text/plain": [
       "GridSearchCV(cv=KFold(n_splits=5, random_state=42, shuffle=True),\n",
       "             error_score='raise-deprecating',\n",
       "             estimator=Lasso(alpha=1.0, copy_X=True, fit_intercept=True,\n",
       "                             max_iter=1000, normalize=False, positive=False,\n",
       "                             precompute=False, random_state=None,\n",
       "                             selection='cyclic', tol=0.0001, warm_start=False),\n",
       "             iid='warn', n_jobs=None,\n",
       "             param_grid={'alpha': array([1.00000000e-09, 1.149...\n",
       "       7.05480231e-05, 8.11130831e-05, 9.32603347e-05, 1.07226722e-04,\n",
       "       1.23284674e-04, 1.41747416e-04, 1.62975083e-04, 1.87381742e-04,\n",
       "       2.15443469e-04, 2.47707636e-04, 2.84803587e-04, 3.27454916e-04,\n",
       "       3.76493581e-04, 4.32876128e-04, 4.97702356e-04, 5.72236766e-04,\n",
       "       6.57933225e-04, 7.56463328e-04, 8.69749003e-04, 1.00000000e-03])},\n",
       "             pre_dispatch='2*n_jobs', refit=True, return_train_score=False,\n",
       "             scoring='neg_mean_squared_error', verbose=0)"
      ]
     },
     "execution_count": 178,
     "metadata": {},
     "output_type": "execute_result"
    }
   ],
   "source": [
    "# tune the parameters again\n",
    "alphas = np.logspace(-9, -3, 100)\n",
    "params = {'alpha': alphas}\n",
    "\n",
    "grid_search_lasso = GridSearchCV( estimator=lasso, param_grid=params, scoring= 'neg_mean_squared_error', \n",
    "                                    cv= kf )\n",
    "grid_search_lasso.fit(x_train2, y_train)"
   ]
  },
  {
   "cell_type": "code",
   "execution_count": 44,
   "metadata": {},
   "outputs": [
    {
     "name": "stdout",
     "output_type": "stream",
     "text": [
      "The parameters combination that would give best accuracy is :  {'alpha': 0.00014174741629268049}\n"
     ]
    }
   ],
   "source": [
    "print('The parameters combination that would give best accuracy is : ', grid_search_lasso.best_params_)"
   ]
  },
  {
   "cell_type": "code",
   "execution_count": 45,
   "metadata": {},
   "outputs": [],
   "source": [
    "# Prediction after drop columns \n",
    "grid_lasso = grid_search_lasso.best_estimator_"
   ]
  },
  {
   "cell_type": "code",
   "execution_count": 46,
   "metadata": {},
   "outputs": [
    {
     "name": "stdout",
     "output_type": "stream",
     "text": [
      "The train set R^2 is: 0.93363\n",
      "The test set R^2 is is: 0.91137\n"
     ]
    }
   ],
   "source": [
    "print(\"The train set R^2 is: %.5f\" % grid_lasso.score(x_train2, y_train))\n",
    "print(\"The test set R^2 is is: %.5f\" % grid_lasso.score(x_test2, y_test))"
   ]
  },
  {
   "cell_type": "code",
   "execution_count": 50,
   "metadata": {},
   "outputs": [
    {
     "name": "stdout",
     "output_type": "stream",
     "text": [
      "Mean Absolute Error (MAE) after tune: $ 14766.99\n",
      "Root Mean Square Error (RMSE) after tune: 0.12352414430825047\n"
     ]
    }
   ],
   "source": [
    "lasso_pred = grid_lasso.predict(x_test2)\n",
    "\n",
    "# MAE, MSE, RMSE\n",
    "errors = abs(np.expm1(lasso_pred) - np.expm1(y_test))\n",
    "print('Mean Absolute Error (MAE) after tune: $', round(np.mean(errors), 2))\n",
    "errors = abs(np.expm1(lasso_pred) - np.expm1(y_test))\n",
    "print('Root Mean Square Error (RMSE) after tune:', np.sqrt(mean_squared_error(y_test, lasso_pred)))"
   ]
  },
  {
   "cell_type": "code",
   "execution_count": 207,
   "metadata": {},
   "outputs": [],
   "source": [
    "kaggle = pd.DataFrame(np.exp(grid_lasso.predict(x_Ktest2)))\n",
    "kaggle.index = x_Ktest2.index\n",
    "# kaggle = kaggle.reset_index()\n",
    "kaggle.columns = ['SalePrice']\n",
    "kaggle\n",
    "kaggle.to_csv('kaggle.csv')"
   ]
  },
  {
   "cell_type": "code",
   "execution_count": 198,
   "metadata": {},
   "outputs": [
    {
     "data": {
      "text/html": [
       "<div>\n",
       "<style scoped>\n",
       "    .dataframe tbody tr th:only-of-type {\n",
       "        vertical-align: middle;\n",
       "    }\n",
       "\n",
       "    .dataframe tbody tr th {\n",
       "        vertical-align: top;\n",
       "    }\n",
       "\n",
       "    .dataframe thead th {\n",
       "        text-align: right;\n",
       "    }\n",
       "</style>\n",
       "<table border=\"1\" class=\"dataframe\">\n",
       "  <thead>\n",
       "    <tr style=\"text-align: right;\">\n",
       "      <th></th>\n",
       "      <th>Id</th>\n",
       "      <th>SalePrice</th>\n",
       "    </tr>\n",
       "  </thead>\n",
       "  <tbody>\n",
       "    <tr>\n",
       "      <td>0</td>\n",
       "      <td>1461</td>\n",
       "      <td>114225.230297</td>\n",
       "    </tr>\n",
       "    <tr>\n",
       "      <td>1</td>\n",
       "      <td>1462</td>\n",
       "      <td>152473.067468</td>\n",
       "    </tr>\n",
       "    <tr>\n",
       "      <td>2</td>\n",
       "      <td>1463</td>\n",
       "      <td>179623.402208</td>\n",
       "    </tr>\n",
       "    <tr>\n",
       "      <td>3</td>\n",
       "      <td>1464</td>\n",
       "      <td>193094.211220</td>\n",
       "    </tr>\n",
       "    <tr>\n",
       "      <td>4</td>\n",
       "      <td>1465</td>\n",
       "      <td>191474.999065</td>\n",
       "    </tr>\n",
       "    <tr>\n",
       "      <td>...</td>\n",
       "      <td>...</td>\n",
       "      <td>...</td>\n",
       "    </tr>\n",
       "    <tr>\n",
       "      <td>1454</td>\n",
       "      <td>2915</td>\n",
       "      <td>90612.903937</td>\n",
       "    </tr>\n",
       "    <tr>\n",
       "      <td>1455</td>\n",
       "      <td>2916</td>\n",
       "      <td>88770.737582</td>\n",
       "    </tr>\n",
       "    <tr>\n",
       "      <td>1456</td>\n",
       "      <td>2917</td>\n",
       "      <td>169617.712187</td>\n",
       "    </tr>\n",
       "    <tr>\n",
       "      <td>1457</td>\n",
       "      <td>2918</td>\n",
       "      <td>131066.541710</td>\n",
       "    </tr>\n",
       "    <tr>\n",
       "      <td>1458</td>\n",
       "      <td>2919</td>\n",
       "      <td>234894.183228</td>\n",
       "    </tr>\n",
       "  </tbody>\n",
       "</table>\n",
       "<p>1459 rows × 2 columns</p>\n",
       "</div>"
      ],
      "text/plain": [
       "        Id      SalePrice\n",
       "0     1461  114225.230297\n",
       "1     1462  152473.067468\n",
       "2     1463  179623.402208\n",
       "3     1464  193094.211220\n",
       "4     1465  191474.999065\n",
       "...    ...            ...\n",
       "1454  2915   90612.903937\n",
       "1455  2916   88770.737582\n",
       "1456  2917  169617.712187\n",
       "1457  2918  131066.541710\n",
       "1458  2919  234894.183228\n",
       "\n",
       "[1459 rows x 2 columns]"
      ]
     },
     "execution_count": 198,
     "metadata": {},
     "output_type": "execute_result"
    }
   ],
   "source": [
    "kaggle"
   ]
  },
  {
   "cell_type": "markdown",
   "metadata": {},
   "source": [
    "### E-Net"
   ]
  },
  {
   "cell_type": "code",
   "execution_count": 89,
   "metadata": {},
   "outputs": [
    {
     "data": {
      "text/plain": [
       "ElasticNet(alpha=1.0, copy_X=True, fit_intercept=True, l1_ratio=0.5,\n",
       "           max_iter=1000, normalize=True, positive=False, precompute=False,\n",
       "           random_state=12, selection='cyclic', tol=0.0001, warm_start=False)"
      ]
     },
     "execution_count": 89,
     "metadata": {},
     "output_type": "execute_result"
    }
   ],
   "source": [
    "net.set_params(random_state=12, normalize=True)\n",
    "net.fit(x_train, y_train)"
   ]
  },
  {
   "cell_type": "code",
   "execution_count": 90,
   "metadata": {},
   "outputs": [
    {
     "name": "stdout",
     "output_type": "stream",
     "text": [
      "Mean Absolute Error (MAE) after tune: $ 55528.4\n",
      "Root Mean Square Error (RMSE) after tune: 0.4149359020256681\n"
     ]
    }
   ],
   "source": [
    "net_pred = net.predict(x_test)\n",
    "\n",
    "# MAE, MSE, RMSE\n",
    "errors = abs(np.expm1(net_pred) - np.expm1(y_test))\n",
    "print('Mean Absolute Error (MAE) after tune: $', round(np.mean(errors), 2))\n",
    "errors = abs(np.expm1(lasso_pred) - np.expm1(y_test))\n",
    "print('Root Mean Square Error (RMSE) after tune:', np.sqrt(mean_squared_error(y_test, net_pred)))"
   ]
  },
  {
   "cell_type": "markdown",
   "metadata": {},
   "source": [
    "### Tune E-Net"
   ]
  },
  {
   "cell_type": "code",
   "execution_count": 102,
   "metadata": {},
   "outputs": [
    {
     "data": {
      "text/plain": [
       "GridSearchCV(cv=KFold(n_splits=5, random_state=42, shuffle=True),\n",
       "             error_score='raise-deprecating',\n",
       "             estimator=ElasticNet(alpha=1.0, copy_X=True, fit_intercept=True,\n",
       "                                  l1_ratio=0.5, max_iter=1000, normalize=True,\n",
       "                                  positive=False, precompute=False,\n",
       "                                  random_state=12, selection='cyclic',\n",
       "                                  tol=0.0001, warm_start=False),\n",
       "             iid='warn', n_jobs=None,\n",
       "             param_grid={'alpha': array([1.000...\n",
       "       7.05480231e-05, 8.11130831e-05, 9.32603347e-05, 1.07226722e-04,\n",
       "       1.23284674e-04, 1.41747416e-04, 1.62975083e-04, 1.87381742e-04,\n",
       "       2.15443469e-04, 2.47707636e-04, 2.84803587e-04, 3.27454916e-04,\n",
       "       3.76493581e-04, 4.32876128e-04, 4.97702356e-04, 5.72236766e-04,\n",
       "       6.57933225e-04, 7.56463328e-04, 8.69749003e-04, 1.00000000e-03])},\n",
       "             pre_dispatch='2*n_jobs', refit=True, return_train_score=False,\n",
       "             scoring='neg_mean_squared_error', verbose=0)"
      ]
     },
     "execution_count": 102,
     "metadata": {},
     "output_type": "execute_result"
    }
   ],
   "source": [
    "alphas = np.logspace(-9, -3, 100)\n",
    "params = {'alpha': alphas}\n",
    "\n",
    "grid_search_net = GridSearchCV( estimator=net, param_grid=params, scoring= 'neg_mean_squared_error', \n",
    "                                    cv= kf )\n",
    "grid_search_net.fit(x_train,y_train)"
   ]
  },
  {
   "cell_type": "code",
   "execution_count": 115,
   "metadata": {},
   "outputs": [
    {
     "name": "stdout",
     "output_type": "stream",
     "text": [
      "The parameters combination that would give best accuracy is :  {'alpha': 0.00014174741629268049}\n"
     ]
    }
   ],
   "source": [
    "print('The parameters combination that would give best accuracy is : ', grid_search_net.best_params_)\n",
    "grid_net = grid_search_net.best_estimator_"
   ]
  },
  {
   "cell_type": "code",
   "execution_count": 107,
   "metadata": {},
   "outputs": [
    {
     "name": "stdout",
     "output_type": "stream",
     "text": [
      "The train set R^2 is: 0.92899\n",
      "The test set R^2 is is: 0.91028\n"
     ]
    }
   ],
   "source": [
    "print(\"The train set R^2 is: %.5f\" % grid_net.score(x_train, y_train))\n",
    "print(\"The test set R^2 is is: %.5f\" % grid_net.score(x_test, y_test))"
   ]
  },
  {
   "cell_type": "code",
   "execution_count": 117,
   "metadata": {},
   "outputs": [
    {
     "name": "stdout",
     "output_type": "stream",
     "text": [
      "Mean Absolute Error (MAE): $ 14919.89\n",
      "Root Mean Square Error (RMSE): 0.12428453335186868\n"
     ]
    }
   ],
   "source": [
    "net_pred = grid_net.predict(x_test)\n",
    "\n",
    "# MAE, MSE, RMSE\n",
    "errors = abs(np.expm1(net_pred) - np.expm1(y_test))\n",
    "print('Mean Absolute Error (MAE): $', round(np.mean(errors), 2))\n",
    "errors = abs(np.expm1(net_pred) - np.expm1(y_test))\n",
    "print('Root Mean Square Error (RMSE):', np.sqrt(mean_squared_error(y_test, net_pred)))"
   ]
  },
  {
   "cell_type": "code",
   "execution_count": 132,
   "metadata": {},
   "outputs": [
    {
     "name": "stdout",
     "output_type": "stream",
     "text": [
      "The Optimized Rho is: 0.22\n"
     ]
    }
   ],
   "source": [
    "#Elastic regression tune rho\n",
    "para = {}\n",
    "for j in np.arange(0,1.0,0.02):\n",
    "    elastic = ElasticNet(alpha = opt_alpha, l1_ratio = j,random_state=5, normalize=True)\n",
    "    rmse= np.sqrt(-cross_val_score(elastic, x_train2.values, y_train, scoring=\"neg_mean_squared_error\", cv = kf))\n",
    "    para[np.mean(rmse)] = j\n",
    "rho_opt = para[min(para)]\n",
    "print(\"The Optimized Rho is:\", round(rho_opt,2))"
   ]
  },
  {
   "cell_type": "markdown",
   "metadata": {},
   "source": [
    "### Tuned Alpha and Rho"
   ]
  },
  {
   "cell_type": "code",
   "execution_count": 138,
   "metadata": {},
   "outputs": [],
   "source": [
    "elastic = ElasticNet(alpha = opt_alpha, l1_ratio = rho_opt, normalize=True)"
   ]
  },
  {
   "cell_type": "code",
   "execution_count": 139,
   "metadata": {},
   "outputs": [
    {
     "data": {
      "text/plain": [
       "ElasticNet(alpha=4.037017258596558e-05, copy_X=True, fit_intercept=True,\n",
       "           l1_ratio=0.22, max_iter=1000, normalize=True, positive=False,\n",
       "           precompute=False, random_state=None, selection='cyclic', tol=0.0001,\n",
       "           warm_start=False)"
      ]
     },
     "execution_count": 139,
     "metadata": {},
     "output_type": "execute_result"
    }
   ],
   "source": [
    "elastic.fit(x_train2,y_train)"
   ]
  },
  {
   "cell_type": "code",
   "execution_count": 140,
   "metadata": {},
   "outputs": [
    {
     "name": "stdout",
     "output_type": "stream",
     "text": [
      "Mean Absolute Error (MAE): $ 14790.59\n",
      "Root Mean Square Error (RMSE): 0.12346753201017997\n"
     ]
    }
   ],
   "source": [
    "net_pred = elastic.predict(x_test2)\n",
    "\n",
    "# MAE, MSE, RMSE\n",
    "errors = abs(np.expm1(net_pred) - np.expm1(y_test))\n",
    "print('Mean Absolute Error (MAE): $', round(np.mean(errors), 2))\n",
    "errors = abs(np.expm1(net_pred) - np.expm1(y_test))\n",
    "print('Root Mean Square Error (RMSE):', np.sqrt(mean_squared_error(y_test, net_pred)))"
   ]
  },
  {
   "cell_type": "code",
   "execution_count": 143,
   "metadata": {},
   "outputs": [
    {
     "name": "stdout",
     "output_type": "stream",
     "text": [
      "The train set R^2 is: 0.93264\n",
      "The test set R^2 is is: 0.91145\n"
     ]
    }
   ],
   "source": [
    "print(\"The train set R^2 is: %.5f\" % elastic.score(x_train2, y_train))\n",
    "print(\"The test set R^2 is is: %.5f\" % elastic.score(x_test2, y_test))"
   ]
  },
  {
   "cell_type": "code",
   "execution_count": 206,
   "metadata": {},
   "outputs": [],
   "source": [
    "kaggle = pd.DataFrame(np.exp(elastic.predict(x_Ktest2)))\n",
    "kaggle.index = x_Ktest2.index\n",
    "# kaggle = kaggle.reset_index()\n",
    "kaggle.columns = ['SalePrice']\n",
    "kaggle\n",
    "kaggle.to_csv('kaggle2.csv')"
   ]
  },
  {
   "cell_type": "markdown",
   "metadata": {},
   "source": [
    "### Gradient Boosting"
   ]
  },
  {
   "cell_type": "code",
   "execution_count": 238,
   "metadata": {},
   "outputs": [
    {
     "data": {
      "text/plain": [
       "GradientBoostingRegressor(alpha=0.9, criterion='friedman_mse', init=None,\n",
       "                          learning_rate=0.1, loss='ls', max_depth=3,\n",
       "                          max_features=None, max_leaf_nodes=None,\n",
       "                          min_impurity_decrease=0.0, min_impurity_split=None,\n",
       "                          min_samples_leaf=1, min_samples_split=2,\n",
       "                          min_weight_fraction_leaf=0.0, n_estimators=100,\n",
       "                          n_iter_no_change=None, presort='auto',\n",
       "                          random_state=12, subsample=1.0, tol=0.0001,\n",
       "                          validation_fraction=0.1, verbose=0, warm_start=False)"
      ]
     },
     "execution_count": 238,
     "metadata": {},
     "output_type": "execute_result"
    }
   ],
   "source": [
    "gb.set_params(random_state=12)\n",
    "gb.fit(x_train, y_train)"
   ]
  },
  {
   "cell_type": "code",
   "execution_count": 239,
   "metadata": {},
   "outputs": [
    {
     "name": "stdout",
     "output_type": "stream",
     "text": [
      "Mean Absolute Error (MAE) after tune: $ 15700.55\n",
      "Root Mean Square Error (RMSE) after tune: 0.13376725617133975\n"
     ]
    }
   ],
   "source": [
    "gb_pred = gb.predict(t_test)\n",
    "\n",
    "# MAE, RMSE\n",
    "errors = abs(np.expm1(gb_pred) - np.expm1(y_test))\n",
    "print('Mean Absolute Error (MAE) after tune: $', round(np.mean(errors), 2))\n",
    "errors = abs(np.expm1(gb_pred) - np.expm1(y_test))\n",
    "print('Root Mean Square Error (RMSE) after tune:', np.sqrt(mean_squared_error(y_test, gb_pred)))"
   ]
  },
  {
   "cell_type": "code",
   "execution_count": 240,
   "metadata": {},
   "outputs": [
    {
     "name": "stdout",
     "output_type": "stream",
     "text": [
      "The train set R^2 is: 0.96155\n",
      "The test set R^2 is is: 0.89606\n"
     ]
    }
   ],
   "source": [
    "print(\"The train set R^2 is: %.5f\" % gb.score(t_train, y_train))\n",
    "print(\"The test set R^2 is is: %.5f\" % gb.score(t_test, y_test))"
   ]
  },
  {
   "cell_type": "markdown",
   "metadata": {},
   "source": [
    "### Tune GB"
   ]
  },
  {
   "cell_type": "code",
   "execution_count": 330,
   "metadata": {},
   "outputs": [],
   "source": [
    "gb_param_grid={'learning_rate': [0.06], 'max_depth': [4], 'n_estimators': [450]}"
   ]
  },
  {
   "cell_type": "code",
   "execution_count": 334,
   "metadata": {},
   "outputs": [
    {
     "data": {
      "text/plain": [
       "GridSearchCV(cv='warn', error_score='raise-deprecating',\n",
       "             estimator=GradientBoostingRegressor(alpha=0.9,\n",
       "                                                 criterion='friedman_mse',\n",
       "                                                 init=None, learning_rate=0.1,\n",
       "                                                 loss='ls', max_depth=3,\n",
       "                                                 max_features=None,\n",
       "                                                 max_leaf_nodes=None,\n",
       "                                                 min_impurity_decrease=0.0,\n",
       "                                                 min_impurity_split=None,\n",
       "                                                 min_samples_leaf=1,\n",
       "                                                 min_samples_split=2,\n",
       "                                                 min_weight_fraction_leaf=0.0,\n",
       "                                                 n_estimators=100,\n",
       "                                                 n_iter_no_change=None,\n",
       "                                                 presort='auto',\n",
       "                                                 random_state=12, subsample=1.0,\n",
       "                                                 tol=0.0001,\n",
       "                                                 validation_fraction=0.1,\n",
       "                                                 verbose=0, warm_start=False),\n",
       "             iid='warn', n_jobs=None,\n",
       "             param_grid={'learning_rate': [0.06], 'max_depth': [4],\n",
       "                         'n_estimators': [450]},\n",
       "             pre_dispatch='2*n_jobs', refit=True, return_train_score=False,\n",
       "             scoring='neg_mean_squared_error', verbose=0)"
      ]
     },
     "execution_count": 334,
     "metadata": {},
     "output_type": "execute_result"
    }
   ],
   "source": [
    "grid_search_gb = GridSearchCV(gb, gb_param_grid, scoring='neg_mean_squared_error')\n",
    "\n",
    "grid_search_gb.fit(t_train, y_train)"
   ]
  },
  {
   "cell_type": "code",
   "execution_count": 159,
   "metadata": {},
   "outputs": [
    {
     "name": "stdout",
     "output_type": "stream",
     "text": [
      "The parameters combination that would give best accuracy is :  {'learning_rate': 0.1, 'max_depth': 2, 'min_samples_leaf': 1, 'n_estimators': 600}\n"
     ]
    }
   ],
   "source": [
    "print('The parameters combination that would give best accuracy is : ', grid_search_gb.best_params_)\n",
    "grid_bg = grid_search_gb.best_estimator_"
   ]
  },
  {
   "cell_type": "code",
   "execution_count": 160,
   "metadata": {},
   "outputs": [
    {
     "name": "stdout",
     "output_type": "stream",
     "text": [
      "The train set R^2 is: 0.97733\n",
      "The test set R^2 is is: 0.90825\n"
     ]
    }
   ],
   "source": [
    "print(\"The train set R^2 is: %.5f\" % grid_bg.score(x_train2, y_train))\n",
    "print(\"The test set R^2 is is: %.5f\" % grid_bg.score(x_test2, y_test))"
   ]
  },
  {
   "cell_type": "code",
   "execution_count": 161,
   "metadata": {},
   "outputs": [
    {
     "name": "stdout",
     "output_type": "stream",
     "text": [
      "Mean Absolute Error (MAE): $ 14144.11\n",
      "Root Mean Square Error (RMSE): 0.12568463424715423\n"
     ]
    }
   ],
   "source": [
    "bg_pred = grid_bg.predict(x_test2)\n",
    "\n",
    "# MAE, RMSE\n",
    "errors = abs(np.expm1(bg_pred) - np.expm1(y_test))\n",
    "print('Mean Absolute Error (MAE): $', round(np.mean(errors), 2))\n",
    "errors = abs(np.expm1(bg_pred) - np.expm1(y_test))\n",
    "print('Root Mean Square Error (RMSE):', np.sqrt(mean_squared_error(y_test, bg_pred)))"
   ]
  },
  {
   "cell_type": "code",
   "execution_count": 166,
   "metadata": {},
   "outputs": [],
   "source": [
    "# feature importance\n",
    "# Get numerical feature importances\n",
    "importances_gb = list(grid_bg.feature_importances_)\n",
    "\n",
    "# List of tuples with variable and importance\n",
    "feature_importances_gb = [(feature, round(importance, 5)) for feature, importance in zip(x_train2.columns, importances_gb)]\n",
    "\n",
    "# Sort the feature importances by most important first\n",
    "gb_feature_importances = sorted(feature_importances_gb, key = lambda x: x[1], reverse = True )"
   ]
  },
  {
   "cell_type": "code",
   "execution_count": 167,
   "metadata": {},
   "outputs": [],
   "source": [
    "gb_feature_importances_top20 = gb_feature_importances[:20]\n",
    "featureNames, featureScores = zip(*list(gb_feature_importances_top20))"
   ]
  },
  {
   "cell_type": "code",
   "execution_count": 168,
   "metadata": {},
   "outputs": [
    {
     "data": {
      "text/plain": [
       "Text(0.5, 1.0, 'Feature Importances')"
      ]
     },
     "execution_count": 168,
     "metadata": {},
     "output_type": "execute_result"
    },
    {
     "data": {
      "image/png": "[encoded data removed]",
      "text/plain": [
       "<Figure size 432x288 with 1 Axes>"
      ]
     },
     "metadata": {
      "needs_background": "light"
     },
     "output_type": "display_data"
    }
   ],
   "source": [
    "plt.barh(range(len(featureScores)), featureScores, tick_label=featureNames)\n",
    "plt.title('feature importance')\n",
    "plt.gca().invert_yaxis()\n",
    "plt.ylabel('Features')\n",
    "plt.xlabel('Importance Score')\n",
    "plt.title('Feature Importances')"
   ]
  },
  {
   "cell_type": "code",
   "execution_count": 208,
   "metadata": {},
   "outputs": [],
   "source": [
    "kaggle = pd.DataFrame(np.exp(grid_bg.predict(x_Ktest2)))\n",
    "kaggle.index = x_Ktest2.index\n",
    "# kaggle = kaggle.reset_index()\n",
    "kaggle.columns = ['SalePrice']\n",
    "kaggle\n",
    "kaggle.to_csv('kaggle.csv')"
   ]
  },
  {
   "cell_type": "code",
   "execution_count": null,
   "metadata": {},
   "outputs": [],
   "source": []
  }
 ],
 "metadata": {
  "kernelspec": {
   "display_name": "Python 3",
   "language": "python",
   "name": "python3"
  },
  "language_info": {
   "codemirror_mode": {
    "name": "ipython",
    "version": 3
   },
   "file_extension": ".py",
   "mimetype": "text/x-python",
   "name": "python",
   "nbconvert_exporter": "python",
   "pygments_lexer": "ipython3",
   "version": "3.7.4"
  }
 },
 "nbformat": 4,
 "nbformat_minor": 2
}
