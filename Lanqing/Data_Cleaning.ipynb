{
 "cells": [
  {
   "cell_type": "markdown",
   "metadata": {},
   "source": [
    "### Import Data"
   ]
  },
  {
   "cell_type": "code",
   "execution_count": 2,
   "metadata": {},
   "outputs": [],
   "source": [
    "import numpy as np\n",
    "import pandas as pd\n",
    "%matplotlib inline\n",
    "import matplotlib as plt\n",
    "\n",
    "from sklearn.preprocessing import OneHotEncoder\n",
    "from sklearn.impute import SimpleImputer\n",
    "from sklearn.preprocessing import MinMaxScaler\n",
    "from sklearn.preprocessing import StandardScaler"
   ]
  },
  {
   "cell_type": "code",
   "execution_count": 3,
   "metadata": {},
   "outputs": [],
   "source": [
    "train = pd.read_csv('Model Train.csv').drop('Unnamed: 0', axis=1)\n",
    "test = pd.read_csv('Model Test.csv')\n",
    "k_test = pd.read_csv('test.csv')\n",
    "total = pd.read_csv('train.csv')"
   ]
  },
  {
   "cell_type": "code",
   "execution_count": 4,
   "metadata": {},
   "outputs": [],
   "source": [
    "columns = ['Id', 'RoofStyle', 'RoofMatl', 'Exterior1st', 'Exterior2nd', 'MasVnrType', 'MasVnrArea', 'ExterQual',\n",
    "           'ExterCond', 'Foundation', 'BsmtQual', 'BsmtCond', 'BsmtExposure','BsmtFinType1', \n",
    "           'BsmtFinSF1', 'BsmtFinType2', 'BsmtFinSF2', 'BsmtUnfSF', 'TotalBsmtSF']"
   ]
  },
  {
   "cell_type": "code",
   "execution_count": 5,
   "metadata": {},
   "outputs": [],
   "source": [
    "train_df = train[columns].copy()\n",
    "test_df = test[columns].copy()\n",
    "k_test_df = k_test[columns].copy()\n",
    "total = total[columns]"
   ]
  },
  {
   "cell_type": "markdown",
   "metadata": {},
   "source": [
    "### Missingness"
   ]
  },
  {
   "cell_type": "markdown",
   "metadata": {},
   "source": [
    "#### Special Inputation"
   ]
  },
  {
   "cell_type": "code",
   "execution_count": 6,
   "metadata": {},
   "outputs": [],
   "source": [
    "# NA means no basement thus fill with 0\n",
    "# It's very likely the NAs houses don't have Masonry veneer\n",
    "columns = ['BsmtQual', 'BsmtCond', 'BsmtExposure', 'BsmtFinType1', 'BsmtFinType2', 'MasVnrArea']\n",
    "for i in columns:\n",
    "    train_df[i].fillna(0, inplace=True)\n",
    "    test_df[i].fillna(0, inplace=True)\n",
    "    k_test_df[i].fillna(0, inplace=True)\n",
    "    total[i].fillna(0, inplace=True)\n",
    "train_df['MasVnrType'].fillna(\"None\", inplace=True)\n",
    "test_df['MasVnrType'].fillna(\"None\", inplace=True)\n",
    "k_test_df['MasVnrType'].fillna(\"None\", inplace=True)\n",
    "total['MasVnrType'].fillna(\"None\", inplace=True)"
   ]
  },
  {
   "cell_type": "code",
   "execution_count": 7,
   "metadata": {},
   "outputs": [
    {
     "name": "stdout",
     "output_type": "stream",
     "text": [
      "0\n",
      "0\n",
      "6\n",
      "0\n"
     ]
    }
   ],
   "source": [
    "print(train_df.isnull().sum().sum())\n",
    "print(test_df.isnull().sum().sum())\n",
    "print(k_test_df.isnull().sum().sum())\n",
    "print(total.isnull().sum().sum())"
   ]
  },
  {
   "cell_type": "markdown",
   "metadata": {},
   "source": [
    "### Convert Ordinal Variable to Numerical Ranking"
   ]
  },
  {
   "cell_type": "code",
   "execution_count": 8,
   "metadata": {},
   "outputs": [],
   "source": [
    "#ExterQual: Evaluates the quality of the material on the exterior\n",
    "replace_ExterQual = {\"Po\" : 1, \"Fa\": 2, 'TA': 3, 'Gd': 4, 'Ex': 5}\n",
    "train_df['ExterQual'] = train_df.ExterQual.replace(replace_ExterQual)\n",
    "test_df['ExterQual'] = test_df.ExterQual.replace(replace_ExterQual)\n",
    "k_test_df['ExterQual'] = k_test_df.ExterQual.replace(replace_ExterQual)\n",
    "total['ExterQual'] = total.ExterQual.replace(replace_ExterQual)\n",
    "\n",
    "#ExterCond: Evaluates the present condition of the material on the exterior\n",
    "replace_ExterCond = {\"Po\" : 1, \"Fa\": 2, 'TA': 3, 'Gd': 4, 'Ex': 5}\n",
    "train_df['ExterCond'] = train_df.ExterCond.replace(replace_ExterCond)\n",
    "test_df['ExterCond'] = test_df.ExterCond.replace(replace_ExterCond)\n",
    "k_test_df['ExterCond'] = k_test_df.ExterCond.replace(replace_ExterCond)\n",
    "total['ExterCond'] = total.ExterCond.replace(replace_ExterCond)\n",
    "\n",
    "#BsmtQual: Evaluates the height of the basement\n",
    "replace_BsmtQual = {\"Po\": 1, \"Fa\": 2, 'TA': 3, 'Gd': 4, 'Ex': 5}\n",
    "train_df['BsmtQual'] = train_df.BsmtQual.replace(replace_BsmtQual)\n",
    "test_df['BsmtQual'] = test_df.BsmtQual.replace(replace_BsmtQual)\n",
    "k_test_df['BsmtQual'] = k_test_df.BsmtQual.replace(replace_BsmtQual)\n",
    "total['BsmtQual'] = total.BsmtQual.replace(replace_BsmtQual)\n",
    "\n",
    "#BsmtCond: Evaluates the general condition of the basement\n",
    "replace_BsmtCond = {\"Po\": 1, \"Fa\": 2, 'TA': 3, 'Gd': 4, 'Ex': 5}\n",
    "train_df['BsmtCond'] = train_df.BsmtCond.replace(replace_BsmtCond)\n",
    "train_df['BsmtCond'] = train_df['BsmtCond'].astype(str).astype(int)\n",
    "test_df['BsmtCond'] = test_df.BsmtCond.replace(replace_BsmtCond)\n",
    "test_df['BsmtCond'] = test_df['BsmtCond'].astype(str).astype(int)\n",
    "k_test_df['BsmtCond'] = k_test_df.BsmtCond.replace(replace_BsmtCond)\n",
    "k_test_df['BsmtCond'] = k_test_df['BsmtCond'].astype(str).astype(int)\n",
    "total['BsmtCond'] = total.BsmtCond.replace(replace_BsmtCond)\n",
    "total['BsmtCond'] = total['BsmtCond'].astype(str).astype(int)\n",
    "\n",
    "#BsmtExposure: Refers to walkout or garden level walls\n",
    "replace_BsmtExposure = {\"No\": 1, \"Mn\": 2, 'Av': 3, 'Gd': 4}\n",
    "train_df['BsmtExposure'] = train_df.BsmtExposure.replace(replace_BsmtExposure)\n",
    "test_df['BsmtExposure'] = test_df.BsmtExposure.replace(replace_BsmtExposure)\n",
    "k_test_df['BsmtExposure'] = k_test_df.BsmtExposure.replace(replace_BsmtExposure)\n",
    "total['BsmtExposure'] = total.BsmtExposure.replace(replace_BsmtExposure)\n",
    "\n",
    "#BsmtFinType1: Rating of basement finished area\n",
    "replace_BsmtFinType1 = {\"Unf\": 1, \"LwQ\": 2, 'Rec': 3, 'BLQ': 4, 'ALQ': 5, \"GLQ\": 6}\n",
    "train_df['BsmtFinType1'] = train_df.BsmtFinType1.replace(replace_BsmtFinType1)\n",
    "test_df['BsmtFinType1'] = test_df.BsmtFinType1.replace(replace_BsmtFinType1)\n",
    "k_test_df['BsmtFinType1'] = k_test_df.BsmtFinType1.replace(replace_BsmtFinType1)\n",
    "total['BsmtFinType1'] = total.BsmtFinType1.replace(replace_BsmtFinType1)\n",
    "\n",
    "#BsmtFinType2: Rating of basement finished area (if multiple types)\n",
    "replace_BsmtFinType2 = {\"Unf\": 1, \"LwQ\": 2, 'Rec': 3, 'BLQ': 4, 'ALQ': 5, \"GLQ\": 6}\n",
    "train_df['BsmtFinType2'] = train_df.BsmtFinType2.replace(replace_BsmtFinType2)\n",
    "test_df['BsmtFinType2'] = test_df.BsmtFinType2.replace(replace_BsmtFinType2)\n",
    "k_test_df['BsmtFinType2'] = k_test_df.BsmtFinType2.replace(replace_BsmtFinType2)\n",
    "total['BsmtFinType2'] = total.BsmtFinType2.replace(replace_BsmtFinType2)"
   ]
  },
  {
   "cell_type": "code",
   "execution_count": 9,
   "metadata": {},
   "outputs": [
    {
     "name": "stdout",
     "output_type": "stream",
     "text": [
      "Id                int64\n",
      "RoofStyle        object\n",
      "RoofMatl         object\n",
      "Exterior1st      object\n",
      "Exterior2nd      object\n",
      "MasVnrType       object\n",
      "MasVnrArea      float64\n",
      "ExterQual         int64\n",
      "ExterCond         int64\n",
      "Foundation       object\n",
      "BsmtQual          int64\n",
      "BsmtCond          int64\n",
      "BsmtExposure      int64\n",
      "BsmtFinType1      int64\n",
      "BsmtFinSF1      float64\n",
      "BsmtFinType2      int64\n",
      "BsmtFinSF2      float64\n",
      "BsmtUnfSF       float64\n",
      "TotalBsmtSF     float64\n",
      "dtype: object\n"
     ]
    }
   ],
   "source": [
    "print(k_test_df.dtypes)"
   ]
  },
  {
   "cell_type": "markdown",
   "metadata": {},
   "source": [
    "### Feature Transformation "
   ]
  },
  {
   "cell_type": "markdown",
   "metadata": {},
   "source": [
    "### Numerical Features"
   ]
  },
  {
   "cell_type": "code",
   "execution_count": 10,
   "metadata": {},
   "outputs": [],
   "source": [
    "nums = [\"MasVnrArea\", \"BsmtFinSF1\", \"BsmtFinSF2\", \"BsmtUnfSF\", \"TotalBsmtSF\"]"
   ]
  },
  {
   "cell_type": "markdown",
   "metadata": {},
   "source": [
    "#### Inputation"
   ]
  },
  {
   "cell_type": "code",
   "execution_count": 11,
   "metadata": {},
   "outputs": [],
   "source": [
    "inpute_df = SimpleImputer(strategy='median').fit(train_df[nums])"
   ]
  },
  {
   "cell_type": "code",
   "execution_count": 12,
   "metadata": {},
   "outputs": [],
   "source": [
    "train_df[nums] = pd.DataFrame(inpute_df.transform(train_df[nums]), columns=nums)\n",
    "test_df[nums] = pd.DataFrame(inpute_df.transform(test_df[nums]),columns=nums)\n",
    "k_test_df[nums] = pd.DataFrame(inpute_df.transform(k_test_df[nums]),columns=nums)"
   ]
  },
  {
   "cell_type": "markdown",
   "metadata": {},
   "source": [
    "#### Numerical Standardization "
   ]
  },
  {
   "cell_type": "code",
   "execution_count": 13,
   "metadata": {},
   "outputs": [],
   "source": [
    "# log transformation for left skewness\n",
    "train_df[nums] = np.log(train_df[nums] + 1)\n",
    "test_df[nums] = np.log(test_df[nums] + 1)\n",
    "k_test_df[nums] = np.log(k_test_df[nums] + 1)"
   ]
  },
  {
   "cell_type": "code",
   "execution_count": 14,
   "metadata": {},
   "outputs": [],
   "source": [
    "scaled_df = StandardScaler().fit(train_df[nums])"
   ]
  },
  {
   "cell_type": "code",
   "execution_count": 15,
   "metadata": {},
   "outputs": [],
   "source": [
    "train_df[nums] = pd.DataFrame(scaled_df.transform(train_df[nums]), columns=nums)\n",
    "test_df[nums] = pd.DataFrame(scaled_df.transform(test_df[nums]),columns=nums)\n",
    "k_test_df[nums] = pd.DataFrame(scaled_df.transform(k_test_df[nums]),columns=nums)"
   ]
  },
  {
   "cell_type": "markdown",
   "metadata": {},
   "source": [
    "### Ordinal Features"
   ]
  },
  {
   "cell_type": "code",
   "execution_count": 16,
   "metadata": {},
   "outputs": [],
   "source": [
    "ords = ['ExterQual', 'ExterCond', 'BsmtQual', 'BsmtCond', 'BsmtExposure', 'BsmtFinType1', 'BsmtFinType2']"
   ]
  },
  {
   "cell_type": "markdown",
   "metadata": {},
   "source": [
    "#### Inputation"
   ]
  },
  {
   "cell_type": "code",
   "execution_count": 17,
   "metadata": {},
   "outputs": [],
   "source": [
    "inpute_df = SimpleImputer(strategy='median').fit(train_df[ords])"
   ]
  },
  {
   "cell_type": "code",
   "execution_count": 18,
   "metadata": {},
   "outputs": [],
   "source": [
    "train_df[ords] = pd.DataFrame(inpute_df.transform(train_df[ords]), columns=ords)\n",
    "test_df[ords] = pd.DataFrame(inpute_df.transform(test_df[ords]),columns=ords)\n",
    "k_test_df[ords] = pd.DataFrame(inpute_df.transform(k_test_df[ords]),columns=ords)"
   ]
  },
  {
   "cell_type": "markdown",
   "metadata": {},
   "source": [
    "#### Ordinal Standardization "
   ]
  },
  {
   "cell_type": "code",
   "execution_count": 19,
   "metadata": {},
   "outputs": [],
   "source": [
    "scaled_df = StandardScaler().fit(train_df[ords])"
   ]
  },
  {
   "cell_type": "code",
   "execution_count": 20,
   "metadata": {},
   "outputs": [],
   "source": [
    "train_df[ords] = pd.DataFrame(scaled_df.transform(train_df[ords]), columns=ords)\n",
    "test_df[ords] = pd.DataFrame(scaled_df.transform(test_df[ords]),columns=ords)\n",
    "k_test_df[ords] = pd.DataFrame(scaled_df.transform(k_test_df[ords]),columns=ords)"
   ]
  },
  {
   "cell_type": "markdown",
   "metadata": {},
   "source": [
    "### Nominal Features"
   ]
  },
  {
   "cell_type": "code",
   "execution_count": 21,
   "metadata": {},
   "outputs": [
    {
     "data": {
      "text/plain": [
       "['RoofStyle',\n",
       " 'RoofMatl',\n",
       " 'Exterior1st',\n",
       " 'Exterior2nd',\n",
       " 'MasVnrType',\n",
       " 'Foundation']"
      ]
     },
     "execution_count": 21,
     "metadata": {},
     "output_type": "execute_result"
    }
   ],
   "source": [
    "cats = list(train_df.select_dtypes('object').columns)\n",
    "cats"
   ]
  },
  {
   "cell_type": "markdown",
   "metadata": {},
   "source": [
    "#### Inputation"
   ]
  },
  {
   "cell_type": "code",
   "execution_count": 22,
   "metadata": {},
   "outputs": [],
   "source": [
    "inpute_df = SimpleImputer(strategy='most_frequent').fit(total[cats])"
   ]
  },
  {
   "cell_type": "code",
   "execution_count": 23,
   "metadata": {},
   "outputs": [],
   "source": [
    "train_df[cats] = pd.DataFrame(inpute_df.transform(train_df[cats]), columns=cats)\n",
    "test_df[cats] = pd.DataFrame(inpute_df.transform(test_df[cats]), columns=cats)\n",
    "k_test_df[cats] = pd.DataFrame(inpute_df.transform(k_test_df[cats]), columns=cats)"
   ]
  },
  {
   "cell_type": "markdown",
   "metadata": {},
   "source": [
    "#### Nominal Transformation (One Hot Encoding)"
   ]
  },
  {
   "cell_type": "code",
   "execution_count": 24,
   "metadata": {},
   "outputs": [],
   "source": [
    "drop_col = total[cats].apply(lambda x: x.value_counts().index[0])\n",
    "cat_ohe = OneHotEncoder(categories='auto', drop=drop_col, sparse = False)\n",
    "cat_ohe = cat_ohe.fit(total[cats])\n",
    "cols = cat_ohe.get_feature_names(cats)"
   ]
  },
  {
   "cell_type": "code",
   "execution_count": 25,
   "metadata": {},
   "outputs": [],
   "source": [
    "train_df_clean = pd.DataFrame(cat_ohe.transform(train_df[cats]), columns=cols )\n",
    "test_df_clean = pd.DataFrame(cat_ohe.transform(test_df[cats]), columns=cols )\n",
    "k_test_df_clean = pd.DataFrame(cat_ohe.transform(k_test_df[cats]), columns=cols )"
   ]
  },
  {
   "cell_type": "markdown",
   "metadata": {},
   "source": [
    "### Final"
   ]
  },
  {
   "cell_type": "code",
   "execution_count": 26,
   "metadata": {},
   "outputs": [],
   "source": [
    "train_final = pd.concat([train_df['Id'], train_df[nums], train_df[ords], train_df_clean], axis=1)\n",
    "test_final = pd.concat([test_df['Id'], test_df[nums], test_df[ords], test_df_clean], axis=1)\n",
    "k_test_final = pd.concat([k_test_df['Id'], k_test_df[nums], k_test_df[ords], k_test_df_clean], axis=1)"
   ]
  },
  {
   "cell_type": "code",
   "execution_count": 27,
   "metadata": {},
   "outputs": [],
   "source": [
    "train_final.to_csv('data/train_lanqing.csv')\n",
    "test_final.to_csv('data/test_lanqing.csv')\n",
    "k_test_final.to_csv('data/Ktest_lanqing.csv')"
   ]
  },
  {
   "cell_type": "code",
   "execution_count": null,
   "metadata": {},
   "outputs": [],
   "source": []
  }
 ],
 "metadata": {
  "kernelspec": {
   "display_name": "Python 3",
   "language": "python",
   "name": "python3"
  },
  "language_info": {
   "codemirror_mode": {
    "name": "ipython",
    "version": 3
   },
   "file_extension": ".py",
   "mimetype": "text/x-python",
   "name": "python",
   "nbconvert_exporter": "python",
   "pygments_lexer": "ipython3",
   "version": "3.7.4"
  }
 },
 "nbformat": 4,
 "nbformat_minor": 2
}
